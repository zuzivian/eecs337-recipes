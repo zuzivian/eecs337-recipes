{
 "cells": [
  {
   "cell_type": "code",
   "execution_count": 80,
   "metadata": {},
   "outputs": [],
   "source": [
    "from framework import *"
   ]
  },
  {
   "cell_type": "code",
   "execution_count": 2,
   "metadata": {},
   "outputs": [
    {
     "name": "stdout",
     "output_type": "stream",
     "text": [
      "{'name': 'lasagna noodles', 'quantity': '9', 'measurement': 'NoItem'}\n",
      "{'name': 'butter', 'quantity': '1/2', 'measurement': 'cup'}\n",
      "{'name': 'onion', 'quantity': '1', 'measurement': 'NoItem'}\n",
      "{'name': 'garlic', 'quantity': '1', 'measurement': 'clove'}\n",
      "{'name': 'flour', 'quantity': '1/2', 'measurement': 'cup'}\n",
      "{'name': 'salt', 'quantity': '1', 'measurement': 'teaspoon'}\n",
      "{'name': 'broth', 'quantity': '2', 'measurement': 'cup'}\n",
      "{'name': 'milk', 'quantity': '1/2', 'measurement': 'cup'}\n",
      "{'name': 'mozzarella cheese', 'quantity': '4', 'measurement': 'cup'}\n",
      "{'name': 'Parmesan', 'quantity': '1', 'measurement': 'cup'}\n",
      "{'name': 'basil', 'quantity': '1', 'measurement': 'teaspoon'}\n",
      "{'name': 'oregano', 'quantity': '1', 'measurement': 'teaspoon'}\n",
      "{'name': 'ground', 'quantity': '1/2', 'measurement': 'teaspoon'}\n",
      "{'name': 'ricotta cheese', 'quantity': '2', 'measurement': 'cup'}\n",
      "{'name': 'meat', 'quantity': '2', 'measurement': 'cup'}\n",
      "{'name': 'spinach', 'quantity': '10', 'measurement': 'ounce'}\n",
      "{'name': 'parsley', 'quantity': '1', 'measurement': 'tablespoon'}\n",
      "{'name': 'Parmesan cheese', 'quantity': '1/4', 'measurement': 'cup'}\n",
      "[{'name': 'lasagna noodles', 'quantity': '9', 'measurement': 'NoItem'}, {'name': 'butter', 'quantity': '1/2', 'measurement': 'cup'}, {'name': 'onion', 'quantity': '1', 'measurement': 'NoItem'}, {'name': 'garlic', 'quantity': '1', 'measurement': 'clove'}, {'name': 'flour', 'quantity': '1/2', 'measurement': 'cup'}, {'name': 'salt', 'quantity': '1', 'measurement': 'teaspoon'}, {'name': 'broth', 'quantity': '2', 'measurement': 'cup'}, {'name': 'milk', 'quantity': '1/2', 'measurement': 'cup'}, {'name': 'mozzarella cheese', 'quantity': '4', 'measurement': 'cup'}, {'name': 'Parmesan', 'quantity': '1', 'measurement': 'cup'}, {'name': 'basil', 'quantity': '1', 'measurement': 'teaspoon'}, {'name': 'oregano', 'quantity': '1', 'measurement': 'teaspoon'}, {'name': 'ground', 'quantity': '1/2', 'measurement': 'teaspoon'}, {'name': 'ricotta cheese', 'quantity': '2', 'measurement': 'cup'}, {'name': 'meat', 'quantity': '2', 'measurement': 'cup'}, {'name': 'spinach', 'quantity': '10', 'measurement': 'ounce'}, {'name': 'parsley', 'quantity': '1', 'measurement': 'tablespoon'}, {'name': 'Parmesan cheese', 'quantity': '1/4', 'measurement': 'cup'}]\n",
      "Recipe File already exists\n",
      "['Ingredients:\\n',\n",
      " 'Mashed potato layer:\\n',\n",
      " '5 russet potatoes, peeled and cut into 1-inch cubes\\n',\n",
      " '1/2 cup vegan mayonnaise\\n',\n",
      " '1/2 cup soy milk\\n',\n",
      " '1/4 cup olive oil\\n',\n",
      " '2 teaspoons salt\\n',\n",
      " 'Bottom layer:\\n',\n",
      " '1 tablespoon vegetable oil\\n',\n",
      " '1 large yellow onion, chopped\\n',\n",
      " '2 carrots, chopped\\n',\n",
      " '3 stalks celery, chopped\\n',\n",
      " '1/2 cup frozen peas\\n',\n",
      " '1 tomato, chopped\\n',\n",
      " '1 teaspoon Italian seasoning\\n',\n",
      " '1 clove garlic, minced, or more to taste\\n',\n",
      " '1 pinch ground black pepper to taste\\n',\n",
      " '1 (14 ounce) package vegetarian ground beef substitute\\n',\n",
      " '1/2 cup shredded Cheddar-style soy cheese\\n',\n",
      " '\\n',\n",
      " 'Directions:\\n',\n",
      " 'Place the potatoes in a pot, cover with cold water, and bring to a boil over '\n",
      " 'medium-high heat. Turn the heat to medium-low, and boil the potatoes until '\n",
      " 'tender, about 25 minutes; drain.                            \\n',\n",
      " 'Stir the vegan mayonnaise, soy milk, olive oil, vegan cream cheese, and salt '\n",
      " 'into the potatoes, and mash with a potato masher until smooth and fluffy. '\n",
      " 'Set the potatoes aside.                            \\n',\n",
      " 'Preheat oven to 400 degrees F (200 degrees C), and spray a 2-quart baking '\n",
      " 'dish with cooking spray.                            \\n',\n",
      " 'Heat the vegetable oil in a large skillet over medium heat, and cook and '\n",
      " 'stir the onion, carrots, celery, frozen peas, and tomato until softened, '\n",
      " 'about 10 minutes. Stir in the Italian seasoning, garlic, and '\n",
      " 'pepper.                            \\n',\n",
      " 'Reduce the heat to medium-low, and crumble the vegetarian ground beef '\n",
      " 'substitute into the skillet with the vegetables. Cook and stir, breaking up '\n",
      " 'the meat substitute, until the mixture is hot, about 5 '\n",
      " 'minutes.                            \\n',\n",
      " 'Spread the vegetarian meat substitute mixture into the bottom of the baking '\n",
      " 'dish, and top with the mashed potatoes, smoothing them into an even layer. '\n",
      " 'Sprinkle the potatoes with the shredded soy '\n",
      " 'cheese.                            \\n',\n",
      " 'Bake in the preheated oven until the cheese is melted and slightly browned '\n",
      " 'and the casserole is hot, about 20 minutes.                            \\n']\n",
      "{'name': 'Mashed potato layer', 'quantity': 'Mashed', 'measurement': 'NoItem'}\n",
      "{'name': 'russet potatoes', 'quantity': '5', 'measurement': 'NoItem'}\n",
      "{'name': 'vegan', 'quantity': '1/2', 'measurement': 'cup'}\n",
      "{'name': 'soy milk', 'quantity': '1/2', 'measurement': 'cup'}\n",
      "{'name': 'oil', 'quantity': '1/4', 'measurement': 'cup'}\n",
      "{'name': 'salt', 'quantity': '2', 'measurement': 'teaspoon'}\n",
      "{'name': 'Bottom layer', 'quantity': 'Bottom', 'measurement': 'NoItem'}\n",
      "{'name': 'oil', 'quantity': '1', 'measurement': 'tablespoon'}\n",
      "{'name': 'onion', 'quantity': '1', 'measurement': 'NoItem'}\n",
      "{'name': 'carrots', 'quantity': '2', 'measurement': 'NoItem'}\n",
      "{'name': 'stalks celery', 'quantity': '3', 'measurement': 'NoItem'}\n",
      "{'name': 'peas', 'quantity': '1/2', 'measurement': 'cup'}\n",
      "{'name': 'tomato', 'quantity': '1', 'measurement': 'NoItem'}\n",
      "{'name': 'seasoning', 'quantity': '1', 'measurement': 'teaspoon'}\n",
      "{'name': 'garlic', 'quantity': '1', 'measurement': 'clove'}\n",
      "{'name': 'ground', 'quantity': '1', 'measurement': 'pinch'}\n",
      "{'name': 'package', 'quantity': '14', 'measurement': 'ounce'}\n",
      "{'name': 'soy cheese', 'quantity': '1/2', 'measurement': 'cup'}\n",
      "[[{'conditions': None,\n",
      "   'ingredients': [],\n",
      "   'methods': [],\n",
      "   'raw': 'Place the potatoes in a pot, cover with cold water, and bring to a '\n",
      "          'boil over medium-high heat.',\n",
      "   'times': None,\n",
      "   'tools': ['pot']},\n",
      "  {'conditions': 'until tender',\n",
      "   'ingredients': [],\n",
      "   'methods': [],\n",
      "   'raw': 'Turn the heat to medium-low, and boil the potatoes until tender, '\n",
      "          'about 25 minutes; drain.',\n",
      "   'times': '25 minutes',\n",
      "   'tools': []}],\n",
      " [{'conditions': 'until smooth and fluffy',\n",
      "   'ingredients': ['vegan', 'oil', 'salt', 'oil'],\n",
      "   'methods': [],\n",
      "   'raw': 'Stir the vegan mayonnaise, soy milk, olive oil, vegan cream cheese, '\n",
      "          'and salt into the potatoes, and mash with a potato masher until '\n",
      "          'smooth and fluffy.',\n",
      "   'times': None,\n",
      "   'tools': []},\n",
      "  {'conditions': None,\n",
      "   'ingredients': [],\n",
      "   'methods': [],\n",
      "   'raw': 'Set the potatoes aside.',\n",
      "   'times': None,\n",
      "   'tools': []}],\n",
      " [{'conditions': None,\n",
      "   'ingredients': [],\n",
      "   'methods': [],\n",
      "   'raw': 'Preheat oven to 400 degrees F (200 degrees C), and spray a 2-quart '\n",
      "          'baking dish with cooking spray.',\n",
      "   'times': None,\n",
      "   'tools': ['dish', 'oven']}],\n",
      " [{'conditions': 'until softened',\n",
      "   'ingredients': ['oil', 'oil', 'onion', 'carrots', 'peas', 'tomato'],\n",
      "   'methods': [],\n",
      "   'raw': 'Heat the vegetable oil in a large skillet over medium heat, and '\n",
      "          'cook and stir the onion, carrots, celery, frozen peas, and tomato '\n",
      "          'until softened, about 10 minutes.',\n",
      "   'times': '10 minutes',\n",
      "   'tools': ['skillet']},\n",
      "  {'conditions': None,\n",
      "   'ingredients': ['seasoning', 'garlic'],\n",
      "   'methods': [],\n",
      "   'raw': 'Stir in the Italian seasoning, garlic, and pepper.',\n",
      "   'times': None,\n",
      "   'tools': []}],\n",
      " [{'conditions': None,\n",
      "   'ingredients': ['ground'],\n",
      "   'methods': [],\n",
      "   'raw': 'Reduce the heat to medium-low, and crumble the vegetarian ground '\n",
      "          'beef substitute into the skillet with the vegetables.',\n",
      "   'times': None,\n",
      "   'tools': ['skillet']},\n",
      "  {'conditions': 'until the mixture is hot',\n",
      "   'ingredients': [],\n",
      "   'methods': [],\n",
      "   'raw': 'Cook and stir, breaking up the meat substitute, until the mixture '\n",
      "          'is hot, about 5 minutes.',\n",
      "   'times': '5 minutes',\n",
      "   'tools': []}],\n",
      " [{'conditions': None,\n",
      "   'ingredients': [],\n",
      "   'methods': [],\n",
      "   'raw': 'Spread the vegetarian meat substitute mixture into the bottom of '\n",
      "          'the baking dish, and top with the mashed potatoes, smoothing them '\n",
      "          'into an even layer.',\n",
      "   'times': None,\n",
      "   'tools': ['dish']},\n",
      "  {'conditions': None,\n",
      "   'ingredients': [],\n",
      "   'methods': [],\n",
      "   'raw': 'Sprinkle the potatoes with the shredded soy cheese.',\n",
      "   'times': None,\n",
      "   'tools': []}],\n",
      " [{'conditions': 'until the cheese is melted and slightly browned and the '\n",
      "                 'casserole is hot',\n",
      "   'ingredients': [],\n",
      "   'methods': [],\n",
      "   'raw': 'Bake in the preheated oven until the cheese is melted and slightly '\n",
      "          'browned and the casserole is hot, about 20 minutes.',\n",
      "   'times': '20 minutes',\n",
      "   'tools': ['oven']}]]\n"
     ]
    }
   ],
   "source": [
    "import pandas as pd\n",
    "from nltk import *\n",
    "from framework import *\n",
    "from ingredients import *\n",
    "from helpers import *\n",
    "from AutoCrawl import *\n",
    "from steps import *"
   ]
  },
  {
   "cell_type": "code",
   "execution_count": 76,
   "metadata": {},
   "outputs": [],
   "source": [
    "masterdata = pd.DataFrame()\n",
    "datalist = []\n",
    "txtfilename = 'proteins.csv'\n",
    "\n",
    "directory = \".\\data\\\\\" + txtfilename\n",
    "masterdata = pd.read_csv(directory, delimiter=',', header = 0)\n",
    "#masterdata"
   ]
  },
  {
   "cell_type": "code",
   "execution_count": 78,
   "metadata": {},
   "outputs": [
    {
     "data": {
      "text/plain": [
       "'meat'"
      ]
     },
     "execution_count": 78,
     "metadata": {},
     "output_type": "execute_result"
    }
   ],
   "source": [
    "def proteinType(input_protein, masterdata):\n",
    "    protype = masterdata[masterdata['protein'] == input_protein]['veg_dim'].item()\n",
    "    return protype\n",
    "\n",
    "def proteinSub(input_protein, masterdata):\n",
    "    replacement = masterdata[masterdata['protein'] == input_protein]['veg_closest'].item()\n",
    "    return replacement\n",
    "\n"
   ]
  },
  {
   "cell_type": "code",
   "execution_count": 81,
   "metadata": {
    "scrolled": true
   },
   "outputs": [
    {
     "name": "stdout",
     "output_type": "stream",
     "text": [
      "Recipe File already exists\n"
     ]
    },
    {
     "data": {
      "text/plain": [
       "['Ingredients:\\n',\n",
       " '4 (1/2 pound) beef cube steaks\\n',\n",
       " '2 cups all-purpose flour\\n',\n",
       " '2 teaspoons baking powder\\n',\n",
       " '1 teaspoon baking soda\\n',\n",
       " '1 teaspoon black pepper\\n',\n",
       " '3/4 teaspoon salt\\n',\n",
       " '1 1/2 cups buttermilk\\n',\n",
       " '1 egg\\n',\n",
       " '2 cloves garlic, minced\\n',\n",
       " '3 cups vegetable shortening for deep frying\\n',\n",
       " '1/4 cup all-purpose flour\\n',\n",
       " '4 cups milk\\n',\n",
       " 'kosher salt and ground black pepper to taste\\n',\n",
       " '\\n',\n",
       " 'Directions:\\n',\n",
       " 'Pound the steaks to about 1/4-inch thickness. Place 2 cups of  flour in a shallow bowl. Stir together the baking powder, baking soda, pepper, and salt in a separate shallow bowl; stir in the buttermilk, egg, Tabasco Sauce, and garlic. Dredge each steak first in the flour, then in the batter, and again in the flour. Pat the flour onto the surface of each steak so they are completely coated with dry flour.                            \\n',\n",
       " 'Heat the shortening in a deep cast-iron skillet to 325 degrees F (165 degrees C). Fry the steaks until evenly golden brown, 3 to 5 minutes per side. Place fried steaks on a plate with paper towels to drain. Drain the fat from the skillet, reserving 1/4 cup of the liquid and as much of the solid remnants as possible.                            \\n',\n",
       " 'Return the skillet to medium-low heat with the reserved oil. Whisk the remaining flour into the oil. Scrape the bottom of the pan with a spatula to release solids into the gravy. Stir in the milk, raise the heat to medium, and bring the gravy to a simmer, cook until thick, 6 to 7 minutes. Season with kosher salt and pepper. Spoon the gravy over the steaks to serve.                            \\n']"
      ]
     },
     "execution_count": 81,
     "metadata": {},
     "output_type": "execute_result"
    }
   ],
   "source": [
    "text = GetData(\"https://www.allrecipes.com/recipe/150306/the-best-chicken-fried-steak/\")\n",
    "#text = GetData(\"https://www.allrecipes.com/recipe/8758/white-cheese-chicken-lasagna/\")"
   ]
  },
  {
   "cell_type": "code",
   "execution_count": 82,
   "metadata": {},
   "outputs": [
    {
     "name": "stdout",
     "output_type": "stream",
     "text": [
      "{'name': 'beef steaks', 'quantity': '1/2', 'measurement': 'pound'}\n",
      "{'name': 'flour', 'quantity': '2', 'measurement': 'cup'}\n",
      "{'name': 'powder', 'quantity': '2', 'measurement': 'teaspoon'}\n",
      "{'name': 'baking soda', 'quantity': '1', 'measurement': 'teaspoon'}\n",
      "{'name': 'pepper', 'quantity': '1', 'measurement': 'teaspoon'}\n",
      "{'name': 'salt', 'quantity': '3/4', 'measurement': 'teaspoon'}\n",
      "{'name': 'buttermilk', 'quantity': '1/2', 'measurement': 'cup'}\n",
      "{'name': 'egg', 'quantity': '1', 'measurement': 'NoItem'}\n",
      "{'name': 'garlic , minced', 'quantity': '2', 'measurement': 'clove'}\n",
      "{'name': 'frying', 'quantity': '3', 'measurement': 'cup'}\n",
      "{'name': 'flour', 'quantity': '1/4', 'measurement': 'cup'}\n",
      "{'name': 'milk', 'quantity': '4', 'measurement': 'cup'}\n",
      "{'name': 'kosher salt', 'quantity': 'kosher', 'measurement': 'NoItem'}\n",
      "{'name': 'beef steaks', 'quantity': '1/2', 'measurement': 'pound'}\n",
      "{'name': 'flour', 'quantity': '2', 'measurement': 'cup'}\n",
      "{'name': 'powder', 'quantity': '2', 'measurement': 'teaspoon'}\n",
      "{'name': 'baking soda', 'quantity': '1', 'measurement': 'teaspoon'}\n",
      "{'name': 'pepper', 'quantity': '1', 'measurement': 'teaspoon'}\n",
      "{'name': 'salt', 'quantity': '3/4', 'measurement': 'teaspoon'}\n",
      "{'name': 'buttermilk', 'quantity': '1/2', 'measurement': 'cup'}\n",
      "{'name': 'egg', 'quantity': '1', 'measurement': 'NoItem'}\n",
      "{'name': 'garlic , minced', 'quantity': '2', 'measurement': 'clove'}\n",
      "{'name': 'frying', 'quantity': '3', 'measurement': 'cup'}\n",
      "{'name': 'flour', 'quantity': '1/4', 'measurement': 'cup'}\n",
      "{'name': 'milk', 'quantity': '4', 'measurement': 'cup'}\n",
      "{'name': 'kosher salt', 'quantity': 'kosher', 'measurement': 'NoItem'}\n"
     ]
    }
   ],
   "source": [
    "ingredientlist = GetIngredients(text)\n",
    "\n",
    "def ingredToVeg(inglist):\n",
    "    replacedict = {}\n",
    "    for ingfull in inglist:\n",
    "        print(ingfull)\n",
    "        ingredient = ingfull['name'].split()\n",
    "        indict = set(ingredient).intersection(set(masterdata['protein']))\n",
    "        if len(indict) > 0:\n",
    "            indictlist = list(indict)\n",
    "            for i in range(len(indictlist)):\n",
    "                item = indictlist[i]\n",
    "                typecheck = proteinType(item, masterdata)\n",
    "                if typecheck == \"meat\":\n",
    "                    typereplace = proteinSub(item, masterdata)\n",
    "                    replacedict[ingfull['name']] = typereplace\n",
    "                else:\n",
    "                    typereplace = item\n",
    "    return replacedict\n",
    "\n",
    "replacementdict = ingredToVeg(ingredientlist)"
   ]
  },
  {
   "cell_type": "code",
   "execution_count": 96,
   "metadata": {},
   "outputs": [
    {
     "name": "stdout",
     "output_type": "stream",
     "text": [
      "{'name': 'beef steaks', 'quantity': '1/2', 'measurement': 'pound'}\n",
      "{'name': 'flour', 'quantity': '2', 'measurement': 'cup'}\n",
      "{'name': 'powder', 'quantity': '2', 'measurement': 'teaspoon'}\n",
      "{'name': 'baking soda', 'quantity': '1', 'measurement': 'teaspoon'}\n",
      "{'name': 'pepper', 'quantity': '1', 'measurement': 'teaspoon'}\n",
      "{'name': 'salt', 'quantity': '3/4', 'measurement': 'teaspoon'}\n",
      "{'name': 'buttermilk', 'quantity': '1/2', 'measurement': 'cup'}\n",
      "{'name': 'egg', 'quantity': '1', 'measurement': 'NoItem'}\n",
      "{'name': 'garlic , minced', 'quantity': '2', 'measurement': 'clove'}\n",
      "{'name': 'frying', 'quantity': '3', 'measurement': 'cup'}\n",
      "{'name': 'flour', 'quantity': '1/4', 'measurement': 'cup'}\n",
      "{'name': 'milk', 'quantity': '4', 'measurement': 'cup'}\n",
      "{'name': 'kosher salt', 'quantity': 'kosher', 'measurement': 'NoItem'}\n",
      "buttermilk\n",
      "soy milk\n",
      "egg\n",
      "fake egg\n"
     ]
    },
    {
     "data": {
      "text/plain": [
       "[[{'raw': 'Pound the steaks to about 1/4-inch thickness.',\n",
       "   'methods': [],\n",
       "   'ingredients': [],\n",
       "   'tools': [],\n",
       "   'times': None,\n",
       "   'conditions': None},\n",
       "  {'raw': 'Place 2 cups of  flour in a shallow bowl.',\n",
       "   'methods': [],\n",
       "   'ingredients': ['flour', 'flour'],\n",
       "   'tools': ['bowl'],\n",
       "   'times': None,\n",
       "   'conditions': None},\n",
       "  {'raw': 'Stir together the baking powder, baking soda, pepper, and salt in a separate shallow bowl; stir in the soy milk, fake egg, Tabasco Sauce, and garlic.',\n",
       "   'methods': [],\n",
       "   'ingredients': ['powder', 'pepper', 'salt', 'soy milk', 'fake egg'],\n",
       "   'tools': ['bowl'],\n",
       "   'times': None,\n",
       "   'conditions': None},\n",
       "  {'raw': 'Dredge each steak first in the flour, then in the batter, and again in the flour.',\n",
       "   'methods': [],\n",
       "   'ingredients': ['flour', 'flour'],\n",
       "   'tools': [],\n",
       "   'times': None,\n",
       "   'conditions': None},\n",
       "  {'raw': 'Pat the flour onto the surface of each steak so they are completely coated with dry flour.',\n",
       "   'methods': [],\n",
       "   'ingredients': ['flour', 'flour'],\n",
       "   'tools': [],\n",
       "   'times': None,\n",
       "   'conditions': None}],\n",
       " [{'raw': 'Heat the shortening in a deep cast-iron skillet to 325 degrees F (165 degrees C).',\n",
       "   'methods': [],\n",
       "   'ingredients': [],\n",
       "   'tools': ['skillet'],\n",
       "   'times': None,\n",
       "   'conditions': None},\n",
       "  {'raw': 'Fry the steaks until evenly golden brown, 3 to 5 minutes per side.',\n",
       "   'methods': [],\n",
       "   'ingredients': [],\n",
       "   'tools': [],\n",
       "   'times': '3 to 5 minutes',\n",
       "   'conditions': 'until evenly golden brown'},\n",
       "  {'raw': 'Place fried steaks on a plate with paper towels to drain.',\n",
       "   'methods': [],\n",
       "   'ingredients': [],\n",
       "   'tools': ['towels'],\n",
       "   'times': None,\n",
       "   'conditions': None},\n",
       "  {'raw': 'Drain the fat from the skillet, reserving 1/4 cup of the liquid and as much of the solid remnants as possible.',\n",
       "   'methods': [],\n",
       "   'ingredients': [],\n",
       "   'tools': ['skillet'],\n",
       "   'times': None,\n",
       "   'conditions': None}],\n",
       " [{'raw': 'Return the skillet to medium-low heat with the reserved oil.',\n",
       "   'methods': [],\n",
       "   'ingredients': [],\n",
       "   'tools': ['skillet'],\n",
       "   'times': None,\n",
       "   'conditions': None},\n",
       "  {'raw': 'Whisk the remaining flour into the oil.',\n",
       "   'methods': [],\n",
       "   'ingredients': ['flour', 'flour'],\n",
       "   'tools': ['whisk'],\n",
       "   'times': None,\n",
       "   'conditions': None},\n",
       "  {'raw': 'Scrape the bottom of the pan with a spatula to release solids into the gravy.',\n",
       "   'methods': [],\n",
       "   'ingredients': [],\n",
       "   'tools': ['spatula', 'pan'],\n",
       "   'times': None,\n",
       "   'conditions': None},\n",
       "  {'raw': 'Stir in the milk, raise the heat to medium, and bring the gravy to a simmer, cook until thick, 6 to 7 minutes.',\n",
       "   'methods': [],\n",
       "   'ingredients': ['milk'],\n",
       "   'tools': [],\n",
       "   'times': '6 to 7 minutes',\n",
       "   'conditions': 'until thick'},\n",
       "  {'raw': 'Season with kosher salt and pepper.',\n",
       "   'methods': [],\n",
       "   'ingredients': ['pepper', 'salt'],\n",
       "   'tools': [],\n",
       "   'times': None,\n",
       "   'conditions': None},\n",
       "  {'raw': 'Spoon the gravy over the steaks to serve.',\n",
       "   'methods': [],\n",
       "   'ingredients': [],\n",
       "   'tools': [],\n",
       "   'times': None,\n",
       "   'conditions': None}]]"
      ]
     },
     "execution_count": 96,
     "metadata": {},
     "output_type": "execute_result"
    }
   ],
   "source": [
    "stepsIns = GetSteps(text)\n",
    "\n",
    "def replaceIngrInSteps(steps, replacementdict):\n",
    "    for step in steps:\n",
    "        for substep in step:\n",
    "            if len(set(substep['ingredients']).intersection(set(replacementdict.keys()))) > 0:\n",
    "                tobereplace = substep['ingredients']\n",
    "                substep['ingredients'] = []\n",
    "                for i in range(len(tobereplace)):\n",
    "                    if tobereplace[i] in list(replacementdict.keys()):\n",
    "                        newitem = replacementdict[tobereplace[i]]\n",
    "                        substep['ingredients'].append(newitem)\n",
    "                        print(tobereplace[i])\n",
    "                        print(newitem)\n",
    "                        substep['raw'] = substep['raw'].replace(tobereplace[i], newitem)\n",
    "                    else:\n",
    "                        substep['ingredients'].append(tobereplace[i])\n",
    "                        \n",
    "    return steps\n",
    "\n",
    "replaceIngrInSteps(stepsIns, replacementdict)"
   ]
  },
  {
   "cell_type": "code",
   "execution_count": 32,
   "metadata": {},
   "outputs": [
    {
     "data": {
      "text/plain": [
       "'beef'"
      ]
     },
     "execution_count": 32,
     "metadata": {},
     "output_type": "execute_result"
    }
   ],
   "source": [
    "list({'beef'})[0]"
   ]
  },
  {
   "cell_type": "code",
   "execution_count": 33,
   "metadata": {},
   "outputs": [
    {
     "data": {
      "text/plain": [
       "'vegetarian'"
      ]
     },
     "execution_count": 33,
     "metadata": {},
     "output_type": "execute_result"
    }
   ],
   "source": [
    "proteinType('egg', masterdata)"
   ]
  },
  {
   "cell_type": "code",
   "execution_count": 34,
   "metadata": {},
   "outputs": [
    {
     "data": {
      "text/plain": [
       "5    vegetarian\n",
       "Name: veg_dim, dtype: object"
      ]
     },
     "execution_count": 34,
     "metadata": {},
     "output_type": "execute_result"
    }
   ],
   "source": [
    "k = masterdata[masterdata['protein'] == 'egg']['veg_dim']\n",
    "k"
   ]
  },
  {
   "cell_type": "code",
   "execution_count": 35,
   "metadata": {},
   "outputs": [
    {
     "data": {
      "text/plain": [
       "'vegetarian'"
      ]
     },
     "execution_count": 35,
     "metadata": {},
     "output_type": "execute_result"
    }
   ],
   "source": [
    "proteinType('beef', masterdata)\n",
    "proteinSub('beef', masterdata)\n",
    "proteinType('beef', masterdata)\n",
    "replacementdict"
   ]
  },
  {
   "cell_type": "code",
   "execution_count": null,
   "metadata": {},
   "outputs": [],
   "source": []
  },
  {
   "cell_type": "code",
   "execution_count": null,
   "metadata": {},
   "outputs": [],
   "source": []
  }
 ],
 "metadata": {
  "kernelspec": {
   "display_name": "Python 3",
   "language": "python",
   "name": "python3"
  },
  "language_info": {
   "codemirror_mode": {
    "name": "ipython",
    "version": 3
   },
   "file_extension": ".py",
   "mimetype": "text/x-python",
   "name": "python",
   "nbconvert_exporter": "python",
   "pygments_lexer": "ipython3",
   "version": "3.7.0"
  }
 },
 "nbformat": 4,
 "nbformat_minor": 2
}
