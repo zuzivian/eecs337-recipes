{
 "cells": [
  {
   "cell_type": "markdown",
   "metadata": {},
   "source": [
    "import pandas as pd\n",
    "from nltk import *"
   ]
  },
  {
   "cell_type": "markdown",
   "metadata": {},
   "source": [
    "from framework import *\n",
    "from ingredients import *\n",
    "from helpers import *\n",
    "from AutoCrawl import *\n",
    "from steps import *"
   ]
  },
  {
   "cell_type": "markdown",
   "metadata": {
    "scrolled": true
   },
   "source": [
    "def getVerbs(text):\n",
    "    methodlist = set()\n",
    "    #sentences = text.split(\"\\n\")\n",
    "    for sentences in text:\n",
    "        method = sentence_verbs(sentences)\n",
    "        methodlist = methodlist.union(set(method))\n",
    "    return list(methodlist)\n",
    "\n",
    "def sentence_verbs(sentence):\n",
    "    vblist = []\n",
    "    subsentencelist = re.split('[;.:]', sentence)\n",
    "    for subs in subsentencelist:\n",
    "        vb = subsentence_verbs(subs)\n",
    "        vblist = vblist + vb\n",
    "    return vblist\n",
    "        \n",
    "def subsentence_verbs(subsentence):\n",
    "    tokens = word_tokenize(subsentence)\n",
    "    tagtup = nltk.pos_tag(tokens)\n",
    "    methodlist = []\n",
    "    for i in range(len(tagtup)):\n",
    "        if i == 0 and tagtup[0][1] not in [\"RB\", \"DT\"]:\n",
    "            methodlist.append(tagtup[i][0].lower())\n",
    "        elif tagtup[i][1] in [\"VB\", \"VBZ\"] and tagtup[i][0] not in ['is', 'are', 'am', 'a', 'an']:\n",
    "            methodlist.append(tagtup[i][0].lower())\n",
    "    return methodlist\n",
    "\n",
    "def getLOfMethods(fname):\n",
    "    with open(fname) as f:\n",
    "        content = f.readlines()\n",
    "    content = [x.strip() for x in content]\n",
    "    content = [x.lower() for x in content]\n",
    "    return content\n",
    "\n",
    "def isCookingMethod(verblist, allmethods):\n",
    "    methods = []\n",
    "    for verb in verblist:\n",
    "        if verb in allmethods:\n",
    "            methods.append(verb)\n",
    "    return methods\n",
    "\n",
    "def isPrepMethod(verblist, cookingmethod):\n",
    "    prepmethod = list(set(verblist) - set(cookingmethod))\n",
    "    return prepmethod\n",
    "\n",
    "def mainIngCookingMethod(mainingr, sentences):\n",
    "    cookingList = set()\n",
    "    for sentence in sentences:\n",
    "        if mainingr in sentence.lower():\n",
    "            method = sentence_verbs(sentence)\n",
    "            cooking = isCookingMethod(method, allmethods)\n",
    "            cookingList = cookingList.union(cooking)\n",
    "\n",
    "    return list(cookingList)\n",
    "\n",
    "def parse_max_cook_time(get_times_result):\n",
    "    timevalue = 0\n",
    "    if isinstance(get_times_result, str) == True:\n",
    "        splitted = get_times_result.split(\" \")\n",
    "        if 'hour' in get_times_result:\n",
    "            timevalue += 3600 * int(splitted[len(splitted)-2])\n",
    "        elif 'minute' in get_times_result:\n",
    "            timevalue += 60 * int(splitted[len(splitted)-2])\n",
    "        elif 'second' in get_times_result:\n",
    "            timevalue += int(splitted[len(splitted)-2])\n",
    "        else:\n",
    "            timevalue += 0\n",
    "    return timevalue\n",
    "\n",
    "def longestCookingMethod(sentences):\n",
    "    minimumtime = 0\n",
    "    for sentence in sentences:\n",
    "        cookingtimestring = get_times(sentence)\n",
    "        cookingtimestep = parse_max_cook_time(cookingtimestring)\n",
    "        if cookingtimestep > 0 and cookingtimestep > minimumtime:\n",
    "            maincookingverb = sentence_verbs(sentence)\n",
    "            maincookingmethod = isCookingMethod(maincookingverb, allmethods)\n",
    "            if len(maincookingmethod) > 0:\n",
    "                minimumtime = cookingtimestep\n",
    "    return maincookingmethod\n",
    "    \n",
    "def getDirections(text):\n",
    "    recipeText = \"\"\n",
    "    recipeText = text[text.index('Directions:\\n') + 1:len(text)]\n",
    "    return recipeText\n",
    "    \n",
    "def getMethodsDict(text, methodlist):\n",
    "    recipeDirectons = getDirections(text)\n",
    "    pri_method = longestCookingMethod(recipeDirectons)\n",
    "    all_methods = getVerbs(recipeDirectons)\n",
    "    addi_method = isPrepMethod(methodlist, pri_method)\n",
    "    methods_dict = {}\n",
    "    methods_dict['primary'] = pri_method\n",
    "    methods_dict['preparatory'] = addi_method\n",
    "    return methods_dict"
   ]
  },
  {
   "cell_type": "markdown",
   "metadata": {},
   "source": [
    "mainingr = 'cauliflower'\n",
    "def ingredientMentionCount(mainingr, sentences):\n",
    "    mentioned = 0\n",
    "    countDict = dict()\n",
    "    for sentence in sentences:\n",
    "        if mainingr in sentence.lower():\n",
    "            mentioned += 1\n",
    "    countDict[mainingr] = mentioned \n",
    "    return countDict\n",
    "\n",
    "ingredientMentionCount(mainingr, sentences)"
   ]
  },
  {
   "cell_type": "code",
   "execution_count": 1,
   "metadata": {},
   "outputs": [
    {
     "name": "stdout",
     "output_type": "stream",
     "text": [
      "Recipe File already exists\n"
     ]
    }
   ],
   "source": [
    "from framework import *"
   ]
  },
  {
   "cell_type": "code",
   "execution_count": 23,
   "metadata": {},
   "outputs": [
    {
     "name": "stdout",
     "output_type": "stream",
     "text": [
      "New Recipe!\n",
      "no recipe.txt existed....\n"
     ]
    }
   ],
   "source": [
    "#recipeText = GetData(\"https://www.allrecipes.com/recipe/221227/honey-brined-fried-chicken-breasts/\")\n",
    "#recipeText = GetData(\"https://www.allrecipes.com/recipe/219981/crab-stuffed-lobster-tail/\")\n",
    "#recipeText = GetData(\"https://www.allrecipes.com/recipe/8758/white-cheese-chicken-lasagna/\")\n",
    "recipeText = GetData(\"https://www.allrecipes.com/recipe/256875/cheesy-sausage-lasagna-soup/\")"
   ]
  },
  {
   "cell_type": "markdown",
   "metadata": {},
   "source": [
    "list_methods = getLOfMethods('ListOfMethods.txt')\n",
    "allmethods = [item.lower() for item in list_methods]\n",
    "recipeText = GetData(\"https://www.allrecipes.com/recipe/219981/crab-stuffed-lobster-tail/\")\n",
    "\n",
    "\n",
    "\n",
    "getMethodsDict(recipeText, allmethods)"
   ]
  },
  {
   "cell_type": "code",
   "execution_count": 24,
   "metadata": {},
   "outputs": [
    {
     "ename": "TypeError",
     "evalue": "'NoneType' object is not iterable",
     "output_type": "error",
     "traceback": [
      "\u001b[1;31m---------------------------------------------------------------------------\u001b[0m",
      "\u001b[1;31mTypeError\u001b[0m                                 Traceback (most recent call last)",
      "\u001b[1;32m<ipython-input-24-f0b701147d39>\u001b[0m in \u001b[0;36m<module>\u001b[1;34m()\u001b[0m\n\u001b[1;32m----> 1\u001b[1;33m \u001b[0mGetIngredients\u001b[0m\u001b[1;33m(\u001b[0m\u001b[0mrecipeText\u001b[0m\u001b[1;33m)\u001b[0m\u001b[1;33m\u001b[0m\u001b[0m\n\u001b[0m\u001b[0;32m      2\u001b[0m \u001b[1;31m#recipeText\u001b[0m\u001b[1;33m\u001b[0m\u001b[1;33m\u001b[0m\u001b[0m\n",
      "\u001b[1;32m~\\Dropbox\\Academics\\EECS337 Natural Language Processing\\eecs337-recipes\\framework.py\u001b[0m in \u001b[0;36mGetIngredients\u001b[1;34m(text)\u001b[0m\n\u001b[0;32m     32\u001b[0m \t\"\"\"\n\u001b[0;32m     33\u001b[0m         \u001b[1;31m# print(FormIngredientList1(text))\u001b[0m\u001b[1;33m\u001b[0m\u001b[1;33m\u001b[0m\u001b[0m\n\u001b[1;32m---> 34\u001b[1;33m         \u001b[1;32mreturn\u001b[0m \u001b[0mFormIngredientList1\u001b[0m\u001b[1;33m(\u001b[0m\u001b[0mtext\u001b[0m\u001b[1;33m)\u001b[0m\u001b[1;33m\u001b[0m\u001b[0m\n\u001b[0m\u001b[0;32m     35\u001b[0m \u001b[1;33m\u001b[0m\u001b[0m\n\u001b[0;32m     36\u001b[0m \u001b[1;33m\u001b[0m\u001b[0m\n",
      "\u001b[1;32m~\\Dropbox\\Academics\\EECS337 Natural Language Processing\\eecs337-recipes\\ingredients.py\u001b[0m in \u001b[0;36mFormIngredientList1\u001b[1;34m(text)\u001b[0m\n\u001b[0;32m    200\u001b[0m         \u001b[0mres\u001b[0m\u001b[1;33m=\u001b[0m\u001b[1;33m[\u001b[0m\u001b[1;33m]\u001b[0m\u001b[1;33m\u001b[0m\u001b[0m\n\u001b[0;32m    201\u001b[0m \u001b[1;33m\u001b[0m\u001b[0m\n\u001b[1;32m--> 202\u001b[1;33m         \u001b[1;32mfor\u001b[0m \u001b[0mline\u001b[0m \u001b[1;32min\u001b[0m \u001b[0mtext\u001b[0m\u001b[1;33m:\u001b[0m\u001b[1;33m\u001b[0m\u001b[0m\n\u001b[0m\u001b[0;32m    203\u001b[0m                 \u001b[1;32mif\u001b[0m \u001b[0mline\u001b[0m\u001b[1;33m==\u001b[0m\u001b[1;33m(\u001b[0m\u001b[1;34m'Directions:'\u001b[0m\u001b[1;33m+\u001b[0m\u001b[1;34m'\\n'\u001b[0m\u001b[1;33m)\u001b[0m\u001b[1;33m:\u001b[0m\u001b[1;33m\u001b[0m\u001b[0m\n\u001b[0;32m    204\u001b[0m                         \u001b[1;32mreturn\u001b[0m \u001b[0mres\u001b[0m\u001b[1;33m\u001b[0m\u001b[0m\n",
      "\u001b[1;31mTypeError\u001b[0m: 'NoneType' object is not iterable"
     ]
    }
   ],
   "source": [
    "GetIngredients(recipeText)\n",
    "#recipeText"
   ]
  },
  {
   "cell_type": "code",
   "execution_count": null,
   "metadata": {},
   "outputs": [],
   "source": [
    "GetSteps(recipeText)"
   ]
  },
  {
   "cell_type": "code",
   "execution_count": null,
   "metadata": {},
   "outputs": [],
   "source": [
    "GetMethods(recipeText)"
   ]
  },
  {
   "cell_type": "code",
   "execution_count": null,
   "metadata": {},
   "outputs": [],
   "source": [
    "Transformation(recipeText,\"vege\")"
   ]
  },
  {
   "cell_type": "markdown",
   "metadata": {},
   "source": [
    "#txtfilename = 'methods.csv'\n",
    "txtfilename = 'proteins.csv'\n",
    "directory = \"./dictionary/\" + txtfilename\n",
    "masterdata = loadTransformTable(directory)"
   ]
  },
  {
   "cell_type": "markdown",
   "metadata": {},
   "source": [
    "list_methods = getLOfMethods('./dictionary/methods.csv')\n",
    "methodlist = [item.lower() for item in list_methods]\n",
    "recipeDirectons = getDirections(recipeText)\n",
    "pri_method = longestCookingMethod(recipeDirectons, methodlist)\n",
    "all_methods = getVerbs(recipeDirectons)\n",
    "addi_method = isPrepMethod(methodlist, pri_method)\n",
    "methods_dict = {}\n",
    "methods_dict['primary'] = pri_method\n",
    "methods_dict['other'] = addi_method"
   ]
  },
  {
   "cell_type": "code",
   "execution_count": null,
   "metadata": {},
   "outputs": [],
   "source": []
  },
  {
   "cell_type": "markdown",
   "metadata": {},
   "source": [
    "tokens = nltk.word_tokenize('Add chicken breasts, and weigh them down with a plate to keep them completely submerged.'.lower())\n",
    "essential_ingr = [get_essentials(ingredient['name']) for ingredient in ingredients if get_essentials(ingredient['name']) in tokens]"
   ]
  },
  {
   "cell_type": "markdown",
   "metadata": {},
   "source": [
    "substep =   {'raw': 'Add chicken breasts, and weigh them down with a plate to keep them completely submerged.',\n",
    "   'methods': ['keep', 'weigh', 'add'],\n",
    "   'ingredients': [],\n",
    "   'tools': [],\n",
    "   'times': None,\n",
    "   'conditions': None}\n",
    "substep['ingredients'] = substep['ingredients'] + essential_ingr\n",
    "substep\n"
   ]
  },
  {
   "cell_type": "code",
   "execution_count": 25,
   "metadata": {},
   "outputs": [],
   "source": [
    "masterdata = loadTransformTable(\"./dictionary/proteins.csv\")"
   ]
  },
  {
   "cell_type": "code",
   "execution_count": 26,
   "metadata": {},
   "outputs": [
    {
     "ename": "TypeError",
     "evalue": "'NoneType' object is not iterable",
     "output_type": "error",
     "traceback": [
      "\u001b[1;31m---------------------------------------------------------------------------\u001b[0m",
      "\u001b[1;31mTypeError\u001b[0m                                 Traceback (most recent call last)",
      "\u001b[1;32m<ipython-input-26-d32b36c8f606>\u001b[0m in \u001b[0;36m<module>\u001b[1;34m()\u001b[0m\n\u001b[1;32m----> 1\u001b[1;33m \u001b[0mingredients\u001b[0m \u001b[1;33m=\u001b[0m \u001b[0mGetIngredients\u001b[0m\u001b[1;33m(\u001b[0m\u001b[0mrecipeText\u001b[0m\u001b[1;33m)\u001b[0m\u001b[1;33m\u001b[0m\u001b[0m\n\u001b[0m\u001b[0;32m      2\u001b[0m \u001b[0mingredients\u001b[0m\u001b[1;33m\u001b[0m\u001b[0m\n",
      "\u001b[1;32m~\\Dropbox\\Academics\\EECS337 Natural Language Processing\\eecs337-recipes\\framework.py\u001b[0m in \u001b[0;36mGetIngredients\u001b[1;34m(text)\u001b[0m\n\u001b[0;32m     32\u001b[0m \t\"\"\"\n\u001b[0;32m     33\u001b[0m         \u001b[1;31m# print(FormIngredientList1(text))\u001b[0m\u001b[1;33m\u001b[0m\u001b[1;33m\u001b[0m\u001b[0m\n\u001b[1;32m---> 34\u001b[1;33m         \u001b[1;32mreturn\u001b[0m \u001b[0mFormIngredientList1\u001b[0m\u001b[1;33m(\u001b[0m\u001b[0mtext\u001b[0m\u001b[1;33m)\u001b[0m\u001b[1;33m\u001b[0m\u001b[0m\n\u001b[0m\u001b[0;32m     35\u001b[0m \u001b[1;33m\u001b[0m\u001b[0m\n\u001b[0;32m     36\u001b[0m \u001b[1;33m\u001b[0m\u001b[0m\n",
      "\u001b[1;32m~\\Dropbox\\Academics\\EECS337 Natural Language Processing\\eecs337-recipes\\ingredients.py\u001b[0m in \u001b[0;36mFormIngredientList1\u001b[1;34m(text)\u001b[0m\n\u001b[0;32m    200\u001b[0m         \u001b[0mres\u001b[0m\u001b[1;33m=\u001b[0m\u001b[1;33m[\u001b[0m\u001b[1;33m]\u001b[0m\u001b[1;33m\u001b[0m\u001b[0m\n\u001b[0;32m    201\u001b[0m \u001b[1;33m\u001b[0m\u001b[0m\n\u001b[1;32m--> 202\u001b[1;33m         \u001b[1;32mfor\u001b[0m \u001b[0mline\u001b[0m \u001b[1;32min\u001b[0m \u001b[0mtext\u001b[0m\u001b[1;33m:\u001b[0m\u001b[1;33m\u001b[0m\u001b[0m\n\u001b[0m\u001b[0;32m    203\u001b[0m                 \u001b[1;32mif\u001b[0m \u001b[0mline\u001b[0m\u001b[1;33m==\u001b[0m\u001b[1;33m(\u001b[0m\u001b[1;34m'Directions:'\u001b[0m\u001b[1;33m+\u001b[0m\u001b[1;34m'\\n'\u001b[0m\u001b[1;33m)\u001b[0m\u001b[1;33m:\u001b[0m\u001b[1;33m\u001b[0m\u001b[0m\n\u001b[0;32m    204\u001b[0m                         \u001b[1;32mreturn\u001b[0m \u001b[0mres\u001b[0m\u001b[1;33m\u001b[0m\u001b[0m\n",
      "\u001b[1;31mTypeError\u001b[0m: 'NoneType' object is not iterable"
     ]
    }
   ],
   "source": [
    "ingredients = GetIngredients(recipeText)\n",
    "ingredients"
   ]
  },
  {
   "cell_type": "code",
   "execution_count": 27,
   "metadata": {},
   "outputs": [
    {
     "data": {
      "text/plain": [
       "{'chicken broth': 'tempeh', 'chicken': 'tempeh'}"
      ]
     },
     "execution_count": 27,
     "metadata": {},
     "output_type": "execute_result"
    }
   ],
   "source": [
    "\n",
    "replacementdict = ingredToVeg(ingredients, masterdata)\n",
    "replacementdict"
   ]
  },
  {
   "cell_type": "code",
   "execution_count": 21,
   "metadata": {},
   "outputs": [],
   "source": [
    "steps = GetSteps(recipeText)"
   ]
  },
  {
   "cell_type": "code",
   "execution_count": 22,
   "metadata": {},
   "outputs": [
    {
     "data": {
      "text/plain": [
       "[[{'methods': ['preheat'],\n",
       "   'tools': ['oven'],\n",
       "   'ingredients': [],\n",
       "   'times': None,\n",
       "   'conditions': None,\n",
       "   'raw': 'Preheat oven to 350 degrees F (175 degrees C).'},\n",
       "  {'methods': ['bring'],\n",
       "   'tools': ['large pot'],\n",
       "   'ingredients': ['salt'],\n",
       "   'times': None,\n",
       "   'conditions': None,\n",
       "   'raw': 'Bring a large pot of lightly salted water to a boil.'},\n",
       "  {'methods': ['cook'],\n",
       "   'tools': [],\n",
       "   'ingredients': ['lasagna noodles'],\n",
       "   'times': '8 to 10 minutes',\n",
       "   'conditions': 'for 8 to 10 minutes',\n",
       "   'raw': 'Cook lasagna noodles in boiling water for 8 to 10 minutes.'},\n",
       "  {'methods': ['drain'],\n",
       "   'tools': [],\n",
       "   'ingredients': [],\n",
       "   'times': None,\n",
       "   'conditions': None,\n",
       "   'raw': 'Drain, and rinse with cold water.'}],\n",
       " [{'methods': ['melt'],\n",
       "   'tools': ['saucepan', 'large'],\n",
       "   'ingredients': ['butter'],\n",
       "   'times': None,\n",
       "   'conditions': None,\n",
       "   'raw': 'Melt the butter in a large saucepan over medium heat.'},\n",
       "  {'methods': ['cook', 'stir'],\n",
       "   'tools': [],\n",
       "   'ingredients': ['garlic', 'butter', 'onion'],\n",
       "   'times': None,\n",
       "   'conditions': 'until tender',\n",
       "   'raw': 'Cook the onion and garlic in the butter until tender, stirring frequently.'},\n",
       "  {'methods': ['stir'],\n",
       "   'tools': [],\n",
       "   'ingredients': ['salt', 'flour'],\n",
       "   'times': None,\n",
       "   'conditions': 'until bubbly',\n",
       "   'raw': 'Stir in the flour and salt, and simmer until bubbly.'},\n",
       "  {'methods': ['stir', 'mix'],\n",
       "   'tools': [],\n",
       "   'ingredients': ['broth', 'milk'],\n",
       "   'times': '1 minute',\n",
       "   'conditions': 'for 1 minute',\n",
       "   'raw': 'Mix in the broth and milk, and boil, stirring constantly, for 1 minute.'},\n",
       "  {'methods': ['stir'],\n",
       "   'tools': ['cup'],\n",
       "   'ingredients': ['cheese',\n",
       "    'mozzarella cheese',\n",
       "    'parmesan',\n",
       "    'parmesan cheese'],\n",
       "   'times': None,\n",
       "   'conditions': None,\n",
       "   'raw': 'Stir in 2 cups mozzarella cheese and 1/4 cup Parmesan cheese.'},\n",
       "  {'methods': ['season'],\n",
       "   'tools': [],\n",
       "   'ingredients': ['basil', 'oregano', 'ground black pepper'],\n",
       "   'times': None,\n",
       "   'conditions': None,\n",
       "   'raw': 'Season with the basil, oregano, and ground black pepper.'},\n",
       "  {'methods': ['remove'],\n",
       "   'tools': [],\n",
       "   'ingredients': [],\n",
       "   'times': None,\n",
       "   'conditions': None,\n",
       "   'raw': 'Remove from heat, and set aside.'}],\n",
       " [{'methods': ['spread', 'mix'],\n",
       "   'tools': ['dish'],\n",
       "   'ingredients': [],\n",
       "   'times': None,\n",
       "   'conditions': None,\n",
       "   'raw': 'Spread 1/3 of the sauce mixture in the bottom of a 9x13 inch baking dish.'},\n",
       "  {'methods': ['layer'],\n",
       "   'tools': [],\n",
       "   'ingredients': ['tempeh', 'noodles', 'ricotta'],\n",
       "   'times': None,\n",
       "   'conditions': None,\n",
       "   'raw': 'Layer with 1/3 of the noodles, the ricotta, and the tempeh.'},\n",
       "  {'methods': ['layer', 'arrange', 'mix'],\n",
       "   'tools': ['cup'],\n",
       "   'ingredients': ['tempeh',\n",
       "    'cheese',\n",
       "    'spinach',\n",
       "    'noodles',\n",
       "    'mozzarella cheese',\n",
       "    'parmesan cheese',\n",
       "    'parmesan'],\n",
       "   'times': None,\n",
       "   'conditions': None,\n",
       "   'raw': 'Arrange 1/3 of the noodles over the tempeh,  and layer with 1/3 of the sauce mixture, spinach, and the remaining 2 cups mozzarella cheese and 1/2 cup Parmesan cheese.'},\n",
       "  {'methods': ['arrange', 'spread'],\n",
       "   'tools': [],\n",
       "   'ingredients': ['cheese', 'noodles'],\n",
       "   'times': None,\n",
       "   'conditions': None,\n",
       "   'raw': 'Arrange remaining noodles over cheese, and spread remaining sauce evenly over noodles.'},\n",
       "  {'methods': ['sprinkle'],\n",
       "   'tools': ['cup'],\n",
       "   'ingredients': ['cheese', 'parmesan', 'parsley', 'parmesan cheese'],\n",
       "   'times': None,\n",
       "   'conditions': None,\n",
       "   'raw': 'Sprinkle with parsley and 1/4 cup Parmesan cheese.'}],\n",
       " [{'methods': ['preheat', 'bake'],\n",
       "   'tools': ['oven'],\n",
       "   'ingredients': [],\n",
       "   'times': '35 to 40 minutes',\n",
       "   'conditions': None,\n",
       "   'raw': 'Bake 35 to 40 minutes in the preheated oven.'}]]"
      ]
     },
     "execution_count": 22,
     "metadata": {},
     "output_type": "execute_result"
    }
   ],
   "source": [
    "replaceIngrInSteps(steps, replacementdict)"
   ]
  },
  {
   "cell_type": "code",
   "execution_count": null,
   "metadata": {},
   "outputs": [],
   "source": []
  },
  {
   "cell_type": "markdown",
   "metadata": {},
   "source": [
    "#ingfull = 'boneless skinless chicken breast halves'\n",
    "ingfull2 = 'yummy chicken stock'\n",
    "ingtokens = word_tokenize(ingfull2)\n",
    "def bigramsMatchKeyword(ingtokens, keyword):\n",
    "    keywordposition = ingtokens.index(keyword)\n",
    "    ingbigrams = list(bigrams(ingtokens))\n",
    "    gen_bigrams = []\n",
    "    if keywordposition != 0:\n",
    "        bg_before = ingbigrams[keywordposition-1][0] + \" \" + ingbigrams[keywordposition-1][1]\n",
    "        gen_bigrams.append(bg_before)\n",
    "    if keywordposition != len(ingtokens) - 1:\n",
    "        bg_after = ingbigrams[keywordposition][0] + \" \" + ingbigrams[keywordposition][1]\n",
    "        gen_bigrams.append(bg_after)\n",
    "    return gen_bigrams\n",
    "\n",
    "k = bigramsMatchKeyword(ingtokens, 'chicken')\n",
    "k[1]+\"s\""
   ]
  },
  {
   "cell_type": "code",
   "execution_count": 12,
   "metadata": {},
   "outputs": [
    {
     "ename": "NameError",
     "evalue": "name 'ingbigrams' is not defined",
     "output_type": "error",
     "traceback": [
      "\u001b[1;31m---------------------------------------------------------------------------\u001b[0m",
      "\u001b[1;31mNameError\u001b[0m                                 Traceback (most recent call last)",
      "\u001b[1;32m<ipython-input-12-5ded8402b575>\u001b[0m in \u001b[0;36m<module>\u001b[1;34m()\u001b[0m\n\u001b[1;32m----> 1\u001b[1;33m \u001b[0mlist\u001b[0m\u001b[1;33m(\u001b[0m\u001b[0mingbigrams\u001b[0m\u001b[1;33m)\u001b[0m\u001b[1;33m\u001b[0m\u001b[0m\n\u001b[0m\u001b[0;32m      2\u001b[0m \u001b[1;31m#ingtokens.index('chicken')\u001b[0m\u001b[1;33m\u001b[0m\u001b[1;33m\u001b[0m\u001b[0m\n",
      "\u001b[1;31mNameError\u001b[0m: name 'ingbigrams' is not defined"
     ]
    }
   ],
   "source": [
    "list(ingbigrams)\n",
    "#ingtokens.index('chicken')"
   ]
  },
  {
   "cell_type": "code",
   "execution_count": null,
   "metadata": {},
   "outputs": [],
   "source": [
    "'stock' in 'chicken broth' or 'broth' in 'chicken broth'"
   ]
  },
  {
   "cell_type": "code",
   "execution_count": null,
   "metadata": {},
   "outputs": [],
   "source": [
    "word_tokenize('lobster tails,')"
   ]
  },
  {
   "cell_type": "code",
   "execution_count": null,
   "metadata": {},
   "outputs": [],
   "source": []
  }
 ],
 "metadata": {
  "kernelspec": {
   "display_name": "Python 3",
   "language": "python",
   "name": "python3"
  },
  "language_info": {
   "codemirror_mode": {
    "name": "ipython",
    "version": 3
   },
   "file_extension": ".py",
   "mimetype": "text/x-python",
   "name": "python",
   "nbconvert_exporter": "python",
   "pygments_lexer": "ipython3",
   "version": "3.7.0"
  }
 },
 "nbformat": 4,
 "nbformat_minor": 2
}
