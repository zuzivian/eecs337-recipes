{
 "cells": [
  {
   "cell_type": "markdown",
   "metadata": {},
   "source": [
    "import pandas as pd\n",
    "from nltk import *"
   ]
  },
  {
   "cell_type": "markdown",
   "metadata": {},
   "source": [
    "from framework import *\n",
    "from ingredients import *\n",
    "from helpers import *\n",
    "from AutoCrawl import *\n",
    "from steps import *"
   ]
  },
  {
   "cell_type": "markdown",
   "metadata": {
    "scrolled": true
   },
   "source": [
    "def getVerbs(text):\n",
    "    methodlist = set()\n",
    "    #sentences = text.split(\"\\n\")\n",
    "    for sentences in text:\n",
    "        method = sentence_verbs(sentences)\n",
    "        methodlist = methodlist.union(set(method))\n",
    "    return list(methodlist)\n",
    "\n",
    "def sentence_verbs(sentence):\n",
    "    vblist = []\n",
    "    subsentencelist = re.split('[;.:]', sentence)\n",
    "    for subs in subsentencelist:\n",
    "        vb = subsentence_verbs(subs)\n",
    "        vblist = vblist + vb\n",
    "    return vblist\n",
    "        \n",
    "def subsentence_verbs(subsentence):\n",
    "    tokens = word_tokenize(subsentence)\n",
    "    tagtup = nltk.pos_tag(tokens)\n",
    "    methodlist = []\n",
    "    for i in range(len(tagtup)):\n",
    "        if i == 0 and tagtup[0][1] not in [\"RB\", \"DT\"]:\n",
    "            methodlist.append(tagtup[i][0].lower())\n",
    "        elif tagtup[i][1] in [\"VB\", \"VBZ\"] and tagtup[i][0] not in ['is', 'are', 'am', 'a', 'an']:\n",
    "            methodlist.append(tagtup[i][0].lower())\n",
    "    return methodlist\n",
    "\n",
    "def getLOfMethods(fname):\n",
    "    with open(fname) as f:\n",
    "        content = f.readlines()\n",
    "    content = [x.strip() for x in content]\n",
    "    content = [x.lower() for x in content]\n",
    "    return content\n",
    "\n",
    "def isCookingMethod(verblist, allmethods):\n",
    "    methods = []\n",
    "    for verb in verblist:\n",
    "        if verb in allmethods:\n",
    "            methods.append(verb)\n",
    "    return methods\n",
    "\n",
    "def isPrepMethod(verblist, cookingmethod):\n",
    "    prepmethod = list(set(verblist) - set(cookingmethod))\n",
    "    return prepmethod\n",
    "\n",
    "def mainIngCookingMethod(mainingr, sentences):\n",
    "    cookingList = set()\n",
    "    for sentence in sentences:\n",
    "        if mainingr in sentence.lower():\n",
    "            method = sentence_verbs(sentence)\n",
    "            cooking = isCookingMethod(method, allmethods)\n",
    "            cookingList = cookingList.union(cooking)\n",
    "\n",
    "    return list(cookingList)\n",
    "\n",
    "def parse_max_cook_time(get_times_result):\n",
    "    timevalue = 0\n",
    "    if isinstance(get_times_result, str) == True:\n",
    "        splitted = get_times_result.split(\" \")\n",
    "        if 'hour' in get_times_result:\n",
    "            timevalue += 3600 * int(splitted[len(splitted)-2])\n",
    "        elif 'minute' in get_times_result:\n",
    "            timevalue += 60 * int(splitted[len(splitted)-2])\n",
    "        elif 'second' in get_times_result:\n",
    "            timevalue += int(splitted[len(splitted)-2])\n",
    "        else:\n",
    "            timevalue += 0\n",
    "    return timevalue\n",
    "\n",
    "def longestCookingMethod(sentences):\n",
    "    minimumtime = 0\n",
    "    for sentence in sentences:\n",
    "        cookingtimestring = get_times(sentence)\n",
    "        cookingtimestep = parse_max_cook_time(cookingtimestring)\n",
    "        if cookingtimestep > 0 and cookingtimestep > minimumtime:\n",
    "            maincookingverb = sentence_verbs(sentence)\n",
    "            maincookingmethod = isCookingMethod(maincookingverb, allmethods)\n",
    "            if len(maincookingmethod) > 0:\n",
    "                minimumtime = cookingtimestep\n",
    "    return maincookingmethod\n",
    "    \n",
    "def getDirections(text):\n",
    "    recipeText = \"\"\n",
    "    recipeText = text[text.index('Directions:\\n') + 1:len(text)]\n",
    "    return recipeText\n",
    "    \n",
    "def getMethodsDict(text, methodlist):\n",
    "    recipeDirectons = getDirections(text)\n",
    "    pri_method = longestCookingMethod(recipeDirectons)\n",
    "    all_methods = getVerbs(recipeDirectons)\n",
    "    addi_method = isPrepMethod(methodlist, pri_method)\n",
    "    methods_dict = {}\n",
    "    methods_dict['primary'] = pri_method\n",
    "    methods_dict['preparatory'] = addi_method\n",
    "    return methods_dict"
   ]
  },
  {
   "cell_type": "markdown",
   "metadata": {},
   "source": [
    "mainingr = 'cauliflower'\n",
    "def ingredientMentionCount(mainingr, sentences):\n",
    "    mentioned = 0\n",
    "    countDict = dict()\n",
    "    for sentence in sentences:\n",
    "        if mainingr in sentence.lower():\n",
    "            mentioned += 1\n",
    "    countDict[mainingr] = mentioned \n",
    "    return countDict\n",
    "\n",
    "ingredientMentionCount(mainingr, sentences)"
   ]
  },
  {
   "cell_type": "code",
   "execution_count": 1,
   "metadata": {},
   "outputs": [],
   "source": [
    "from framework import *"
   ]
  },
  {
   "cell_type": "code",
   "execution_count": 7,
   "metadata": {},
   "outputs": [
    {
     "name": "stdout",
     "output_type": "stream",
     "text": [
      "Recipe File already exists\n"
     ]
    }
   ],
   "source": [
    "#recipeText = GetData(\"https://www.allrecipes.com/recipe/221227/honey-brined-fried-chicken-breasts/\")\n",
    "recipeText = GetData(\"https://www.allrecipes.com/recipe/219981/crab-stuffed-lobster-tail/\")\n",
    "#recipeText = GetData(\"https://www.allrecipes.com/recipe/8758/white-cheese-chicken-lasagna/\")\n",
    "#recipeText = GetData(\"https://www.allrecipes.com/recipe/256875/cheesy-sausage-lasagna-soup/\")"
   ]
  },
  {
   "cell_type": "markdown",
   "metadata": {},
   "source": [
    "list_methods = getLOfMethods('ListOfMethods.txt')\n",
    "allmethods = [item.lower() for item in list_methods]\n",
    "recipeText = GetData(\"https://www.allrecipes.com/recipe/219981/crab-stuffed-lobster-tail/\")\n",
    "\n",
    "\n",
    "\n",
    "getMethodsDict(recipeText, allmethods)"
   ]
  },
  {
   "cell_type": "code",
   "execution_count": 8,
   "metadata": {},
   "outputs": [
    {
     "data": {
      "text/plain": [
       "[{'name': 'lobster tails',\n",
       "  'quantity': '2',\n",
       "  'measurement': 'NoItem',\n",
       "  'Preparation': 'split along the center top',\n",
       "  'essential': 'lobster'},\n",
       " {'name': 'butter',\n",
       "  'quantity': '2',\n",
       "  'measurement': 'teaspoon',\n",
       "  'Preparation': 'melted',\n",
       "  'essential': None},\n",
       " {'name': 'buttery round crackers',\n",
       "  'quantity': '15',\n",
       "  'measurement': 'NoItem',\n",
       "  'Preparation': 'crushed',\n",
       "  'essential': None},\n",
       " {'name': 'jumbo lump crabmeat',\n",
       "  'quantity': '1/2',\n",
       "  'measurement': 'cup',\n",
       "  'Preparation': 'NoItem',\n",
       "  'essential': 'crabmeat'},\n",
       " {'name': 'clarified butter',\n",
       "  'quantity': '1/4',\n",
       "  'measurement': 'cup',\n",
       "  'Preparation': 'clarified ',\n",
       "  'essential': 'butter'},\n",
       " {'name': 'chopped fresh parsley leaves',\n",
       "  'quantity': '1',\n",
       "  'measurement': 'tablespoon',\n",
       "  'Preparation': 'chopped ',\n",
       "  'essential': None},\n",
       " {'name': 'seafood seasoning such',\n",
       "  'quantity': '',\n",
       "  'measurement': 'teaspoon',\n",
       "  'Preparation': 'NoItem',\n",
       "  'essential': None},\n",
       " {'name': 'garlic',\n",
       "  'quantity': '1',\n",
       "  'measurement': 'clove',\n",
       "  'Preparation': 'minced',\n",
       "  'essential': None},\n",
       " {'name': 'lemon zest',\n",
       "  'quantity': '1',\n",
       "  'measurement': 'teaspoon',\n",
       "  'Preparation': 'NoItem',\n",
       "  'essential': None},\n",
       " {'name': 'fresh lemon juice',\n",
       "  'quantity': '1',\n",
       "  'measurement': 'tablespoon',\n",
       "  'Preparation': 'NoItem',\n",
       "  'essential': None},\n",
       " {'name': 'salt',\n",
       "  'quantity': '1/4',\n",
       "  'measurement': 'teaspoon',\n",
       "  'Preparation': 'or to taste',\n",
       "  'essential': None},\n",
       " {'name': 'freshly ground white pepper',\n",
       "  'quantity': '1/4',\n",
       "  'measurement': 'teaspoon',\n",
       "  'Preparation': 'or to taste',\n",
       "  'essential': None}]"
      ]
     },
     "execution_count": 8,
     "metadata": {},
     "output_type": "execute_result"
    }
   ],
   "source": [
    "GetIngredients(recipeText)\n",
    "#recipeText"
   ]
  },
  {
   "cell_type": "code",
   "execution_count": 9,
   "metadata": {},
   "outputs": [
    {
     "data": {
      "text/plain": [
       "[[{'methods': ['preheat'],\n",
       "   'tools': ['oven'],\n",
       "   'ingredients': [],\n",
       "   'times': None,\n",
       "   'conditions': None,\n",
       "   'raw': 'Preheat oven to 425 degrees F (220 degrees C).'}],\n",
       " [{'methods': ['lift', 'pull', 'rest'],\n",
       "   'tools': [],\n",
       "   'ingredients': ['lobster'],\n",
       "   'times': None,\n",
       "   'conditions': None,\n",
       "   'raw': 'Pull the edges of the split lobster shells apart and gently lift the tail meat to rest above the shells.'},\n",
       "  {'methods': ['place'],\n",
       "   'tools': [],\n",
       "   'ingredients': ['lobster tails'],\n",
       "   'times': None,\n",
       "   'conditions': None,\n",
       "   'raw': 'Place the prepared lobster tails on a baking sheet.'}],\n",
       " [{'methods': ['brush'],\n",
       "   'tools': ['teaspoon', 'spoon'],\n",
       "   'ingredients': ['butter'],\n",
       "   'times': None,\n",
       "   'conditions': None,\n",
       "   'raw': 'Brush each portion of tail meat with 1 teaspoon melted butter.'}],\n",
       " [{'methods': ['mix'],\n",
       "   'tools': ['bowl', 'cup'],\n",
       "   'ingredients': ['crackers',\n",
       "    'seafood seasoning',\n",
       "    'lemon zest',\n",
       "    'lemon juice',\n",
       "    'butter',\n",
       "    'garlic',\n",
       "    'salt',\n",
       "    'clarified butter',\n",
       "    'white pepper',\n",
       "    'parsley',\n",
       "    'crabmeat'],\n",
       "   'times': None,\n",
       "   'conditions': 'until thoroughly combined',\n",
       "   'raw': 'Lightly mix the crushed crackers, crabmeat, 1/4 cup of clarified butter, parsley, seafood seasoning, garlic, lemon zest, lemon juice, salt, and white pepper in a bowl until thoroughly combined.'}],\n",
       " [{'methods': ['fall', 'shape', 'doesnt', 'press'],\n",
       "   'tools': ['spoon'],\n",
       "   'ingredients': ['lobster'],\n",
       "   'times': None,\n",
       "   'conditions': None,\n",
       "   'raw': '\"Spoon half the stuffing onto each lobster tail; press lightly to slightly shape the stuffing so it doesnt fall off.'}],\n",
       " [{'methods': ['preheat', 'bake'],\n",
       "   'tools': ['oven'],\n",
       "   'ingredients': ['lobster tails'],\n",
       "   'times': '10 to 12 minutes',\n",
       "   'conditions': 'until the meat is opaque and the stuffing is golden brown on top',\n",
       "   'raw': 'Bake the lobster tails in the preheated oven until the meat is opaque and the stuffing is golden brown on top, 10 to 12 minutes.'},\n",
       "  {'methods': ['read'],\n",
       "   'tools': ['thermometer'],\n",
       "   'ingredients': ['lobster'],\n",
       "   'times': None,\n",
       "   'conditions': None,\n",
       "   'raw': 'An instant-read thermometer inserted into the thickest part of the lobster tail should read 145 degrees F (65 degrees C).'}]]"
      ]
     },
     "execution_count": 9,
     "metadata": {},
     "output_type": "execute_result"
    }
   ],
   "source": [
    "GetSteps(recipeText)"
   ]
  },
  {
   "cell_type": "code",
   "execution_count": 10,
   "metadata": {},
   "outputs": [
    {
     "data": {
      "text/plain": [
       "{'primary': ['bake'],\n",
       " 'other': ['shape',\n",
       "  'rest',\n",
       "  '``',\n",
       "  'read',\n",
       "  'preheat',\n",
       "  'doesnt',\n",
       "  'place',\n",
       "  'mix',\n",
       "  'fall',\n",
       "  'lift',\n",
       "  'press',\n",
       "  'brush',\n",
       "  'pull']}"
      ]
     },
     "execution_count": 10,
     "metadata": {},
     "output_type": "execute_result"
    }
   ],
   "source": [
    "GetMethods(recipeText)"
   ]
  },
  {
   "cell_type": "code",
   "execution_count": 11,
   "metadata": {},
   "outputs": [
    {
     "data": {
      "text/plain": [
       "[[{'name': 'tempeh',\n",
       "   'quantity': '2',\n",
       "   'measurement': 'NoItem',\n",
       "   'Preparation': 'split along the center top',\n",
       "   'essential': 'lobster'},\n",
       "  {'name': 'butter',\n",
       "   'quantity': '2',\n",
       "   'measurement': 'teaspoon',\n",
       "   'Preparation': 'melted',\n",
       "   'essential': None},\n",
       "  {'name': 'buttery round crackers',\n",
       "   'quantity': '15',\n",
       "   'measurement': 'NoItem',\n",
       "   'Preparation': 'crushed',\n",
       "   'essential': None},\n",
       "  {'name': 'fake crabmeat',\n",
       "   'quantity': '1/2',\n",
       "   'measurement': 'cup',\n",
       "   'Preparation': 'NoItem',\n",
       "   'essential': 'crabmeat'},\n",
       "  {'name': 'clarified butter',\n",
       "   'quantity': '1/4',\n",
       "   'measurement': 'cup',\n",
       "   'Preparation': 'clarified ',\n",
       "   'essential': 'butter'},\n",
       "  {'name': 'chopped fresh parsley leaves',\n",
       "   'quantity': '1',\n",
       "   'measurement': 'tablespoon',\n",
       "   'Preparation': 'chopped ',\n",
       "   'essential': None},\n",
       "  {'name': 'seafood seasoning such',\n",
       "   'quantity': '',\n",
       "   'measurement': 'teaspoon',\n",
       "   'Preparation': 'NoItem',\n",
       "   'essential': None},\n",
       "  {'name': 'garlic',\n",
       "   'quantity': '1',\n",
       "   'measurement': 'clove',\n",
       "   'Preparation': 'minced',\n",
       "   'essential': None},\n",
       "  {'name': 'lemon zest',\n",
       "   'quantity': '1',\n",
       "   'measurement': 'teaspoon',\n",
       "   'Preparation': 'NoItem',\n",
       "   'essential': None},\n",
       "  {'name': 'fresh lemon juice',\n",
       "   'quantity': '1',\n",
       "   'measurement': 'tablespoon',\n",
       "   'Preparation': 'NoItem',\n",
       "   'essential': None},\n",
       "  {'name': 'salt',\n",
       "   'quantity': '1/4',\n",
       "   'measurement': 'teaspoon',\n",
       "   'Preparation': 'or to taste',\n",
       "   'essential': None},\n",
       "  {'name': 'freshly ground white pepper',\n",
       "   'quantity': '1/4',\n",
       "   'measurement': 'teaspoon',\n",
       "   'Preparation': 'or to taste',\n",
       "   'essential': None}],\n",
       " [[{'methods': ['preheat'],\n",
       "    'tools': ['oven'],\n",
       "    'ingredients': [],\n",
       "    'times': None,\n",
       "    'conditions': None,\n",
       "    'raw': 'Preheat oven to 425 degrees F (220 degrees C).'}],\n",
       "  [{'methods': ['lift', 'pull', 'rest'],\n",
       "    'tools': [],\n",
       "    'ingredients': ['tempeh'],\n",
       "    'times': None,\n",
       "    'conditions': None,\n",
       "    'raw': 'Pull the edges of the split tempeh shells apart and gently lift the tail meat to rest above the shells.'},\n",
       "   {'methods': ['place'],\n",
       "    'tools': [],\n",
       "    'ingredients': ['tempeh'],\n",
       "    'times': None,\n",
       "    'conditions': None,\n",
       "    'raw': 'Place the prepared tempeh on a baking sheet.'}],\n",
       "  [{'methods': ['brush'],\n",
       "    'tools': ['teaspoon', 'spoon'],\n",
       "    'ingredients': ['butter'],\n",
       "    'times': None,\n",
       "    'conditions': None,\n",
       "    'raw': 'Brush each portion of tail meat with 1 teaspoon melted butter.'}],\n",
       "  [{'methods': ['mix'],\n",
       "    'tools': ['bowl', 'cup'],\n",
       "    'ingredients': ['crackers',\n",
       "     'seafood seasoning',\n",
       "     'lemon zest',\n",
       "     'lemon juice',\n",
       "     'butter',\n",
       "     'garlic',\n",
       "     'salt',\n",
       "     'clarified butter',\n",
       "     'white pepper',\n",
       "     'parsley',\n",
       "     'fake crabmeat'],\n",
       "    'times': None,\n",
       "    'conditions': 'until thoroughly combined',\n",
       "    'raw': 'Lightly mix the crushed crackers, fake crabmeat, 1/4 cup of clarified butter, parsley, seafood seasoning, garlic, lemon zest, lemon juice, salt, and white pepper in a bowl until thoroughly combined.'}],\n",
       "  [{'methods': ['fall', 'shape', 'doesnt', 'press'],\n",
       "    'tools': ['spoon'],\n",
       "    'ingredients': ['tempeh'],\n",
       "    'times': None,\n",
       "    'conditions': None,\n",
       "    'raw': '\"Spoon half the stuffing onto each tempeh tail; press lightly to slightly shape the stuffing so it doesnt fall off.'}],\n",
       "  [{'methods': ['preheat', 'bake'],\n",
       "    'tools': ['oven'],\n",
       "    'ingredients': ['tempeh'],\n",
       "    'times': '10 to 12 minutes',\n",
       "    'conditions': 'until the meat is opaque and the stuffing is golden brown on top',\n",
       "    'raw': 'Bake the tempeh in the preheated oven until the meat is opaque and the stuffing is golden brown on top, 10 to 12 minutes.'},\n",
       "   {'methods': ['read'],\n",
       "    'tools': ['thermometer'],\n",
       "    'ingredients': ['tempeh'],\n",
       "    'times': None,\n",
       "    'conditions': None,\n",
       "    'raw': 'An instant-read thermometer inserted into the thickest part of the tempeh tail should read 145 degrees F (65 degrees C).'}]]]"
      ]
     },
     "execution_count": 11,
     "metadata": {},
     "output_type": "execute_result"
    }
   ],
   "source": [
    "Transformation(recipeText,\"veg\")"
   ]
  },
  {
   "cell_type": "markdown",
   "metadata": {},
   "source": [
    "#txtfilename = 'methods.csv'\n",
    "txtfilename = 'proteins.csv'\n",
    "directory = \"./dictionary/\" + txtfilename\n",
    "masterdata = loadTransformTable(directory)"
   ]
  },
  {
   "cell_type": "markdown",
   "metadata": {},
   "source": [
    "list_methods = getLOfMethods('./dictionary/methods.csv')\n",
    "methodlist = [item.lower() for item in list_methods]\n",
    "recipeDirectons = getDirections(recipeText)\n",
    "pri_method = longestCookingMethod(recipeDirectons, methodlist)\n",
    "all_methods = getVerbs(recipeDirectons)\n",
    "addi_method = isPrepMethod(methodlist, pri_method)\n",
    "methods_dict = {}\n",
    "methods_dict['primary'] = pri_method\n",
    "methods_dict['other'] = addi_method"
   ]
  },
  {
   "cell_type": "code",
   "execution_count": null,
   "metadata": {},
   "outputs": [],
   "source": []
  },
  {
   "cell_type": "markdown",
   "metadata": {},
   "source": [
    "tokens = nltk.word_tokenize('Add chicken breasts, and weigh them down with a plate to keep them completely submerged.'.lower())\n",
    "essential_ingr = [get_essentials(ingredient['name']) for ingredient in ingredients if get_essentials(ingredient['name']) in tokens]"
   ]
  },
  {
   "cell_type": "markdown",
   "metadata": {},
   "source": [
    "substep =   {'raw': 'Add chicken breasts, and weigh them down with a plate to keep them completely submerged.',\n",
    "   'methods': ['keep', 'weigh', 'add'],\n",
    "   'ingredients': [],\n",
    "   'tools': [],\n",
    "   'times': None,\n",
    "   'conditions': None}\n",
    "substep['ingredients'] = substep['ingredients'] + essential_ingr\n",
    "substep\n"
   ]
  },
  {
   "cell_type": "code",
   "execution_count": 15,
   "metadata": {},
   "outputs": [
    {
     "data": {
      "text/plain": [
       "'animal'"
      ]
     },
     "execution_count": 15,
     "metadata": {},
     "output_type": "execute_result"
    }
   ],
   "source": [
    "from helpers import *\n",
    "masterdata = loadTransformTable(\"./dictionary/proteins.csv\")\n",
    "protype = masterdata[masterdata['protein'] == 'chicken']['vegan_dim'].item()\n",
    "protype"
   ]
  },
  {
   "cell_type": "code",
   "execution_count": 16,
   "metadata": {},
   "outputs": [
    {
     "data": {
      "text/plain": [
       "[{'name': 'lasagna noodles',\n",
       "  'quantity': '9',\n",
       "  'measurement': 'NoItem',\n",
       "  'Preparation': 'NoItem',\n",
       "  'essential': None},\n",
       " {'name': 'butter',\n",
       "  'quantity': '1/2',\n",
       "  'measurement': 'cup',\n",
       "  'Preparation': 'NoItem',\n",
       "  'essential': 'butter'},\n",
       " {'name': 'onion,',\n",
       "  'quantity': '1',\n",
       "  'measurement': 'NoItem',\n",
       "  'Preparation': 'chopped',\n",
       "  'essential': None},\n",
       " {'name': 'garlic,',\n",
       "  'quantity': '1',\n",
       "  'measurement': 'clove',\n",
       "  'Preparation': 'minced',\n",
       "  'essential': None},\n",
       " {'name': 'all-purpose flour',\n",
       "  'quantity': '1/2',\n",
       "  'measurement': 'cup',\n",
       "  'Preparation': 'NoItem',\n",
       "  'essential': None},\n",
       " {'name': 'salt',\n",
       "  'quantity': '1',\n",
       "  'measurement': 'teaspoon',\n",
       "  'Preparation': 'NoItem',\n",
       "  'essential': None},\n",
       " {'name': 'chicken broth',\n",
       "  'quantity': '2',\n",
       "  'measurement': 'cup',\n",
       "  'Preparation': 'NoItem',\n",
       "  'essential': 'chicken'},\n",
       " {'name': 'milk',\n",
       "  'quantity': '1 1/2',\n",
       "  'measurement': 'cup',\n",
       "  'Preparation': 'NoItem',\n",
       "  'essential': 'milk'},\n",
       " {'name': 'shredded mozzarella cheese,',\n",
       "  'quantity': '4',\n",
       "  'measurement': 'cup',\n",
       "  'Preparation': 'divided',\n",
       "  'essential': None},\n",
       " {'name': 'grated Parmesan cheese,',\n",
       "  'quantity': '1',\n",
       "  'measurement': 'cup',\n",
       "  'Preparation': 'divided',\n",
       "  'essential': None},\n",
       " {'name': 'dried basil',\n",
       "  'quantity': '1',\n",
       "  'measurement': 'teaspoon',\n",
       "  'Preparation': 'dried ',\n",
       "  'essential': None},\n",
       " {'name': 'dried oregano',\n",
       "  'quantity': '1',\n",
       "  'measurement': 'teaspoon',\n",
       "  'Preparation': 'dried ',\n",
       "  'essential': None},\n",
       " {'name': 'ground black pepper',\n",
       "  'quantity': '1/2',\n",
       "  'measurement': 'teaspoon',\n",
       "  'Preparation': 'NoItem',\n",
       "  'essential': None},\n",
       " {'name': 'ricotta cheese',\n",
       "  'quantity': '2',\n",
       "  'measurement': 'cup',\n",
       "  'Preparation': 'NoItem',\n",
       "  'essential': 'cheese'},\n",
       " {'name': 'cubed,',\n",
       "  'quantity': '2',\n",
       "  'measurement': 'cup',\n",
       "  'Preparation': 'cooked chicken meat',\n",
       "  'essential': 'chicken'},\n",
       " {'name': 'packages frozen chopped spinach,',\n",
       "  'quantity': '10',\n",
       "  'measurement': 'ounce',\n",
       "  'Preparation': 'thawed and drained',\n",
       "  'essential': None},\n",
       " {'name': 'chopped fresh parsley',\n",
       "  'quantity': '1',\n",
       "  'measurement': 'tablespoon',\n",
       "  'Preparation': 'chopped ',\n",
       "  'essential': None},\n",
       " {'name': 'grated Parmesan cheese',\n",
       "  'quantity': '1/4',\n",
       "  'measurement': 'cup',\n",
       "  'Preparation': 'NoItem',\n",
       "  'essential': 'cheese'}]"
      ]
     },
     "execution_count": 16,
     "metadata": {},
     "output_type": "execute_result"
    }
   ],
   "source": [
    "ingredients = GetIngredients(recipeText)\n",
    "ingredients"
   ]
  },
  {
   "cell_type": "code",
   "execution_count": 17,
   "metadata": {},
   "outputs": [
    {
     "data": {
      "text/plain": [
       "{'chicken broth': 'tempeh', 'chicken': 'tempeh'}"
      ]
     },
     "execution_count": 17,
     "metadata": {},
     "output_type": "execute_result"
    }
   ],
   "source": [
    "\n",
    "replacementdict = ingredToVeg(ingredients, masterdata)\n",
    "replacementdict"
   ]
  },
  {
   "cell_type": "code",
   "execution_count": null,
   "metadata": {},
   "outputs": [],
   "source": [
    "steps = GetSteps(recipeText)"
   ]
  },
  {
   "cell_type": "code",
   "execution_count": null,
   "metadata": {},
   "outputs": [],
   "source": [
    "replaceIngrInSteps(steps, replacementdict)"
   ]
  },
  {
   "cell_type": "code",
   "execution_count": null,
   "metadata": {},
   "outputs": [],
   "source": []
  },
  {
   "cell_type": "markdown",
   "metadata": {},
   "source": [
    "#ingfull = 'boneless skinless chicken breast halves'\n",
    "ingfull2 = 'yummy chicken stock'\n",
    "ingtokens = word_tokenize(ingfull2)\n",
    "def bigramsMatchKeyword(ingtokens, keyword):\n",
    "    keywordposition = ingtokens.index(keyword)\n",
    "    ingbigrams = list(bigrams(ingtokens))\n",
    "    gen_bigrams = []\n",
    "    if keywordposition != 0:\n",
    "        bg_before = ingbigrams[keywordposition-1][0] + \" \" + ingbigrams[keywordposition-1][1]\n",
    "        gen_bigrams.append(bg_before)\n",
    "    if keywordposition != len(ingtokens) - 1:\n",
    "        bg_after = ingbigrams[keywordposition][0] + \" \" + ingbigrams[keywordposition][1]\n",
    "        gen_bigrams.append(bg_after)\n",
    "    return gen_bigrams\n",
    "\n",
    "k = bigramsMatchKeyword(ingtokens, 'chicken')\n",
    "k[1]+\"s\""
   ]
  },
  {
   "cell_type": "code",
   "execution_count": null,
   "metadata": {},
   "outputs": [],
   "source": [
    "list(ingbigrams)\n",
    "#ingtokens.index('chicken')"
   ]
  },
  {
   "cell_type": "code",
   "execution_count": null,
   "metadata": {},
   "outputs": [],
   "source": [
    "'stock' in 'chicken broth' or 'broth' in 'chicken broth'"
   ]
  },
  {
   "cell_type": "code",
   "execution_count": null,
   "metadata": {},
   "outputs": [],
   "source": [
    "word_tokenize('lobster tails,')"
   ]
  },
  {
   "cell_type": "code",
   "execution_count": null,
   "metadata": {},
   "outputs": [],
   "source": []
  }
 ],
 "metadata": {
  "kernelspec": {
   "display_name": "Python 3",
   "language": "python",
   "name": "python3"
  },
  "language_info": {
   "codemirror_mode": {
    "name": "ipython",
    "version": 3
   },
   "file_extension": ".py",
   "mimetype": "text/x-python",
   "name": "python",
   "nbconvert_exporter": "python",
   "pygments_lexer": "ipython3",
   "version": "3.7.0"
  }
 },
 "nbformat": 4,
 "nbformat_minor": 2
}
