{
 "cells": [
  {
   "cell_type": "markdown",
   "metadata": {},
   "source": [
    "import pandas as pd\n",
    "from nltk import *"
   ]
  },
  {
   "cell_type": "markdown",
   "metadata": {},
   "source": [
    "from framework import *\n",
    "from ingredients import *\n",
    "from helpers import *\n",
    "from AutoCrawl import *\n",
    "from steps import *"
   ]
  },
  {
   "cell_type": "markdown",
   "metadata": {
    "scrolled": true
   },
   "source": [
    "def getVerbs(text):\n",
    "    methodlist = set()\n",
    "    #sentences = text.split(\"\\n\")\n",
    "    for sentences in text:\n",
    "        method = sentence_verbs(sentences)\n",
    "        methodlist = methodlist.union(set(method))\n",
    "    return list(methodlist)\n",
    "\n",
    "def sentence_verbs(sentence):\n",
    "    vblist = []\n",
    "    subsentencelist = re.split('[;.:]', sentence)\n",
    "    for subs in subsentencelist:\n",
    "        vb = subsentence_verbs(subs)\n",
    "        vblist = vblist + vb\n",
    "    return vblist\n",
    "        \n",
    "def subsentence_verbs(subsentence):\n",
    "    tokens = word_tokenize(subsentence)\n",
    "    tagtup = nltk.pos_tag(tokens)\n",
    "    methodlist = []\n",
    "    for i in range(len(tagtup)):\n",
    "        if i == 0 and tagtup[0][1] not in [\"RB\", \"DT\"]:\n",
    "            methodlist.append(tagtup[i][0].lower())\n",
    "        elif tagtup[i][1] in [\"VB\", \"VBZ\"] and tagtup[i][0] not in ['is', 'are', 'am', 'a', 'an']:\n",
    "            methodlist.append(tagtup[i][0].lower())\n",
    "    return methodlist\n",
    "\n",
    "def getLOfMethods(fname):\n",
    "    with open(fname) as f:\n",
    "        content = f.readlines()\n",
    "    content = [x.strip() for x in content]\n",
    "    content = [x.lower() for x in content]\n",
    "    return content\n",
    "\n",
    "def isCookingMethod(verblist, allmethods):\n",
    "    methods = []\n",
    "    for verb in verblist:\n",
    "        if verb in allmethods:\n",
    "            methods.append(verb)\n",
    "    return methods\n",
    "\n",
    "def isPrepMethod(verblist, cookingmethod):\n",
    "    prepmethod = list(set(verblist) - set(cookingmethod))\n",
    "    return prepmethod\n",
    "\n",
    "def mainIngCookingMethod(mainingr, sentences):\n",
    "    cookingList = set()\n",
    "    for sentence in sentences:\n",
    "        if mainingr in sentence.lower():\n",
    "            method = sentence_verbs(sentence)\n",
    "            cooking = isCookingMethod(method, allmethods)\n",
    "            cookingList = cookingList.union(cooking)\n",
    "\n",
    "    return list(cookingList)\n",
    "\n",
    "def parse_max_cook_time(get_times_result):\n",
    "    timevalue = 0\n",
    "    if isinstance(get_times_result, str) == True:\n",
    "        splitted = get_times_result.split(\" \")\n",
    "        if 'hour' in get_times_result:\n",
    "            timevalue += 3600 * int(splitted[len(splitted)-2])\n",
    "        elif 'minute' in get_times_result:\n",
    "            timevalue += 60 * int(splitted[len(splitted)-2])\n",
    "        elif 'second' in get_times_result:\n",
    "            timevalue += int(splitted[len(splitted)-2])\n",
    "        else:\n",
    "            timevalue += 0\n",
    "    return timevalue\n",
    "\n",
    "def longestCookingMethod(sentences):\n",
    "    minimumtime = 0\n",
    "    for sentence in sentences:\n",
    "        cookingtimestring = get_times(sentence)\n",
    "        cookingtimestep = parse_max_cook_time(cookingtimestring)\n",
    "        if cookingtimestep > 0 and cookingtimestep > minimumtime:\n",
    "            maincookingverb = sentence_verbs(sentence)\n",
    "            maincookingmethod = isCookingMethod(maincookingverb, allmethods)\n",
    "            if len(maincookingmethod) > 0:\n",
    "                minimumtime = cookingtimestep\n",
    "    return maincookingmethod\n",
    "    \n",
    "def getDirections(text):\n",
    "    recipeText = \"\"\n",
    "    recipeText = text[text.index('Directions:\\n') + 1:len(text)]\n",
    "    return recipeText\n",
    "    \n",
    "def getMethodsDict(text, methodlist):\n",
    "    recipeDirectons = getDirections(text)\n",
    "    pri_method = longestCookingMethod(recipeDirectons)\n",
    "    all_methods = getVerbs(recipeDirectons)\n",
    "    addi_method = isPrepMethod(methodlist, pri_method)\n",
    "    methods_dict = {}\n",
    "    methods_dict['primary'] = pri_method\n",
    "    methods_dict['preparatory'] = addi_method\n",
    "    return methods_dict"
   ]
  },
  {
   "cell_type": "markdown",
   "metadata": {},
   "source": [
    "mainingr = 'cauliflower'\n",
    "def ingredientMentionCount(mainingr, sentences):\n",
    "    mentioned = 0\n",
    "    countDict = dict()\n",
    "    for sentence in sentences:\n",
    "        if mainingr in sentence.lower():\n",
    "            mentioned += 1\n",
    "    countDict[mainingr] = mentioned \n",
    "    return countDict\n",
    "\n",
    "ingredientMentionCount(mainingr, sentences)"
   ]
  },
  {
   "cell_type": "code",
   "execution_count": 1,
   "metadata": {},
   "outputs": [],
   "source": [
    "from framework import *"
   ]
  },
  {
   "cell_type": "code",
   "execution_count": 7,
   "metadata": {},
   "outputs": [
    {
     "name": "stdout",
     "output_type": "stream",
     "text": [
      "Recipe File already exists\n"
     ]
    }
   ],
   "source": [
    "recipeText = GetData(\"https://www.allrecipes.com/recipe/221227/honey-brined-fried-chicken-breasts/\")\n",
    "#recipeText = GetData(\"https://www.allrecipes.com/recipe/219981/crab-stuffed-lobster-tail/\")\n",
    "#recipeText = GetData(\"https://www.allrecipes.com/recipe/8758/white-cheese-chicken-lasagna/\")\n",
    "#recipeText = GetData(\"https://www.allrecipes.com/recipe/256875/cheesy-sausage-lasagna-soup/\")"
   ]
  },
  {
   "cell_type": "markdown",
   "metadata": {},
   "source": [
    "list_methods = getLOfMethods('ListOfMethods.txt')\n",
    "allmethods = [item.lower() for item in list_methods]\n",
    "recipeText = GetData(\"https://www.allrecipes.com/recipe/219981/crab-stuffed-lobster-tail/\")\n",
    "\n",
    "\n",
    "\n",
    "getMethodsDict(recipeText, allmethods)"
   ]
  },
  {
   "cell_type": "code",
   "execution_count": 8,
   "metadata": {},
   "outputs": [
    {
     "data": {
      "text/plain": [
       "[{'name': 'cold water',\n",
       "  'quantity': '3',\n",
       "  'measurement': 'cup',\n",
       "  'Preparation': 'NoItem',\n",
       "  'essential': None},\n",
       " {'name': 'kosher salt',\n",
       "  'quantity': '1/4',\n",
       "  'measurement': 'cup',\n",
       "  'Preparation': 'NoItem',\n",
       "  'essential': None},\n",
       " {'name': 'honey',\n",
       "  'quantity': '1/4',\n",
       "  'measurement': 'cup',\n",
       "  'Preparation': 'NoItem',\n",
       "  'essential': None},\n",
       " {'name': 'boneless skinless chicken breast halves',\n",
       "  'quantity': '4',\n",
       "  'measurement': 'NoItem',\n",
       "  'Preparation': 'NoItem',\n",
       "  'essential': 'chicken'},\n",
       " {'name': 'buttermilk',\n",
       "  'quantity': '1/4',\n",
       "  'measurement': 'cup',\n",
       "  'Preparation': 'NoItem',\n",
       "  'essential': 'buttermilk'},\n",
       " {'name': 'all-purpose flour',\n",
       "  'quantity': '1',\n",
       "  'measurement': 'cup',\n",
       "  'Preparation': 'NoItem',\n",
       "  'essential': None},\n",
       " {'name': 'black pepper',\n",
       "  'quantity': '1',\n",
       "  'measurement': 'teaspoon',\n",
       "  'Preparation': 'NoItem',\n",
       "  'essential': None},\n",
       " {'name': 'garlic salt',\n",
       "  'quantity': '1/2',\n",
       "  'measurement': 'teaspoon',\n",
       "  'Preparation': 'NoItem',\n",
       "  'essential': None},\n",
       " {'name': 'onion salt',\n",
       "  'quantity': '1/2',\n",
       "  'measurement': 'teaspoon',\n",
       "  'Preparation': 'NoItem',\n",
       "  'essential': None},\n",
       " {'name': 'cayenne pepper',\n",
       "  'quantity': 'NoItem',\n",
       "  'measurement': 'NoItem',\n",
       "  'Preparation': 'NoItem',\n",
       "  'essential': None},\n",
       " {'name': 'vegetable oil',\n",
       "  'quantity': 'NoItem',\n",
       "  'measurement': 'NoItem',\n",
       "  'Preparation': 'NoItem',\n",
       "  'essential': None}]"
      ]
     },
     "execution_count": 8,
     "metadata": {},
     "output_type": "execute_result"
    }
   ],
   "source": [
    "GetIngredients(recipeText)\n",
    "#recipeText"
   ]
  },
  {
   "cell_type": "code",
   "execution_count": 9,
   "metadata": {},
   "outputs": [
    {
     "data": {
      "text/plain": [
       "[[{'methods': ['stir', 'mix'],\n",
       "   'tools': ['large bowl'],\n",
       "   'ingredients': ['kosher salt', 'cold water', 'honey', 'salt'],\n",
       "   'times': None,\n",
       "   'conditions': 'until salt dissolves',\n",
       "   'raw': 'Mix cold water, kosher salt, and honey in a large bowl; stir until salt dissolves.'},\n",
       "  {'methods': ['weigh', 'keep', 'add'],\n",
       "   'tools': [],\n",
       "   'ingredients': ['chicken breast'],\n",
       "   'times': None,\n",
       "   'conditions': None,\n",
       "   'raw': 'Add chicken breasts, and weigh them down with a plate to keep them completely submerged.'},\n",
       "  {'methods': ['cover'],\n",
       "   'tools': ['bowl', 'plastic wrap'],\n",
       "   'ingredients': [],\n",
       "   'times': '1 hour',\n",
       "   'conditions': 'for 1 hour',\n",
       "   'raw': 'Cover entire bowl with plastic wrap and refrigerate for 1 hour.'}],\n",
       " [{'methods': ['drain', 'dry', 'remove'],\n",
       "   'tools': ['bowl'],\n",
       "   'ingredients': ['chicken'],\n",
       "   'times': None,\n",
       "   'conditions': None,\n",
       "   'raw': 'Remove bowl from refrigerator; drain and dry chicken.'},\n",
       "  {'methods': ['pour'],\n",
       "   'tools': ['large bowl'],\n",
       "   'ingredients': ['chicken', 'buttermilk'],\n",
       "   'times': None,\n",
       "   'conditions': None,\n",
       "   'raw': 'Pour buttermilk over chicken in a large bowl.'},\n",
       "  {'methods': ['set'],\n",
       "   'tools': [],\n",
       "   'ingredients': [],\n",
       "   'times': '15 minutes',\n",
       "   'conditions': 'for 15 minutes',\n",
       "   'raw': 'Set aside at room temperature for 15 minutes.'}],\n",
       " [{'methods': ['combine'],\n",
       "   'tools': ['large bowl'],\n",
       "   'ingredients': ['onion salt',\n",
       "    'garlic salt',\n",
       "    'salt',\n",
       "    'black pepper',\n",
       "    'cayenne pepper',\n",
       "    'flour'],\n",
       "   'times': None,\n",
       "   'conditions': None,\n",
       "   'raw': 'Combine flour, black pepper, garlic salt, onion salt, and cayenne pepper in a large bowl.'}],\n",
       " [{'methods': ['cool', 'cover', 'dry', 'coat', 'mix', 'place'],\n",
       "   'tools': ['cooling rack'],\n",
       "   'ingredients': ['chicken breast', 'flour'],\n",
       "   'times': '15 minutes',\n",
       "   'conditions': 'for 15 minutes',\n",
       "   'raw': 'Coat each chicken breast in flour mixture until well covered on all sides; place flour-coated chicken breasts on a cooling rack to dry for 15 minutes.'}],\n",
       " [{'methods': ['heat'],\n",
       "   'tools': ['large', 'skillet'],\n",
       "   'ingredients': ['vegetable oil'],\n",
       "   'times': None,\n",
       "   'conditions': None,\n",
       "   'raw': 'Heat vegetable oil in a large skillet to 350 degrees F (175 degrees C).'},\n",
       "  {'methods': ['pink', 'cook'],\n",
       "   'tools': [],\n",
       "   'ingredients': ['chicken breast'],\n",
       "   'times': '10 to 15 minutes',\n",
       "   'conditions': 'until browned and no longer pink in the center',\n",
       "   'raw': 'Cook chicken breasts until browned and no longer pink in the center, about 10 to 15 minutes.'},\n",
       "  {'methods': ['read'],\n",
       "   'tools': ['thermometer'],\n",
       "   'ingredients': [],\n",
       "   'times': None,\n",
       "   'conditions': None,\n",
       "   'raw': 'An instant-read thermometer inserted into the center should read at least 165 degrees F (74 degrees C).'}],\n",
       " [{'methods': ['cool', 'transfer', 'allow'],\n",
       "   'tools': ['cooling rack'],\n",
       "   'ingredients': ['chicken'],\n",
       "   'times': '5 minutes',\n",
       "   'conditions': 'for 5 minutes',\n",
       "   'raw': 'Transfer chicken to a cooling rack; allow to cool for 5 minutes.'}]]"
      ]
     },
     "execution_count": 9,
     "metadata": {},
     "output_type": "execute_result"
    }
   ],
   "source": [
    "GetSteps(recipeText)"
   ]
  },
  {
   "cell_type": "code",
   "execution_count": 10,
   "metadata": {},
   "outputs": [
    {
     "data": {
      "text/plain": [
       "{'primary': ['cook'],\n",
       " 'other': ['cool',\n",
       "  'transfer',\n",
       "  'cover',\n",
       "  'keep',\n",
       "  'allow',\n",
       "  'combine',\n",
       "  'remove',\n",
       "  'add',\n",
       "  'pink',\n",
       "  'pour',\n",
       "  'dry',\n",
       "  'coat',\n",
       "  'heat',\n",
       "  'stir',\n",
       "  'mix',\n",
       "  'weigh',\n",
       "  'read',\n",
       "  'drain',\n",
       "  'place',\n",
       "  'set']}"
      ]
     },
     "execution_count": 10,
     "metadata": {},
     "output_type": "execute_result"
    }
   ],
   "source": [
    "GetMethods(recipeText)"
   ]
  },
  {
   "cell_type": "code",
   "execution_count": 14,
   "metadata": {},
   "outputs": [
    {
     "data": {
      "text/plain": [
       "[[{'name': 'cold water',\n",
       "   'quantity': '3',\n",
       "   'measurement': 'cup',\n",
       "   'Preparation': 'NoItem',\n",
       "   'essential': None},\n",
       "  {'name': 'kosher salt',\n",
       "   'quantity': '1/4',\n",
       "   'measurement': 'cup',\n",
       "   'Preparation': 'NoItem',\n",
       "   'essential': None},\n",
       "  {'name': 'honey',\n",
       "   'quantity': '1/4',\n",
       "   'measurement': 'cup',\n",
       "   'Preparation': 'NoItem',\n",
       "   'essential': None},\n",
       "  {'name': 'tempeh',\n",
       "   'quantity': '4',\n",
       "   'measurement': 'NoItem',\n",
       "   'Preparation': 'NoItem',\n",
       "   'essential': 'chicken'},\n",
       "  {'name': 'buttermilk',\n",
       "   'quantity': '1/4',\n",
       "   'measurement': 'cup',\n",
       "   'Preparation': 'NoItem',\n",
       "   'essential': 'buttermilk'},\n",
       "  {'name': 'all-purpose flour',\n",
       "   'quantity': '1',\n",
       "   'measurement': 'cup',\n",
       "   'Preparation': 'NoItem',\n",
       "   'essential': None},\n",
       "  {'name': 'black pepper',\n",
       "   'quantity': '1',\n",
       "   'measurement': 'teaspoon',\n",
       "   'Preparation': 'NoItem',\n",
       "   'essential': None},\n",
       "  {'name': 'garlic salt',\n",
       "   'quantity': '1/2',\n",
       "   'measurement': 'teaspoon',\n",
       "   'Preparation': 'NoItem',\n",
       "   'essential': None},\n",
       "  {'name': 'onion salt',\n",
       "   'quantity': '1/2',\n",
       "   'measurement': 'teaspoon',\n",
       "   'Preparation': 'NoItem',\n",
       "   'essential': None},\n",
       "  {'name': 'cayenne pepper',\n",
       "   'quantity': 'NoItem',\n",
       "   'measurement': 'NoItem',\n",
       "   'Preparation': 'NoItem',\n",
       "   'essential': None},\n",
       "  {'name': 'vegetable oil',\n",
       "   'quantity': 'NoItem',\n",
       "   'measurement': 'NoItem',\n",
       "   'Preparation': 'NoItem',\n",
       "   'essential': None}],\n",
       " [[{'methods': ['stir', 'mix'],\n",
       "    'tools': ['large bowl'],\n",
       "    'ingredients': ['kosher salt', 'cold water', 'honey', 'salt'],\n",
       "    'times': None,\n",
       "    'conditions': 'until salt dissolves',\n",
       "    'raw': 'Mix cold water, kosher salt, and honey in a large bowl; stir until salt dissolves.'},\n",
       "   {'methods': ['weigh', 'keep', 'add'],\n",
       "    'tools': [],\n",
       "    'ingredients': ['tempeh'],\n",
       "    'times': None,\n",
       "    'conditions': None,\n",
       "    'raw': 'Add tempehs, and weigh them down with a plate to keep them completely submerged.'},\n",
       "   {'methods': ['cover'],\n",
       "    'tools': ['bowl', 'plastic wrap'],\n",
       "    'ingredients': [],\n",
       "    'times': '1 hour',\n",
       "    'conditions': 'for 1 hour',\n",
       "    'raw': 'Cover entire bowl with plastic wrap and refrigerate for 1 hour.'}],\n",
       "  [{'methods': ['drain', 'dry', 'remove'],\n",
       "    'tools': ['bowl'],\n",
       "    'ingredients': ['tempeh'],\n",
       "    'times': None,\n",
       "    'conditions': None,\n",
       "    'raw': 'Remove bowl from refrigerator; drain and dry tempeh.'},\n",
       "   {'methods': ['pour'],\n",
       "    'tools': ['large bowl'],\n",
       "    'ingredients': ['tempeh', 'buttermilk'],\n",
       "    'times': None,\n",
       "    'conditions': None,\n",
       "    'raw': 'Pour buttermilk over tempeh in a large bowl.'},\n",
       "   {'methods': ['set'],\n",
       "    'tools': [],\n",
       "    'ingredients': [],\n",
       "    'times': '15 minutes',\n",
       "    'conditions': 'for 15 minutes',\n",
       "    'raw': 'Set aside at room temperature for 15 minutes.'}],\n",
       "  [{'methods': ['combine'],\n",
       "    'tools': ['large bowl'],\n",
       "    'ingredients': ['onion salt',\n",
       "     'garlic salt',\n",
       "     'salt',\n",
       "     'black pepper',\n",
       "     'cayenne pepper',\n",
       "     'flour'],\n",
       "    'times': None,\n",
       "    'conditions': None,\n",
       "    'raw': 'Combine flour, black pepper, garlic salt, onion salt, and cayenne pepper in a large bowl.'}],\n",
       "  [{'methods': ['cool', 'cover', 'dry', 'coat', 'mix', 'place'],\n",
       "    'tools': ['cooling rack'],\n",
       "    'ingredients': ['tempeh', 'flour'],\n",
       "    'times': '15 minutes',\n",
       "    'conditions': 'for 15 minutes',\n",
       "    'raw': 'Coat each tempeh in flour mixture until well covered on all sides; place flour-coated tempehs on a cooling rack to dry for 15 minutes.'}],\n",
       "  [{'methods': ['heat'],\n",
       "    'tools': ['large', 'skillet'],\n",
       "    'ingredients': ['vegetable oil'],\n",
       "    'times': None,\n",
       "    'conditions': None,\n",
       "    'raw': 'Heat vegetable oil in a large skillet to 350 degrees F (175 degrees C).'},\n",
       "   {'methods': ['pink', 'cook'],\n",
       "    'tools': [],\n",
       "    'ingredients': ['tempeh'],\n",
       "    'times': '10 to 15 minutes',\n",
       "    'conditions': 'until browned and no longer pink in the center',\n",
       "    'raw': 'Cook tempehs until browned and no longer pink in the center, about 10 to 15 minutes.'},\n",
       "   {'methods': ['read'],\n",
       "    'tools': ['thermometer'],\n",
       "    'ingredients': [],\n",
       "    'times': None,\n",
       "    'conditions': None,\n",
       "    'raw': 'An instant-read thermometer inserted into the center should read at least 165 degrees F (74 degrees C).'}],\n",
       "  [{'methods': ['cool', 'transfer', 'allow'],\n",
       "    'tools': ['cooling rack'],\n",
       "    'ingredients': ['tempeh'],\n",
       "    'times': '5 minutes',\n",
       "    'conditions': 'for 5 minutes',\n",
       "    'raw': 'Transfer tempeh to a cooling rack; allow to cool for 5 minutes.'}]]]"
      ]
     },
     "execution_count": 14,
     "metadata": {},
     "output_type": "execute_result"
    }
   ],
   "source": [
    "Transformation(recipeText,\"vege\")"
   ]
  },
  {
   "cell_type": "markdown",
   "metadata": {},
   "source": [
    "#txtfilename = 'methods.csv'\n",
    "txtfilename = 'proteins.csv'\n",
    "directory = \"./dictionary/\" + txtfilename\n",
    "masterdata = loadTransformTable(directory)"
   ]
  },
  {
   "cell_type": "markdown",
   "metadata": {},
   "source": [
    "list_methods = getLOfMethods('./dictionary/methods.csv')\n",
    "methodlist = [item.lower() for item in list_methods]\n",
    "recipeDirectons = getDirections(recipeText)\n",
    "pri_method = longestCookingMethod(recipeDirectons, methodlist)\n",
    "all_methods = getVerbs(recipeDirectons)\n",
    "addi_method = isPrepMethod(methodlist, pri_method)\n",
    "methods_dict = {}\n",
    "methods_dict['primary'] = pri_method\n",
    "methods_dict['other'] = addi_method"
   ]
  },
  {
   "cell_type": "code",
   "execution_count": null,
   "metadata": {},
   "outputs": [],
   "source": []
  },
  {
   "cell_type": "markdown",
   "metadata": {},
   "source": [
    "tokens = nltk.word_tokenize('Add chicken breasts, and weigh them down with a plate to keep them completely submerged.'.lower())\n",
    "essential_ingr = [get_essentials(ingredient['name']) for ingredient in ingredients if get_essentials(ingredient['name']) in tokens]"
   ]
  },
  {
   "cell_type": "markdown",
   "metadata": {},
   "source": [
    "substep =   {'raw': 'Add chicken breasts, and weigh them down with a plate to keep them completely submerged.',\n",
    "   'methods': ['keep', 'weigh', 'add'],\n",
    "   'ingredients': [],\n",
    "   'tools': [],\n",
    "   'times': None,\n",
    "   'conditions': None}\n",
    "substep['ingredients'] = substep['ingredients'] + essential_ingr\n",
    "substep\n"
   ]
  },
  {
   "cell_type": "code",
   "execution_count": null,
   "metadata": {},
   "outputs": [],
   "source": [
    "from helpers import *\n",
    "masterdata = loadTransformTable(\"./dictionary/proteins.csv\")\n",
    "protype = masterdata[masterdata['protein'] == 'chicken']['vegan_dim'].item()\n",
    "protype"
   ]
  },
  {
   "cell_type": "code",
   "execution_count": null,
   "metadata": {},
   "outputs": [],
   "source": [
    "ingredients = GetIngredients(recipeText)\n",
    "ingredients"
   ]
  },
  {
   "cell_type": "code",
   "execution_count": null,
   "metadata": {},
   "outputs": [],
   "source": [
    "\n",
    "replacementdict = ingredToVeg(ingredients, masterdata)\n",
    "replacementdict"
   ]
  },
  {
   "cell_type": "code",
   "execution_count": null,
   "metadata": {},
   "outputs": [],
   "source": [
    "steps = GetSteps(recipeText)"
   ]
  },
  {
   "cell_type": "code",
   "execution_count": null,
   "metadata": {},
   "outputs": [],
   "source": [
    "replaceIngrInSteps(steps, replacementdict)"
   ]
  },
  {
   "cell_type": "code",
   "execution_count": null,
   "metadata": {},
   "outputs": [],
   "source": []
  },
  {
   "cell_type": "markdown",
   "metadata": {},
   "source": [
    "#ingfull = 'boneless skinless chicken breast halves'\n",
    "ingfull2 = 'yummy chicken stock'\n",
    "ingtokens = word_tokenize(ingfull2)\n",
    "def bigramsMatchKeyword(ingtokens, keyword):\n",
    "    keywordposition = ingtokens.index(keyword)\n",
    "    ingbigrams = list(bigrams(ingtokens))\n",
    "    gen_bigrams = []\n",
    "    if keywordposition != 0:\n",
    "        bg_before = ingbigrams[keywordposition-1][0] + \" \" + ingbigrams[keywordposition-1][1]\n",
    "        gen_bigrams.append(bg_before)\n",
    "    if keywordposition != len(ingtokens) - 1:\n",
    "        bg_after = ingbigrams[keywordposition][0] + \" \" + ingbigrams[keywordposition][1]\n",
    "        gen_bigrams.append(bg_after)\n",
    "    return gen_bigrams\n",
    "\n",
    "k = bigramsMatchKeyword(ingtokens, 'chicken')\n",
    "k[1]+\"s\""
   ]
  },
  {
   "cell_type": "code",
   "execution_count": null,
   "metadata": {},
   "outputs": [],
   "source": [
    "list(ingbigrams)\n",
    "#ingtokens.index('chicken')"
   ]
  },
  {
   "cell_type": "code",
   "execution_count": null,
   "metadata": {},
   "outputs": [],
   "source": [
    "'stock' in 'chicken broth' or 'broth' in 'chicken broth'"
   ]
  },
  {
   "cell_type": "code",
   "execution_count": null,
   "metadata": {},
   "outputs": [],
   "source": [
    "word_tokenize('lobster tails,')"
   ]
  },
  {
   "cell_type": "code",
   "execution_count": null,
   "metadata": {},
   "outputs": [],
   "source": []
  }
 ],
 "metadata": {
  "kernelspec": {
   "display_name": "Python 3",
   "language": "python",
   "name": "python3"
  },
  "language_info": {
   "codemirror_mode": {
    "name": "ipython",
    "version": 3
   },
   "file_extension": ".py",
   "mimetype": "text/x-python",
   "name": "python",
   "nbconvert_exporter": "python",
   "pygments_lexer": "ipython3",
   "version": "3.7.0"
  }
 },
 "nbformat": 4,
 "nbformat_minor": 2
}
