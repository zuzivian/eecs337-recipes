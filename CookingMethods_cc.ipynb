{
 "cells": [
  {
   "cell_type": "code",
   "execution_count": 25,
   "metadata": {},
   "outputs": [],
   "source": [
    "import pandas as pd\n",
    "from nltk import *"
   ]
  },
  {
   "cell_type": "code",
   "execution_count": 26,
   "metadata": {},
   "outputs": [],
   "source": [
    "from framework import *\n",
    "from ingredients import *\n",
    "from helpers import *\n",
    "from AutoCrawl import *\n",
    "from steps import *"
   ]
  },
  {
   "cell_type": "code",
   "execution_count": 71,
   "metadata": {
    "scrolled": true
   },
   "outputs": [],
   "source": [
    "def getVerbs(text):\n",
    "    methodlist = set()\n",
    "    #sentences = text.split(\"\\n\")\n",
    "    for sentences in text:\n",
    "        method = sentence_verbs(sentences)\n",
    "        methodlist = methodlist.union(set(method))\n",
    "    return list(methodlist)\n",
    "\n",
    "def sentence_verbs(sentence):\n",
    "    vblist = []\n",
    "    subsentencelist = re.split('[;.:]', sentence)\n",
    "    for subs in subsentencelist:\n",
    "        vb = subsentence_verbs(subs)\n",
    "        vblist = vblist + vb\n",
    "    return vblist\n",
    "        \n",
    "def subsentence_verbs(subsentence):\n",
    "    tokens = word_tokenize(subsentence)\n",
    "    tagtup = nltk.pos_tag(tokens)\n",
    "    methodlist = []\n",
    "    for i in range(len(tagtup)):\n",
    "        if i == 0 and tagtup[0][1] not in [\"RB\", \"DT\"]:\n",
    "            methodlist.append(tagtup[i][0].lower())\n",
    "        elif tagtup[i][1] in [\"VB\", \"VBZ\"] and tagtup[i][0] not in ['is', 'are', 'am', 'a', 'an']:\n",
    "            methodlist.append(tagtup[i][0].lower())\n",
    "    return methodlist\n",
    "\n",
    "def getLOfMethods(fname):\n",
    "    with open(fname) as f:\n",
    "        content = f.readlines()\n",
    "    content = [x.strip() for x in content]\n",
    "    content = [x.lower() for x in content]\n",
    "    return content\n",
    "\n",
    "def isCookingMethod(verblist, allmethods):\n",
    "    methods = []\n",
    "    for verb in verblist:\n",
    "        if verb in allmethods:\n",
    "            methods.append(verb)\n",
    "    return methods\n",
    "\n",
    "def isPrepMethod(verblist, cookingmethod):\n",
    "    prepmethod = list(set(verblist) - set(cookingmethod))\n",
    "    return prepmethod\n",
    "\n",
    "def mainIngCookingMethod(mainingr, sentences):\n",
    "    cookingList = set()\n",
    "    for sentence in sentences:\n",
    "        if mainingr in sentence.lower():\n",
    "            method = sentence_verbs(sentence)\n",
    "            cooking = isCookingMethod(method, allmethods)\n",
    "            cookingList = cookingList.union(cooking)\n",
    "\n",
    "    return list(cookingList)\n",
    "\n",
    "def parse_max_cook_time(get_times_result):\n",
    "    timevalue = 0\n",
    "    if isinstance(get_times_result, str) == True:\n",
    "        splitted = get_times_result.split(\" \")\n",
    "        if 'hour' in get_times_result:\n",
    "            timevalue += 3600 * int(splitted[len(splitted)-2])\n",
    "        elif 'minute' in get_times_result:\n",
    "            timevalue += 60 * int(splitted[len(splitted)-2])\n",
    "        elif 'second' in get_times_result:\n",
    "            timevalue += int(splitted[len(splitted)-2])\n",
    "        else:\n",
    "            timevalue += 0\n",
    "    return timevalue\n",
    "\n",
    "def longestCookingMethod(sentences):\n",
    "    minimumtime = 0\n",
    "    for sentence in sentences:\n",
    "        cookingtimestring = get_times(sentence)\n",
    "        cookingtimestep = parse_max_cook_time(cookingtimestring)\n",
    "        if cookingtimestep > 0 and cookingtimestep > minimumtime:\n",
    "            maincookingverb = sentence_verbs(sentence)\n",
    "            maincookingmethod = isCookingMethod(maincookingverb, allmethods)\n",
    "            if len(maincookingmethod) > 0:\n",
    "                minimumtime = cookingtimestep\n",
    "    return maincookingmethod"
   ]
  },
  {
   "cell_type": "markdown",
   "metadata": {},
   "source": [
    "mainingr = 'cauliflower'\n",
    "def ingredientMentionCount(mainingr, sentences):\n",
    "    mentioned = 0\n",
    "    countDict = dict()\n",
    "    for sentence in sentences:\n",
    "        if mainingr in sentence.lower():\n",
    "            mentioned += 1\n",
    "    countDict[mainingr] = mentioned \n",
    "    return countDict\n",
    "\n",
    "ingredientMentionCount(mainingr, sentences)"
   ]
  },
  {
   "cell_type": "code",
   "execution_count": null,
   "metadata": {},
   "outputs": [],
   "source": []
  },
  {
   "cell_type": "code",
   "execution_count": 78,
   "metadata": {},
   "outputs": [
    {
     "name": "stdout",
     "output_type": "stream",
     "text": [
      "Recipe File already exists\n"
     ]
    },
    {
     "data": {
      "text/plain": [
       "{'primary': ['bake'],\n",
       " 'preparatory': ['stir',\n",
       "  'dilute',\n",
       "  'reduce',\n",
       "  'pare',\n",
       "  'shuck',\n",
       "  'braise',\n",
       "  'stir-fry',\n",
       "  'knead',\n",
       "  'scald',\n",
       "  'deseed',\n",
       "  'knock back',\n",
       "  'fold',\n",
       "  'baste',\n",
       "  'dust',\n",
       "  'shallow-fry',\n",
       "  'parboil',\n",
       "  'steep',\n",
       "  'score',\n",
       "  'bruise',\n",
       "  'season',\n",
       "  'blanch',\n",
       "  'whisk',\n",
       "  'sauté',\n",
       "  'caramelize',\n",
       "  'cook',\n",
       "  'simmer',\n",
       "  'marinate',\n",
       "  'dry-fry',\n",
       "  'sear',\n",
       "  'acidulate',\n",
       "  'crumb',\n",
       "  'macerate',\n",
       "  'al dente',\n",
       "  'poach',\n",
       "  'broil',\n",
       "  'devein',\n",
       "  'blind',\n",
       "  'beat',\n",
       "  'grease',\n",
       "  'julienne',\n",
       "  'emulsify']}"
      ]
     },
     "execution_count": 78,
     "metadata": {},
     "output_type": "execute_result"
    }
   ],
   "source": [
    "list_methods = getLOfMethods('ListOfMethods.txt')\n",
    "allmethods = [item.lower() for item in list_methods]\n",
    "recipeText = GetData(\"https://www.allrecipes.com/recipe/219981/crab-stuffed-lobster-tail/\")\n",
    "recipeDirecton = recipeText[recipeText.index('Directions:\\n') + 1:len(recipeText)]\n",
    "\n",
    "def getMethodsDict(text, methodlist):\n",
    "    pri_method = longestCookingMethod(text)\n",
    "    all_methods = getVerbs(text)\n",
    "    addi_method = isPrepMethod(methodlist, pri_method)\n",
    "    methods_dict = {}\n",
    "    methods_dict['primary'] = pri_method\n",
    "    methods_dict['preparatory'] = addi_method\n",
    "    return methods_dict\n",
    "\n",
    "getMethodsDict(recipeDirecton, allmethods)"
   ]
  },
  {
   "cell_type": "code",
   "execution_count": 57,
   "metadata": {},
   "outputs": [],
   "source": [
    "example = '''Preheat oven to 400 degrees F (200 degrees C). \n",
    "Line a baking sheet with parchment paper.                            \n",
    "Place cauliflower florets in a food processor; pulse until chopped into grains the size of rice.                            \n",
    "Fill a large pot with about 1 inch of water; bring to a boil. Add cauliflower \"rice\"; cook until softened, 4 to 5 minutes. Drain in a fine sieve and cool until running water.  \n",
    "                          \n",
    "Pour cauliflower onto a clean dish towel; roll up and twist edges. Wring out as much water as possible.  \n",
    "                          \n",
    "Transfer cauliflower to a large bowl.\n",
    "Add egg, mozzarella cheese, oregano, and salt; mix well. Spread on the lined baking sheet to about 1/2-inch thickness.                            \n",
    "Bake in the preheated oven until firm to the touch and light golden brown in color, about 35 minutes.  '''"
   ]
  },
  {
   "cell_type": "code",
   "execution_count": 58,
   "metadata": {},
   "outputs": [
    {
     "name": "stdout",
     "output_type": "stream",
     "text": [
      "VBZ\n"
     ]
    },
    {
     "data": {
      "text/plain": [
       "['spread',\n",
       " 'bake',\n",
       " 'pulse',\n",
       " 'line',\n",
       " 'fill',\n",
       " 'add',\n",
       " 'cook',\n",
       " 'roll',\n",
       " 'pour',\n",
       " 'drain',\n",
       " 'cauliflower',\n",
       " 'preheat',\n",
       " 'wring',\n",
       " 'mix',\n",
       " 'bring',\n",
       " 'transfer',\n",
       " 'place']"
      ]
     },
     "execution_count": 58,
     "metadata": {},
     "output_type": "execute_result"
    }
   ],
   "source": [
    "V1 = getVerbs(example.split(\"\\n\"))\n",
    "V1"
   ]
  },
  {
   "cell_type": "code",
   "execution_count": 59,
   "metadata": {},
   "outputs": [
    {
     "data": {
      "text/plain": [
       "['bake', 'cook']"
      ]
     },
     "execution_count": 59,
     "metadata": {},
     "output_type": "execute_result"
    }
   ],
   "source": [
    "isCookingMethod(V1, allmethods)"
   ]
  },
  {
   "cell_type": "code",
   "execution_count": 60,
   "metadata": {},
   "outputs": [
    {
     "data": {
      "text/plain": [
       "['spread',\n",
       " 'pulse',\n",
       " 'fill',\n",
       " 'line',\n",
       " 'add',\n",
       " 'roll',\n",
       " 'pour',\n",
       " 'drain',\n",
       " 'cauliflower',\n",
       " 'preheat',\n",
       " 'wring',\n",
       " 'mix',\n",
       " 'bring',\n",
       " 'transfer',\n",
       " 'place']"
      ]
     },
     "execution_count": 60,
     "metadata": {},
     "output_type": "execute_result"
    }
   ],
   "source": [
    "k = isCookingMethod(V1, allmethods)\n",
    "isPrepMethod(V1 ,k)"
   ]
  },
  {
   "cell_type": "code",
   "execution_count": 61,
   "metadata": {},
   "outputs": [
    {
     "name": "stdout",
     "output_type": "stream",
     "text": [
      "{'name': 'lasagna noodles', 'quantity': '9', 'measurement': 'NoItem'}\n",
      "{'name': 'butter', 'quantity': '1/2', 'measurement': 'cup'}\n",
      "{'name': 'onion', 'quantity': '1', 'measurement': 'NoItem'}\n",
      "{'name': 'garlic', 'quantity': '1', 'measurement': 'clove'}\n",
      "{'name': 'flour', 'quantity': '1/2', 'measurement': 'cup'}\n",
      "{'name': 'salt', 'quantity': '1', 'measurement': 'teaspoon'}\n",
      "{'name': 'broth', 'quantity': '2', 'measurement': 'cup'}\n",
      "{'name': 'milk', 'quantity': '1/2', 'measurement': 'cup'}\n",
      "{'name': 'mozzarella cheese', 'quantity': '4', 'measurement': 'cup'}\n",
      "{'name': 'Parmesan', 'quantity': '1', 'measurement': 'cup'}\n",
      "{'name': 'basil', 'quantity': '1', 'measurement': 'teaspoon'}\n",
      "{'name': 'oregano', 'quantity': '1', 'measurement': 'teaspoon'}\n",
      "{'name': 'ground', 'quantity': '1/2', 'measurement': 'teaspoon'}\n",
      "{'name': 'ricotta cheese', 'quantity': '2', 'measurement': 'cup'}\n",
      "{'name': 'meat', 'quantity': '2', 'measurement': 'cup'}\n",
      "{'name': 'spinach', 'quantity': '10', 'measurement': 'ounce'}\n",
      "{'name': 'parsley', 'quantity': '1', 'measurement': 'tablespoon'}\n",
      "{'name': 'Parmesan cheese', 'quantity': '1/4', 'measurement': 'cup'}\n",
      "[{'name': 'lasagna noodles', 'quantity': '9', 'measurement': 'NoItem'}, {'name': 'butter', 'quantity': '1/2', 'measurement': 'cup'}, {'name': 'onion', 'quantity': '1', 'measurement': 'NoItem'}, {'name': 'garlic', 'quantity': '1', 'measurement': 'clove'}, {'name': 'flour', 'quantity': '1/2', 'measurement': 'cup'}, {'name': 'salt', 'quantity': '1', 'measurement': 'teaspoon'}, {'name': 'broth', 'quantity': '2', 'measurement': 'cup'}, {'name': 'milk', 'quantity': '1/2', 'measurement': 'cup'}, {'name': 'mozzarella cheese', 'quantity': '4', 'measurement': 'cup'}, {'name': 'Parmesan', 'quantity': '1', 'measurement': 'cup'}, {'name': 'basil', 'quantity': '1', 'measurement': 'teaspoon'}, {'name': 'oregano', 'quantity': '1', 'measurement': 'teaspoon'}, {'name': 'ground', 'quantity': '1/2', 'measurement': 'teaspoon'}, {'name': 'ricotta cheese', 'quantity': '2', 'measurement': 'cup'}, {'name': 'meat', 'quantity': '2', 'measurement': 'cup'}, {'name': 'spinach', 'quantity': '10', 'measurement': 'ounce'}, {'name': 'parsley', 'quantity': '1', 'measurement': 'tablespoon'}, {'name': 'Parmesan cheese', 'quantity': '1/4', 'measurement': 'cup'}]\n"
     ]
    }
   ],
   "source": [
    "allingredient = FormIngredientList('data/white-cheese-chicken-lasagna.txt')\n",
    "mainingr = allingredient[0]['name']"
   ]
  },
  {
   "cell_type": "code",
   "execution_count": 62,
   "metadata": {},
   "outputs": [
    {
     "data": {
      "text/plain": [
       "[]"
      ]
     },
     "execution_count": 62,
     "metadata": {},
     "output_type": "execute_result"
    }
   ],
   "source": [
    "sentences = example.split(\"\\n\")\n",
    "mainIngCookingMethod(mainingr, sentences)"
   ]
  },
  {
   "cell_type": "code",
   "execution_count": 63,
   "metadata": {},
   "outputs": [
    {
     "name": "stdout",
     "output_type": "stream",
     "text": [
      "VBZ\n"
     ]
    },
    {
     "data": {
      "text/plain": [
       "['bake']"
      ]
     },
     "execution_count": 63,
     "metadata": {},
     "output_type": "execute_result"
    }
   ],
   "source": [
    "longestCookingMethod(example.split(\"\\n\"))"
   ]
  },
  {
   "cell_type": "code",
   "execution_count": 50,
   "metadata": {},
   "outputs": [
    {
     "data": {
      "text/plain": [
       "['Preheat oven to 425 degrees F (220 degrees C).\\n',\n",
       " 'Pull the edges of the split lobster shells apart and gently lift the tail meat to rest above the shells. Place the prepared lobster tails on a baking sheet.\\n',\n",
       " 'Brush each portion of tail meat with 1 teaspoon melted butter.\\n',\n",
       " 'Lightly mix the crushed crackers, crabmeat, 1/4 cup of clarified butter, parsley, seafood seasoning, garlic, lemon zest, lemon juice, salt, and white pepper in a bowl until thoroughly combined.\\n',\n",
       " '\"Spoon half the stuffing onto each lobster tail; press lightly to slightly shape the stuffing so it doesnt fall off.\\n',\n",
       " 'Bake the lobster tails in the preheated oven until the meat is opaque and the stuffing is golden brown on top, 10 to 12 minutes. An instant-read thermometer inserted into the thickest part of the lobster tail should read 145 degrees F (65 degrees C).\\n']"
      ]
     },
     "execution_count": 50,
     "metadata": {},
     "output_type": "execute_result"
    }
   ],
   "source": [
    "recipeDirecton"
   ]
  },
  {
   "cell_type": "code",
   "execution_count": 51,
   "metadata": {},
   "outputs": [
    {
     "name": "stdout",
     "output_type": "stream",
     "text": [
      "{'name': 'lobster tails split', 'quantity': '2', 'measurement': 'NoItem'}\n",
      "{'name': 'butter', 'quantity': '2', 'measurement': 'teaspoon'}\n",
      "{'name': 'buttery round crackers', 'quantity': '15', 'measurement': 'NoItem'}\n",
      "{'name': 'lump crabmeat', 'quantity': '1/2', 'measurement': 'cup'}\n",
      "{'name': 'butter', 'quantity': '1/4', 'measurement': 'cup'}\n",
      "{'name': 'parsley leaves', 'quantity': '1', 'measurement': 'tablespoon'}\n",
      "{'name': 'seafood', 'quantity': '1', 'measurement': 'teaspoon'}\n",
      "{'name': 'garlic', 'quantity': '1', 'measurement': 'clove'}\n",
      "{'name': 'lemon zest', 'quantity': '1', 'measurement': 'teaspoon'}\n",
      "{'name': 'lemon juice', 'quantity': '1', 'measurement': 'tablespoon'}\n",
      "{'name': 'salt', 'quantity': '1/4', 'measurement': 'teaspoon'}\n",
      "{'name': 'pepper', 'quantity': '1/4', 'measurement': 'teaspoon'}\n",
      "[{'name': 'lobster tails split', 'quantity': '2', 'measurement': 'NoItem'}, {'name': 'butter', 'quantity': '2', 'measurement': 'teaspoon'}, {'name': 'buttery round crackers', 'quantity': '15', 'measurement': 'NoItem'}, {'name': 'lump crabmeat', 'quantity': '1/2', 'measurement': 'cup'}, {'name': 'butter', 'quantity': '1/4', 'measurement': 'cup'}, {'name': 'parsley leaves', 'quantity': '1', 'measurement': 'tablespoon'}, {'name': 'seafood', 'quantity': '1', 'measurement': 'teaspoon'}, {'name': 'garlic', 'quantity': '1', 'measurement': 'clove'}, {'name': 'lemon zest', 'quantity': '1', 'measurement': 'teaspoon'}, {'name': 'lemon juice', 'quantity': '1', 'measurement': 'tablespoon'}, {'name': 'salt', 'quantity': '1/4', 'measurement': 'teaspoon'}, {'name': 'pepper', 'quantity': '1/4', 'measurement': 'teaspoon'}]\n"
     ]
    },
    {
     "data": {
      "text/plain": [
       "['bake']"
      ]
     },
     "execution_count": 51,
     "metadata": {},
     "output_type": "execute_result"
    }
   ],
   "source": [
    "allingredient = FormIngredientList('data/crab-stuffed-lobster-tail.txt')\n",
    "#mainingr = allingredient[0]['name']\n",
    "mainingr = 'lobster tails'\n",
    "mainIngCookingMethod(mainingr, recipeDirecton)"
   ]
  },
  {
   "cell_type": "code",
   "execution_count": 74,
   "metadata": {},
   "outputs": [
    {
     "data": {
      "text/plain": [
       "['preheat',\n",
       " 'bake',\n",
       " 'mix',\n",
       " 'brush',\n",
       " 'read',\n",
       " 'press',\n",
       " 'fall',\n",
       " 'lift',\n",
       " 'pull',\n",
       " 'shape',\n",
       " '``',\n",
       " 'doesnt',\n",
       " 'place',\n",
       " 'rest']"
      ]
     },
     "execution_count": 74,
     "metadata": {},
     "output_type": "execute_result"
    }
   ],
   "source": [
    "getVerbs(recipeDirecton)"
   ]
  },
  {
   "cell_type": "code",
   "execution_count": null,
   "metadata": {},
   "outputs": [],
   "source": []
  },
  {
   "cell_type": "code",
   "execution_count": 73,
   "metadata": {},
   "outputs": [
    {
     "data": {
      "text/plain": [
       "[('\"Spoon', 'RB'),\n",
       " ('half', 'PDT'),\n",
       " ('the', 'DT'),\n",
       " ('stuffing', 'VBG'),\n",
       " ('onto', 'IN'),\n",
       " ('each', 'DT'),\n",
       " ('lobster', 'NN'),\n",
       " ('tail;', 'NN'),\n",
       " ('press', 'NN'),\n",
       " ('lightly', 'RB'),\n",
       " ('to', 'TO'),\n",
       " ('slightly', 'RB'),\n",
       " ('shape', 'VB'),\n",
       " ('the', 'DT'),\n",
       " ('stuffing', 'NN'),\n",
       " ('so', 'IN'),\n",
       " ('it', 'PRP'),\n",
       " ('doesnt', 'VBZ'),\n",
       " ('fall', 'NN'),\n",
       " ('off.', 'NN')]"
      ]
     },
     "execution_count": 73,
     "metadata": {},
     "output_type": "execute_result"
    }
   ],
   "source": [
    "nltk.pos_tag('\"Spoon half the stuffing onto each lobster tail; press lightly to slightly shape the stuffing so it doesnt fall off.\\n'.split())"
   ]
  },
  {
   "cell_type": "code",
   "execution_count": null,
   "metadata": {},
   "outputs": [],
   "source": []
  },
  {
   "cell_type": "code",
   "execution_count": null,
   "metadata": {},
   "outputs": [],
   "source": []
  },
  {
   "cell_type": "code",
   "execution_count": null,
   "metadata": {},
   "outputs": [],
   "source": []
  },
  {
   "cell_type": "code",
   "execution_count": null,
   "metadata": {},
   "outputs": [],
   "source": []
  }
 ],
 "metadata": {
  "kernelspec": {
   "display_name": "Python 3",
   "language": "python",
   "name": "python3"
  },
  "language_info": {
   "codemirror_mode": {
    "name": "ipython",
    "version": 3
   },
   "file_extension": ".py",
   "mimetype": "text/x-python",
   "name": "python",
   "nbconvert_exporter": "python",
   "pygments_lexer": "ipython3",
   "version": "3.7.0"
  }
 },
 "nbformat": 4,
 "nbformat_minor": 2
}
