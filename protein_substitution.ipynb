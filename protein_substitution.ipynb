{
 "cells": [
  {
   "cell_type": "code",
   "execution_count": null,
   "metadata": {},
   "outputs": [],
   "source": [
    "from framework import *"
   ]
  },
  {
   "cell_type": "code",
   "execution_count": null,
   "metadata": {},
   "outputs": [],
   "source": [
    "import pandas as pd\n",
    "from nltk import *\n",
    "from framework import *\n",
    "from ingredients import *\n",
    "from helpers import *\n",
    "from AutoCrawl import *\n",
    "from steps import *"
   ]
  },
  {
   "cell_type": "code",
   "execution_count": null,
   "metadata": {},
   "outputs": [],
   "source": [
    "masterdata = pd.DataFrame()\n",
    "datalist = []\n",
    "txtfilename = 'proteins.csv'\n",
    "\n",
    "directory = \".\\data\\\\\" + txtfilename\n",
    "masterdata = pd.read_csv(directory, delimiter=',', header = 0)\n",
    "#masterdata"
   ]
  },
  {
   "cell_type": "code",
   "execution_count": null,
   "metadata": {},
   "outputs": [],
   "source": [
    "def proteinType(input_protein, masterdata):\n",
    "    protype = masterdata[masterdata['protein'] == input_protein]['veg_dim'].item()\n",
    "    return protype\n",
    "\n",
    "def proteinSub(input_protein, masterdata):\n",
    "    replacement = masterdata[masterdata['protein'] == input_protein]['veg_closest'].item()\n",
    "    return replacement"
   ]
  },
  {
   "cell_type": "code",
   "execution_count": null,
   "metadata": {
    "scrolled": true
   },
   "outputs": [],
   "source": [
    "text = GetData(\"https://www.allrecipes.com/recipe/150306/the-best-chicken-fried-steak/\")\n",
    "#text = GetData(\"https://www.allrecipes.com/recipe/8758/white-cheese-chicken-lasagna/\")"
   ]
  },
  {
   "cell_type": "code",
   "execution_count": null,
   "metadata": {},
   "outputs": [],
   "source": [
    "def ingredToVeg(inglist):\n",
    "    replacedict = {}\n",
    "    for ingfull in inglist:\n",
    "        print(ingfull)\n",
    "        ingredient = ingfull['name'].split()\n",
    "        indict = set(ingredient).intersection(set(masterdata['protein']))\n",
    "        if len(indict) > 0:\n",
    "            indictlist = list(indict)\n",
    "            for i in range(len(indictlist)):\n",
    "                item = indictlist[i]\n",
    "                typecheck = proteinType(item, masterdata)\n",
    "                if typecheck == \"meat\":\n",
    "                    typereplace = proteinSub(item, masterdata)\n",
    "                    replacedict[ingfull['name']] = typereplace\n",
    "                else:\n",
    "                    typereplace = item\n",
    "    return replacedict\n",
    "\n",
    "replacementdict = ingredToVeg(ingredientlist)"
   ]
  },
  {
   "cell_type": "code",
   "execution_count": null,
   "metadata": {},
   "outputs": [],
   "source": [
    "ingredientlist = GetIngredients(text)"
   ]
  },
  {
   "cell_type": "code",
   "execution_count": null,
   "metadata": {},
   "outputs": [],
   "source": [
    "def replaceIngrInIngrs(ingredients, replacementdict):\n",
    "    for item in ingredientlist:\n",
    "        if item['name'] in list(replacementdict.keys()):\n",
    "            print(item)\n",
    "            tobereplace = item['name']\n",
    "            item['name'] = replacementdict[tobereplace]\n",
    "                        \n",
    "    return ingredients"
   ]
  },
  {
   "cell_type": "code",
   "execution_count": null,
   "metadata": {},
   "outputs": [],
   "source": [
    "replacementdict = {'beef cube steaks': \"tofu cutlets\", \"egg\": \"soy egg\", \"black pepper\": \"chili\"}\n",
    "replaceIngrInIngrs(ingredientlist, replacementdict)"
   ]
  },
  {
   "cell_type": "code",
   "execution_count": null,
   "metadata": {},
   "outputs": [],
   "source": [
    "#'beef cube steaks' in [replacementdict.keys()]\n",
    "list(replacementdict.keys())"
   ]
  },
  {
   "cell_type": "code",
   "execution_count": null,
   "metadata": {},
   "outputs": [],
   "source": [
    "stepsIns = GetSteps(text)\n",
    "\n",
    "def replaceIngrInSteps(steps, replacementdict):\n",
    "    for step in steps:\n",
    "        for substep in step:\n",
    "            if len(set(substep['ingredients']).intersection(set(replacementdict.keys()))) > 0:\n",
    "                tobereplace = substep['ingredients']\n",
    "                substep['ingredients'] = []\n",
    "                for i in range(len(tobereplace)):\n",
    "                    if tobereplace[i] in list(replacementdict.keys()):\n",
    "                        newitem = replacementdict[tobereplace[i]]\n",
    "                        substep['ingredients'].append(newitem)\n",
    "                        print(tobereplace[i])\n",
    "                        print(newitem)\n",
    "                        substep['raw'] = substep['raw'].replace(tobereplace[i], newitem)\n",
    "                    else:\n",
    "                        substep['ingredients'].append(tobereplace[i])\n",
    "                        \n",
    "    return steps\n",
    "\n",
    "replaceIngrInSteps(stepsIns, replacementdict)"
   ]
  },
  {
   "cell_type": "code",
   "execution_count": null,
   "metadata": {},
   "outputs": [],
   "source": [
    "list({'beef'})[0]"
   ]
  },
  {
   "cell_type": "code",
   "execution_count": null,
   "metadata": {},
   "outputs": [],
   "source": [
    "proteinType('egg', masterdata)"
   ]
  },
  {
   "cell_type": "code",
   "execution_count": null,
   "metadata": {},
   "outputs": [],
   "source": [
    "k = masterdata[masterdata['protein'] == 'egg']['veg_dim']\n",
    "k"
   ]
  },
  {
   "cell_type": "code",
   "execution_count": null,
   "metadata": {},
   "outputs": [],
   "source": [
    "proteinType('beef', masterdata)\n",
    "proteinSub('beef', masterdata)\n",
    "proteinType('beef', masterdata)\n",
    "replacementdict"
   ]
  },
  {
   "cell_type": "code",
   "execution_count": null,
   "metadata": {},
   "outputs": [],
   "source": [
    "text = GetData(\"https://www.allrecipes.com/recipe/8758/white-cheese-chicken-lasagna/\")\n",
    "ingredientlist = GetIngredients(text)\n",
    "stepsIns = GetSteps(text)\n",
    "\n",
    "def TransToVeggie(ingredients,steps):\n",
    "    rep_dict = ingredToVeg(ingredients)\n",
    "    if len(rep_dict) > 0:\n",
    "        newingr = replaceIngrInIngrs(ingredients, rep_dict)\n",
    "        newsteps = replaceIngrInSteps(steps, rep_dict)\n",
    "        return [newingr, newsteps]\n",
    "    else:\n",
    "        return [ingredientlist, stepsIns]\n",
    "    \n",
    "TransToVeggie(ingredientlist,stepsIns)"
   ]
  },
  {
   "cell_type": "code",
   "execution_count": null,
   "metadata": {},
   "outputs": [],
   "source": [
    "rep_dict"
   ]
  },
  {
   "cell_type": "code",
   "execution_count": null,
   "metadata": {},
   "outputs": [],
   "source": []
  },
  {
   "cell_type": "code",
   "execution_count": 1,
   "metadata": {},
   "outputs": [],
   "source": [
    "from framework_alt import *"
   ]
  },
  {
   "cell_type": "code",
   "execution_count": 2,
   "metadata": {},
   "outputs": [
    {
     "name": "stdout",
     "output_type": "stream",
     "text": [
      "Recipe File already exists\n"
     ]
    },
    {
     "ename": "NameError",
     "evalue": "name 'get_stepsN' is not defined",
     "output_type": "error",
     "traceback": [
      "\u001b[1;31m---------------------------------------------------------------------------\u001b[0m",
      "\u001b[1;31mNameError\u001b[0m                                 Traceback (most recent call last)",
      "\u001b[1;32m<ipython-input-2-9102e2682c27>\u001b[0m in \u001b[0;36m<module>\u001b[1;34m()\u001b[0m\n\u001b[0;32m      1\u001b[0m \u001b[0mrecipeText\u001b[0m \u001b[1;33m=\u001b[0m \u001b[0mGetData\u001b[0m\u001b[1;33m(\u001b[0m\u001b[1;34m\"https://www.allrecipes.com/recipe/221227/honey-brined-fried-chicken-breasts/\"\u001b[0m\u001b[1;33m)\u001b[0m\u001b[1;33m\u001b[0m\u001b[0m\n\u001b[0;32m      2\u001b[0m \u001b[1;31m#recipeText = GetData(\"https://www.allrecipes.com/recipe/219981/crab-stuffed-lobster-tail/\")\u001b[0m\u001b[1;33m\u001b[0m\u001b[1;33m\u001b[0m\u001b[0m\n\u001b[1;32m----> 3\u001b[1;33m \u001b[0mGetSteps\u001b[0m\u001b[1;33m(\u001b[0m\u001b[0mrecipeText\u001b[0m\u001b[1;33m)\u001b[0m\u001b[1;33m\u001b[0m\u001b[0m\n\u001b[0m",
      "\u001b[1;32m~\\Dropbox\\Academics\\EECS337 Natural Language Processing\\eecs337-recipes\\framework_alt.py\u001b[0m in \u001b[0;36mGetSteps\u001b[1;34m(text)\u001b[0m\n\u001b[0;32m     56\u001b[0m \u001b[1;32mdef\u001b[0m \u001b[0mGetSteps\u001b[0m\u001b[1;33m(\u001b[0m\u001b[0mtext\u001b[0m\u001b[1;33m)\u001b[0m\u001b[1;33m:\u001b[0m\u001b[1;33m\u001b[0m\u001b[0m\n\u001b[0;32m     57\u001b[0m         \u001b[1;34m\"\"\"Return a list of steps that each consist of ingredients, tools, methods, and times\"\"\"\u001b[0m\u001b[1;33m\u001b[0m\u001b[0m\n\u001b[1;32m---> 58\u001b[1;33m         \u001b[1;32mreturn\u001b[0m \u001b[0mget_stepsN\u001b[0m\u001b[1;33m(\u001b[0m\u001b[0mtext\u001b[0m\u001b[1;33m,\u001b[0m \u001b[0mGetMethods\u001b[0m\u001b[1;33m(\u001b[0m\u001b[0mtext\u001b[0m\u001b[1;33m)\u001b[0m\u001b[1;33m,\u001b[0m \u001b[0mGetIngredients\u001b[0m\u001b[1;33m(\u001b[0m\u001b[0mtext\u001b[0m\u001b[1;33m)\u001b[0m\u001b[1;33m,\u001b[0m \u001b[0mGetTools\u001b[0m\u001b[1;33m(\u001b[0m\u001b[0mtext\u001b[0m\u001b[1;33m)\u001b[0m\u001b[1;33m)\u001b[0m\u001b[1;33m\u001b[0m\u001b[0m\n\u001b[0m\u001b[0;32m     59\u001b[0m \u001b[1;33m\u001b[0m\u001b[0m\n\u001b[0;32m     60\u001b[0m \u001b[1;33m\u001b[0m\u001b[0m\n",
      "\u001b[1;31mNameError\u001b[0m: name 'get_stepsN' is not defined"
     ]
    }
   ],
   "source": [
    "recipeText = GetData(\"https://www.allrecipes.com/recipe/221227/honey-brined-fried-chicken-breasts/\")\n",
    "#recipeText = GetData(\"https://www.allrecipes.com/recipe/219981/crab-stuffed-lobster-tail/\")\n",
    "GetSteps(recipeText)"
   ]
  },
  {
   "cell_type": "code",
   "execution_count": null,
   "metadata": {},
   "outputs": [],
   "source": [
    "m = GetMethods(recipeText)\n",
    "t = GetTools(recipeText)\n",
    "i = GetIngredients(recipeText)"
   ]
  },
  {
   "cell_type": "code",
   "execution_count": null,
   "metadata": {},
   "outputs": [],
   "source": [
    "get_steps(recipeText, m, i, t)"
   ]
  },
  {
   "cell_type": "code",
   "execution_count": null,
   "metadata": {},
   "outputs": [],
   "source": []
  }
 ],
 "metadata": {
  "kernelspec": {
   "display_name": "Python 3",
   "language": "python",
   "name": "python3"
  },
  "language_info": {
   "codemirror_mode": {
    "name": "ipython",
    "version": 3
   },
   "file_extension": ".py",
   "mimetype": "text/x-python",
   "name": "python",
   "nbconvert_exporter": "python",
   "pygments_lexer": "ipython3",
   "version": "3.7.0"
  }
 },
 "nbformat": 4,
 "nbformat_minor": 2
}
