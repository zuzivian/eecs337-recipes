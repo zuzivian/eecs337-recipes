{
 "cells": [
  {
   "cell_type": "code",
   "execution_count": 1,
   "metadata": {},
   "outputs": [
    {
     "name": "stdout",
     "output_type": "stream",
     "text": [
      "halved lengthwise\n",
      "\n",
      "{'name': 'large eggplant,', 'quantity': '1', 'measurement': 'NoItem', 'Preparation': 'halved lengthwise'}\n",
      "\n",
      "{'name': 'olive oil', 'quantity': '1', 'measurement': 'tablespoon', 'Preparation': 'NoItem'}\n",
      "chopped \n",
      "{'name': 'chopped onions', 'quantity': '1 1/2', 'measurement': 'cup', 'Preparation': 'chopped '}\n",
      "\n",
      "{'name': 'ground lamb', 'quantity': '1', 'measurement': 'pound', 'Preparation': 'NoItem'}\n",
      "minced\n",
      "\n",
      "{'name': 'garlic,', 'quantity': '1', 'measurement': 'clove', 'Preparation': 'minced'}\n",
      "\n",
      "{'name': 'salt', 'quantity': '1 1/2', 'measurement': 'teaspoon', 'Preparation': 'NoItem'}\n",
      "\n",
      "{'name': 'ground cumin', 'quantity': '1', 'measurement': 'teaspoon', 'Preparation': 'NoItem'}\n",
      "dried \n",
      "{'name': 'dried oregano', 'quantity': '1', 'measurement': 'teaspoon', 'Preparation': 'dried '}\n",
      "\n",
      "{'name': 'freshly ground black pepper', 'quantity': '1/4', 'measurement': 'teaspoon', 'Preparation': 'NoItem'}\n",
      "\n",
      "{'name': 'ground cinnamon', 'quantity': '1/4', 'measurement': 'teaspoon', 'Preparation': 'NoItem'}\n",
      "\n",
      "{'name': 'can diced tomatoes', 'quantity': '14', 'measurement': 'ounce', 'Preparation': 'NoItem'}\n",
      "\n",
      "{'name': 'can crushed tomatoes', 'quantity': '14', 'measurement': 'ounce', 'Preparation': 'NoItem'}\n",
      "chopped \n",
      "{'name': 'chopped fresh mint', 'quantity': '1', 'measurement': 'tablespoon', 'Preparation': 'chopped '}\n",
      "\n",
      "{'name': 'eggs', 'quantity': '2', 'measurement': 'NoItem', 'Preparation': 'NoItem'}\n",
      "\n",
      "{'name': 'unsalted butter', 'quantity': '2', 'measurement': 'tablespoon', 'Preparation': 'NoItem'}\n",
      "\n",
      "{'name': 'all-purpose flour', 'quantity': '2', 'measurement': 'tablespoon', 'Preparation': 'NoItem'}\n",
      "\n",
      "{'name': 'milk', 'quantity': '2', 'measurement': 'cup', 'Preparation': 'NoItem'}\n",
      "lightly crushed\n",
      "\n",
      "{'name': 'garlic,', 'quantity': '1', 'measurement': 'clove', 'Preparation': 'lightly crushed'}\n",
      "crumbled \n",
      "{'name': 'package crumbled feta cheese', 'quantity': '8', 'measurement': 'ounce', 'Preparation': 'crumbled '}\n",
      "\n",
      "{'name': 'salt', 'quantity': '1/2', 'measurement': 'teaspoon', 'Preparation': 'NoItem'}\n",
      "\n",
      "{'name': 'black pepper', 'quantity': 'NoItem', 'measurement': 'NoItem', 'Preparation': 'NoItem'}\n",
      "\n",
      "{'name': 'freshly grated nutmeg', 'quantity': '1', 'measurement': 'pinch', 'Preparation': 'NoItem'}\n",
      "\n",
      "{'name': 'cooking spray', 'quantity': 'NoItem', 'measurement': 'NoItem', 'Preparation': 'NoItem'}\n",
      "\n",
      "{'name': 'package penne pasta', 'quantity': '12', 'measurement': 'ounce', 'Preparation': 'NoItem'}\n"
     ]
    }
   ],
   "source": [
    "from framework import *"
   ]
  },
  {
   "cell_type": "code",
   "execution_count": 2,
   "metadata": {},
   "outputs": [],
   "source": [
    "import pandas as pd\n",
    "from nltk import *\n",
    "from framework import *\n",
    "from ingredients import *\n",
    "from helpers import *\n",
    "from AutoCrawl import *\n",
    "from steps import *"
   ]
  },
  {
   "cell_type": "code",
   "execution_count": 3,
   "metadata": {},
   "outputs": [],
   "source": [
    "masterdata = pd.DataFrame()\n",
    "datalist = []\n",
    "txtfilename = 'proteins.csv'\n",
    "\n",
    "directory = \".\\data\\\\\" + txtfilename\n",
    "masterdata = pd.read_csv(directory, delimiter=',', header = 0)\n",
    "#masterdata"
   ]
  },
  {
   "cell_type": "code",
   "execution_count": 4,
   "metadata": {},
   "outputs": [],
   "source": [
    "def proteinType(input_protein, masterdata):\n",
    "    protype = masterdata[masterdata['protein'] == input_protein]['veg_dim'].item()\n",
    "    return protype\n",
    "\n",
    "def proteinSub(input_protein, masterdata):\n",
    "    replacement = masterdata[masterdata['protein'] == input_protein]['veg_closest'].item()\n",
    "    return replacement\n",
    "\n"
   ]
  },
  {
   "cell_type": "code",
   "execution_count": 5,
   "metadata": {
    "scrolled": true
   },
   "outputs": [
    {
     "name": "stdout",
     "output_type": "stream",
     "text": [
      "Recipe File already exists\n"
     ]
    }
   ],
   "source": [
    "text = GetData(\"https://www.allrecipes.com/recipe/150306/the-best-chicken-fried-steak/\")\n",
    "#text = GetData(\"https://www.allrecipes.com/recipe/8758/white-cheese-chicken-lasagna/\")"
   ]
  },
  {
   "cell_type": "code",
   "execution_count": 55,
   "metadata": {},
   "outputs": [
    {
     "name": "stdout",
     "output_type": "stream",
     "text": [
      "{'name': 'tofu cutlets', 'quantity': '1/2', 'measurement': 'pound', 'Preparation': 'NoItem'}\n",
      "{'name': 'all-purpose flour', 'quantity': '2', 'measurement': 'cup', 'Preparation': 'NoItem'}\n",
      "{'name': 'baking powder', 'quantity': '2', 'measurement': 'teaspoon', 'Preparation': 'NoItem'}\n",
      "{'name': 'baking soda', 'quantity': '1', 'measurement': 'teaspoon', 'Preparation': 'NoItem'}\n",
      "{'name': 'chili', 'quantity': '1', 'measurement': 'teaspoon', 'Preparation': 'NoItem'}\n",
      "{'name': 'salt', 'quantity': '3/4', 'measurement': 'teaspoon', 'Preparation': 'NoItem'}\n",
      "{'name': 'buttermilk', 'quantity': '1 1/2', 'measurement': 'cup', 'Preparation': 'NoItem'}\n",
      "{'name': 'soy egg', 'quantity': '1', 'measurement': 'NoItem', 'Preparation': 'NoItem'}\n",
      "{'name': 'garlic,', 'quantity': '2', 'measurement': 'clove', 'Preparation': 'minced'}\n",
      "{'name': 'vegetable shortening', 'quantity': '3', 'measurement': 'cup', 'Preparation': 'NoItem'}\n",
      "{'name': 'all-purpose flour', 'quantity': '1/4', 'measurement': 'cup', 'Preparation': 'NoItem'}\n",
      "{'name': 'milk', 'quantity': '4', 'measurement': 'cup', 'Preparation': 'NoItem'}\n",
      "{'name': 'kosher salt and ground black pepper', 'quantity': 'NoItem', 'measurement': 'NoItem', 'Preparation': 'NoItem'}\n"
     ]
    }
   ],
   "source": [
    "def ingredToVeg(inglist):\n",
    "    replacedict = {}\n",
    "    for ingfull in inglist:\n",
    "        print(ingfull)\n",
    "        ingredient = ingfull['name'].split()\n",
    "        indict = set(ingredient).intersection(set(masterdata['protein']))\n",
    "        if len(indict) > 0:\n",
    "            indictlist = list(indict)\n",
    "            for i in range(len(indictlist)):\n",
    "                item = indictlist[i]\n",
    "                typecheck = proteinType(item, masterdata)\n",
    "                if typecheck == \"meat\":\n",
    "                    typereplace = proteinSub(item, masterdata)\n",
    "                    replacedict[ingfull['name']] = typereplace\n",
    "                else:\n",
    "                    typereplace = item\n",
    "    return replacedict\n",
    "\n",
    "replacementdict = ingredToVeg(ingredientlist)"
   ]
  },
  {
   "cell_type": "code",
   "execution_count": 56,
   "metadata": {},
   "outputs": [
    {
     "name": "stdout",
     "output_type": "stream",
     "text": [
      "\n",
      "{'name': 'beef cube steaks', 'quantity': '1/2', 'measurement': 'pound', 'Preparation': 'NoItem'}\n",
      "\n",
      "{'name': 'all-purpose flour', 'quantity': '2', 'measurement': 'cup', 'Preparation': 'NoItem'}\n",
      "\n",
      "{'name': 'baking powder', 'quantity': '2', 'measurement': 'teaspoon', 'Preparation': 'NoItem'}\n",
      "\n",
      "{'name': 'baking soda', 'quantity': '1', 'measurement': 'teaspoon', 'Preparation': 'NoItem'}\n",
      "\n",
      "{'name': 'black pepper', 'quantity': '1', 'measurement': 'teaspoon', 'Preparation': 'NoItem'}\n",
      "\n",
      "{'name': 'salt', 'quantity': '3/4', 'measurement': 'teaspoon', 'Preparation': 'NoItem'}\n",
      "\n",
      "{'name': 'buttermilk', 'quantity': '1 1/2', 'measurement': 'cup', 'Preparation': 'NoItem'}\n",
      "\n",
      "{'name': 'egg', 'quantity': '1', 'measurement': 'NoItem', 'Preparation': 'NoItem'}\n",
      "minced\n",
      "\n",
      "{'name': 'garlic,', 'quantity': '2', 'measurement': 'clove', 'Preparation': 'minced'}\n",
      "\n",
      "{'name': 'vegetable shortening', 'quantity': '3', 'measurement': 'cup', 'Preparation': 'NoItem'}\n",
      "\n",
      "{'name': 'all-purpose flour', 'quantity': '1/4', 'measurement': 'cup', 'Preparation': 'NoItem'}\n",
      "\n",
      "{'name': 'milk', 'quantity': '4', 'measurement': 'cup', 'Preparation': 'NoItem'}\n",
      "\n",
      "{'name': 'kosher salt and ground black pepper', 'quantity': 'NoItem', 'measurement': 'NoItem', 'Preparation': 'NoItem'}\n"
     ]
    }
   ],
   "source": [
    "ingredientlist = GetIngredients(text)"
   ]
  },
  {
   "cell_type": "code",
   "execution_count": 57,
   "metadata": {},
   "outputs": [],
   "source": [
    "def replaceIngrInIngrs(ingredients, replacementdict):\n",
    "    for item in ingredientlist:\n",
    "        if item['name'] in list(replacementdict.keys()):\n",
    "            print(item)\n",
    "            tobereplace = item['name']\n",
    "            item['name'] = replacementdict[tobereplace]\n",
    "                        \n",
    "    return ingredients"
   ]
  },
  {
   "cell_type": "code",
   "execution_count": 59,
   "metadata": {},
   "outputs": [
    {
     "data": {
      "text/plain": [
       "[{'name': 'tofu cutlets',\n",
       "  'quantity': '1/2',\n",
       "  'measurement': 'pound',\n",
       "  'Preparation': 'NoItem'},\n",
       " {'name': 'all-purpose flour',\n",
       "  'quantity': '2',\n",
       "  'measurement': 'cup',\n",
       "  'Preparation': 'NoItem'},\n",
       " {'name': 'baking powder',\n",
       "  'quantity': '2',\n",
       "  'measurement': 'teaspoon',\n",
       "  'Preparation': 'NoItem'},\n",
       " {'name': 'baking soda',\n",
       "  'quantity': '1',\n",
       "  'measurement': 'teaspoon',\n",
       "  'Preparation': 'NoItem'},\n",
       " {'name': 'chili',\n",
       "  'quantity': '1',\n",
       "  'measurement': 'teaspoon',\n",
       "  'Preparation': 'NoItem'},\n",
       " {'name': 'salt',\n",
       "  'quantity': '3/4',\n",
       "  'measurement': 'teaspoon',\n",
       "  'Preparation': 'NoItem'},\n",
       " {'name': 'buttermilk',\n",
       "  'quantity': '1 1/2',\n",
       "  'measurement': 'cup',\n",
       "  'Preparation': 'NoItem'},\n",
       " {'name': 'soy egg',\n",
       "  'quantity': '1',\n",
       "  'measurement': 'NoItem',\n",
       "  'Preparation': 'NoItem'},\n",
       " {'name': 'garlic,',\n",
       "  'quantity': '2',\n",
       "  'measurement': 'clove',\n",
       "  'Preparation': 'minced'},\n",
       " {'name': 'vegetable shortening',\n",
       "  'quantity': '3',\n",
       "  'measurement': 'cup',\n",
       "  'Preparation': 'NoItem'},\n",
       " {'name': 'all-purpose flour',\n",
       "  'quantity': '1/4',\n",
       "  'measurement': 'cup',\n",
       "  'Preparation': 'NoItem'},\n",
       " {'name': 'milk',\n",
       "  'quantity': '4',\n",
       "  'measurement': 'cup',\n",
       "  'Preparation': 'NoItem'},\n",
       " {'name': 'kosher salt and ground black pepper',\n",
       "  'quantity': 'NoItem',\n",
       "  'measurement': 'NoItem',\n",
       "  'Preparation': 'NoItem'}]"
      ]
     },
     "execution_count": 59,
     "metadata": {},
     "output_type": "execute_result"
    }
   ],
   "source": [
    "replacementdict = {'beef cube steaks': \"tofu cutlets\", \"egg\": \"soy egg\", \"black pepper\": \"chili\"}\n",
    "replaceIngrInIngrs(ingredientlist, replacementdict)"
   ]
  },
  {
   "cell_type": "code",
   "execution_count": 54,
   "metadata": {},
   "outputs": [
    {
     "data": {
      "text/plain": [
       "['beef cube steaks', 'egg', 'black pepper']"
      ]
     },
     "execution_count": 54,
     "metadata": {},
     "output_type": "execute_result"
    }
   ],
   "source": [
    "#'beef cube steaks' in [replacementdict.keys()]\n",
    "list(replacementdict.keys())"
   ]
  },
  {
   "cell_type": "code",
   "execution_count": 64,
   "metadata": {},
   "outputs": [
    {
     "name": "stdout",
     "output_type": "stream",
     "text": [
      "\n",
      "{'name': 'beef cube steaks', 'quantity': '1/2', 'measurement': 'pound', 'Preparation': 'NoItem'}\n",
      "\n",
      "{'name': 'all-purpose flour', 'quantity': '2', 'measurement': 'cup', 'Preparation': 'NoItem'}\n",
      "\n",
      "{'name': 'baking powder', 'quantity': '2', 'measurement': 'teaspoon', 'Preparation': 'NoItem'}\n",
      "\n",
      "{'name': 'baking soda', 'quantity': '1', 'measurement': 'teaspoon', 'Preparation': 'NoItem'}\n",
      "\n",
      "{'name': 'black pepper', 'quantity': '1', 'measurement': 'teaspoon', 'Preparation': 'NoItem'}\n",
      "\n",
      "{'name': 'salt', 'quantity': '3/4', 'measurement': 'teaspoon', 'Preparation': 'NoItem'}\n",
      "\n",
      "{'name': 'buttermilk', 'quantity': '1 1/2', 'measurement': 'cup', 'Preparation': 'NoItem'}\n",
      "\n",
      "{'name': 'egg', 'quantity': '1', 'measurement': 'NoItem', 'Preparation': 'NoItem'}\n",
      "minced\n",
      "\n",
      "{'name': 'garlic,', 'quantity': '2', 'measurement': 'clove', 'Preparation': 'minced'}\n",
      "\n",
      "{'name': 'vegetable shortening', 'quantity': '3', 'measurement': 'cup', 'Preparation': 'NoItem'}\n",
      "\n",
      "{'name': 'all-purpose flour', 'quantity': '1/4', 'measurement': 'cup', 'Preparation': 'NoItem'}\n",
      "\n",
      "{'name': 'milk', 'quantity': '4', 'measurement': 'cup', 'Preparation': 'NoItem'}\n",
      "\n",
      "{'name': 'kosher salt and ground black pepper', 'quantity': 'NoItem', 'measurement': 'NoItem', 'Preparation': 'NoItem'}\n",
      "egg\n",
      "soy egg\n"
     ]
    },
    {
     "data": {
      "text/plain": [
       "[[{'raw': 'Pound the steaks to about 1/4-inch thickness.',\n",
       "   'methods': [],\n",
       "   'ingredients': [],\n",
       "   'tools': [],\n",
       "   'times': None,\n",
       "   'conditions': None},\n",
       "  {'raw': 'Place 2 cups of  flour in a shallow bowl.',\n",
       "   'methods': [],\n",
       "   'ingredients': [],\n",
       "   'tools': ['bowl'],\n",
       "   'times': None,\n",
       "   'conditions': None},\n",
       "  {'raw': 'Stir together the baking powder, baking soda, pepper, and salt in a separate shallow bowl; stir in the buttermilk, soy egg, Tabasco Sauce, and garlic.',\n",
       "   'methods': [],\n",
       "   'ingredients': ['salt', 'buttermilk', 'soy egg'],\n",
       "   'tools': ['bowl'],\n",
       "   'times': None,\n",
       "   'conditions': None},\n",
       "  {'raw': 'Dredge each steak first in the flour, then in the batter, and again in the flour.',\n",
       "   'methods': [],\n",
       "   'ingredients': [],\n",
       "   'tools': [],\n",
       "   'times': None,\n",
       "   'conditions': None},\n",
       "  {'raw': 'Pat the flour onto the surface of each steak so they are completely coated with dry flour.',\n",
       "   'methods': [],\n",
       "   'ingredients': [],\n",
       "   'tools': [],\n",
       "   'times': None,\n",
       "   'conditions': None}],\n",
       " [{'raw': 'Heat the shortening in a deep cast-iron skillet to 325 degrees F (165 degrees C).',\n",
       "   'methods': [],\n",
       "   'ingredients': [],\n",
       "   'tools': ['skillet'],\n",
       "   'times': None,\n",
       "   'conditions': None},\n",
       "  {'raw': 'Fry the steaks until evenly golden brown, 3 to 5 minutes per side.',\n",
       "   'methods': [],\n",
       "   'ingredients': [],\n",
       "   'tools': [],\n",
       "   'times': '3 to 5 minutes',\n",
       "   'conditions': 'until evenly golden brown'},\n",
       "  {'raw': 'Place fried steaks on a plate with paper towels to drain.',\n",
       "   'methods': [],\n",
       "   'ingredients': [],\n",
       "   'tools': ['towels'],\n",
       "   'times': None,\n",
       "   'conditions': None},\n",
       "  {'raw': 'Drain the fat from the skillet, reserving 1/4 cup of the liquid and as much of the solid remnants as possible.',\n",
       "   'methods': [],\n",
       "   'ingredients': [],\n",
       "   'tools': ['skillet'],\n",
       "   'times': None,\n",
       "   'conditions': None}],\n",
       " [{'raw': 'Return the skillet to medium-low heat with the reserved oil.',\n",
       "   'methods': [],\n",
       "   'ingredients': [],\n",
       "   'tools': ['skillet'],\n",
       "   'times': None,\n",
       "   'conditions': None},\n",
       "  {'raw': 'Whisk the remaining flour into the oil.',\n",
       "   'methods': [],\n",
       "   'ingredients': [],\n",
       "   'tools': ['whisk'],\n",
       "   'times': None,\n",
       "   'conditions': None},\n",
       "  {'raw': 'Scrape the bottom of the pan with a spatula to release solids into the gravy.',\n",
       "   'methods': [],\n",
       "   'ingredients': [],\n",
       "   'tools': ['spatula', 'pan'],\n",
       "   'times': None,\n",
       "   'conditions': None},\n",
       "  {'raw': 'Stir in the milk, raise the heat to medium, and bring the gravy to a simmer, cook until thick, 6 to 7 minutes.',\n",
       "   'methods': [],\n",
       "   'ingredients': ['milk'],\n",
       "   'tools': [],\n",
       "   'times': '6 to 7 minutes',\n",
       "   'conditions': 'until thick'},\n",
       "  {'raw': 'Season with kosher salt and pepper.',\n",
       "   'methods': [],\n",
       "   'ingredients': ['salt'],\n",
       "   'tools': [],\n",
       "   'times': None,\n",
       "   'conditions': None},\n",
       "  {'raw': 'Spoon the gravy over the steaks to serve.',\n",
       "   'methods': [],\n",
       "   'ingredients': [],\n",
       "   'tools': [],\n",
       "   'times': None,\n",
       "   'conditions': None}]]"
      ]
     },
     "execution_count": 64,
     "metadata": {},
     "output_type": "execute_result"
    }
   ],
   "source": [
    "stepsIns = GetSteps(text)\n",
    "\n",
    "def replaceIngrInSteps(steps, replacementdict):\n",
    "    for step in steps:\n",
    "        for substep in step:\n",
    "            if len(set(substep['ingredients']).intersection(set(replacementdict.keys()))) > 0:\n",
    "                tobereplace = substep['ingredients']\n",
    "                substep['ingredients'] = []\n",
    "                for i in range(len(tobereplace)):\n",
    "                    if tobereplace[i] in list(replacementdict.keys()):\n",
    "                        newitem = replacementdict[tobereplace[i]]\n",
    "                        substep['ingredients'].append(newitem)\n",
    "                        print(tobereplace[i])\n",
    "                        print(newitem)\n",
    "                        substep['raw'] = substep['raw'].replace(tobereplace[i], newitem)\n",
    "                    else:\n",
    "                        substep['ingredients'].append(tobereplace[i])\n",
    "                        \n",
    "    return steps\n",
    "\n",
    "replaceIngrInSteps(stepsIns, replacementdict)"
   ]
  },
  {
   "cell_type": "code",
   "execution_count": 65,
   "metadata": {},
   "outputs": [
    {
     "data": {
      "text/plain": [
       "'beef'"
      ]
     },
     "execution_count": 65,
     "metadata": {},
     "output_type": "execute_result"
    }
   ],
   "source": [
    "list({'beef'})[0]"
   ]
  },
  {
   "cell_type": "code",
   "execution_count": 66,
   "metadata": {},
   "outputs": [
    {
     "data": {
      "text/plain": [
       "'meat'"
      ]
     },
     "execution_count": 66,
     "metadata": {},
     "output_type": "execute_result"
    }
   ],
   "source": [
    "proteinType('egg', masterdata)"
   ]
  },
  {
   "cell_type": "code",
   "execution_count": 67,
   "metadata": {},
   "outputs": [
    {
     "data": {
      "text/plain": [
       "5    meat\n",
       "Name: veg_dim, dtype: object"
      ]
     },
     "execution_count": 67,
     "metadata": {},
     "output_type": "execute_result"
    }
   ],
   "source": [
    "k = masterdata[masterdata['protein'] == 'egg']['veg_dim']\n",
    "k"
   ]
  },
  {
   "cell_type": "code",
   "execution_count": 68,
   "metadata": {},
   "outputs": [
    {
     "data": {
      "text/plain": [
       "{'beef cube steaks': 'tofu cutlets', 'egg': 'soy egg', 'black pepper': 'chili'}"
      ]
     },
     "execution_count": 68,
     "metadata": {},
     "output_type": "execute_result"
    }
   ],
   "source": [
    "proteinType('beef', masterdata)\n",
    "proteinSub('beef', masterdata)\n",
    "proteinType('beef', masterdata)\n",
    "replacementdict"
   ]
  },
  {
   "cell_type": "code",
   "execution_count": 72,
   "metadata": {},
   "outputs": [
    {
     "name": "stdout",
     "output_type": "stream",
     "text": [
      "Recipe File already exists\n",
      "\n",
      "{'name': 'lasagna noodles', 'quantity': '9', 'measurement': 'NoItem', 'Preparation': 'NoItem'}\n",
      "\n",
      "{'name': 'butter', 'quantity': '1/2', 'measurement': 'cup', 'Preparation': 'NoItem'}\n",
      "chopped\n",
      "\n",
      "{'name': 'onion,', 'quantity': '1', 'measurement': 'NoItem', 'Preparation': 'chopped'}\n",
      "minced\n",
      "\n",
      "{'name': 'garlic,', 'quantity': '1', 'measurement': 'clove', 'Preparation': 'minced'}\n",
      "\n",
      "{'name': 'all-purpose flour', 'quantity': '1/2', 'measurement': 'cup', 'Preparation': 'NoItem'}\n",
      "\n",
      "{'name': 'salt', 'quantity': '1', 'measurement': 'teaspoon', 'Preparation': 'NoItem'}\n",
      "\n",
      "{'name': 'chicken broth', 'quantity': '2', 'measurement': 'cup', 'Preparation': 'NoItem'}\n",
      "\n",
      "{'name': 'milk', 'quantity': '1 1/2', 'measurement': 'cup', 'Preparation': 'NoItem'}\n",
      "divided\n",
      "\n",
      "{'name': 'shredded mozzarella cheese,', 'quantity': '4', 'measurement': 'cup', 'Preparation': 'divided'}\n",
      "divided\n",
      "\n",
      "{'name': 'grated Parmesan cheese,', 'quantity': '1', 'measurement': 'cup', 'Preparation': 'divided'}\n",
      "dried \n",
      "{'name': 'dried basil', 'quantity': '1', 'measurement': 'teaspoon', 'Preparation': 'dried '}\n",
      "dried \n",
      "{'name': 'dried oregano', 'quantity': '1', 'measurement': 'teaspoon', 'Preparation': 'dried '}\n",
      "\n",
      "{'name': 'ground black pepper', 'quantity': '1/2', 'measurement': 'teaspoon', 'Preparation': 'NoItem'}\n",
      "\n",
      "{'name': 'ricotta cheese', 'quantity': '2', 'measurement': 'cup', 'Preparation': 'NoItem'}\n",
      "cooked chicken meat\n",
      "\n",
      "{'name': 'cubed,', 'quantity': '2', 'measurement': 'cup', 'Preparation': 'cooked chicken meat'}\n",
      "thawed and drained\n",
      "\n",
      "{'name': 'packages frozen chopped spinach,', 'quantity': '10', 'measurement': 'ounce', 'Preparation': 'thawed and drained'}\n",
      "chopped \n",
      "{'name': 'chopped fresh parsley', 'quantity': '1', 'measurement': 'tablespoon', 'Preparation': 'chopped '}\n",
      "\n",
      "{'name': 'grated Parmesan cheese', 'quantity': '1/4', 'measurement': 'cup', 'Preparation': 'NoItem'}\n",
      "\n",
      "{'name': 'lasagna noodles', 'quantity': '9', 'measurement': 'NoItem', 'Preparation': 'NoItem'}\n",
      "\n",
      "{'name': 'butter', 'quantity': '1/2', 'measurement': 'cup', 'Preparation': 'NoItem'}\n",
      "chopped\n",
      "\n",
      "{'name': 'onion,', 'quantity': '1', 'measurement': 'NoItem', 'Preparation': 'chopped'}\n",
      "minced\n",
      "\n",
      "{'name': 'garlic,', 'quantity': '1', 'measurement': 'clove', 'Preparation': 'minced'}\n",
      "\n",
      "{'name': 'all-purpose flour', 'quantity': '1/2', 'measurement': 'cup', 'Preparation': 'NoItem'}\n",
      "\n",
      "{'name': 'salt', 'quantity': '1', 'measurement': 'teaspoon', 'Preparation': 'NoItem'}\n",
      "\n",
      "{'name': 'chicken broth', 'quantity': '2', 'measurement': 'cup', 'Preparation': 'NoItem'}\n",
      "\n",
      "{'name': 'milk', 'quantity': '1 1/2', 'measurement': 'cup', 'Preparation': 'NoItem'}\n",
      "divided\n",
      "\n",
      "{'name': 'shredded mozzarella cheese,', 'quantity': '4', 'measurement': 'cup', 'Preparation': 'divided'}\n",
      "divided\n",
      "\n",
      "{'name': 'grated Parmesan cheese,', 'quantity': '1', 'measurement': 'cup', 'Preparation': 'divided'}\n",
      "dried \n",
      "{'name': 'dried basil', 'quantity': '1', 'measurement': 'teaspoon', 'Preparation': 'dried '}\n",
      "dried \n",
      "{'name': 'dried oregano', 'quantity': '1', 'measurement': 'teaspoon', 'Preparation': 'dried '}\n",
      "\n",
      "{'name': 'ground black pepper', 'quantity': '1/2', 'measurement': 'teaspoon', 'Preparation': 'NoItem'}\n",
      "\n",
      "{'name': 'ricotta cheese', 'quantity': '2', 'measurement': 'cup', 'Preparation': 'NoItem'}\n",
      "cooked chicken meat\n",
      "\n",
      "{'name': 'cubed,', 'quantity': '2', 'measurement': 'cup', 'Preparation': 'cooked chicken meat'}\n",
      "thawed and drained\n",
      "\n",
      "{'name': 'packages frozen chopped spinach,', 'quantity': '10', 'measurement': 'ounce', 'Preparation': 'thawed and drained'}\n",
      "chopped \n",
      "{'name': 'chopped fresh parsley', 'quantity': '1', 'measurement': 'tablespoon', 'Preparation': 'chopped '}\n",
      "\n",
      "{'name': 'grated Parmesan cheese', 'quantity': '1/4', 'measurement': 'cup', 'Preparation': 'NoItem'}\n"
     ]
    },
    {
     "ename": "ValueError",
     "evalue": "max() arg is an empty sequence",
     "output_type": "error",
     "traceback": [
      "\u001b[1;31m---------------------------------------------------------------------------\u001b[0m",
      "\u001b[1;31mValueError\u001b[0m                                Traceback (most recent call last)",
      "\u001b[1;32m<ipython-input-72-c55ddbcbb1de>\u001b[0m in \u001b[0;36m<module>\u001b[1;34m()\u001b[0m\n\u001b[0;32m      1\u001b[0m \u001b[0mtext\u001b[0m \u001b[1;33m=\u001b[0m \u001b[0mGetData\u001b[0m\u001b[1;33m(\u001b[0m\u001b[1;34m\"https://www.allrecipes.com/recipe/8758/white-cheese-chicken-lasagna/\"\u001b[0m\u001b[1;33m)\u001b[0m\u001b[1;33m\u001b[0m\u001b[0m\n\u001b[0;32m      2\u001b[0m \u001b[0mingredientlist\u001b[0m \u001b[1;33m=\u001b[0m \u001b[0mGetIngredients\u001b[0m\u001b[1;33m(\u001b[0m\u001b[0mtext\u001b[0m\u001b[1;33m)\u001b[0m\u001b[1;33m\u001b[0m\u001b[0m\n\u001b[1;32m----> 3\u001b[1;33m \u001b[0mstepsIns\u001b[0m \u001b[1;33m=\u001b[0m \u001b[0mGetSteps\u001b[0m\u001b[1;33m(\u001b[0m\u001b[0mtext\u001b[0m\u001b[1;33m)\u001b[0m\u001b[1;33m\u001b[0m\u001b[0m\n\u001b[0m\u001b[0;32m      4\u001b[0m \u001b[1;33m\u001b[0m\u001b[0m\n\u001b[0;32m      5\u001b[0m \u001b[1;32mdef\u001b[0m \u001b[0mTransToVeggie\u001b[0m\u001b[1;33m(\u001b[0m\u001b[0mingredients\u001b[0m\u001b[1;33m,\u001b[0m\u001b[0msteps\u001b[0m\u001b[1;33m)\u001b[0m\u001b[1;33m:\u001b[0m\u001b[1;33m\u001b[0m\u001b[0m\n",
      "\u001b[1;32m~\\Dropbox\\Academics\\EECS337 Natural Language Processing\\eecs337-recipes\\framework.py\u001b[0m in \u001b[0;36mGetSteps\u001b[1;34m(text)\u001b[0m\n\u001b[0;32m     52\u001b[0m \u001b[1;32mdef\u001b[0m \u001b[0mGetSteps\u001b[0m\u001b[1;33m(\u001b[0m\u001b[0mtext\u001b[0m\u001b[1;33m)\u001b[0m\u001b[1;33m:\u001b[0m\u001b[1;33m\u001b[0m\u001b[0m\n\u001b[0;32m     53\u001b[0m         \u001b[1;34m\"\"\"Return a list of steps that each consist of ingredients, tools, methods, and times\"\"\"\u001b[0m\u001b[1;33m\u001b[0m\u001b[0m\n\u001b[1;32m---> 54\u001b[1;33m         \u001b[1;32mreturn\u001b[0m \u001b[0mget_steps\u001b[0m\u001b[1;33m(\u001b[0m\u001b[0mtext\u001b[0m\u001b[1;33m,\u001b[0m \u001b[0mGetMethods\u001b[0m\u001b[1;33m(\u001b[0m\u001b[0mtext\u001b[0m\u001b[1;33m)\u001b[0m\u001b[1;33m,\u001b[0m \u001b[0mGetIngredients\u001b[0m\u001b[1;33m(\u001b[0m\u001b[0mtext\u001b[0m\u001b[1;33m)\u001b[0m\u001b[1;33m,\u001b[0m \u001b[0mGetTools\u001b[0m\u001b[1;33m(\u001b[0m\u001b[0mtext\u001b[0m\u001b[1;33m)\u001b[0m\u001b[1;33m)\u001b[0m\u001b[1;33m\u001b[0m\u001b[0m\n\u001b[0m\u001b[0;32m     55\u001b[0m \u001b[1;33m\u001b[0m\u001b[0m\n\u001b[0;32m     56\u001b[0m \u001b[1;33m\u001b[0m\u001b[0m\n",
      "\u001b[1;32m~\\Dropbox\\Academics\\EECS337 Natural Language Processing\\eecs337-recipes\\steps.py\u001b[0m in \u001b[0;36mget_steps\u001b[1;34m(text, methods, ingredients, tools)\u001b[0m\n\u001b[0;32m     34\u001b[0m             \u001b[1;31m#substep['ingredients'] = [ingredient for ingredient in ingredients if ingredient in tokens]\u001b[0m\u001b[1;33m\u001b[0m\u001b[1;33m\u001b[0m\u001b[0m\n\u001b[0;32m     35\u001b[0m             \u001b[0msubstep\u001b[0m\u001b[1;33m[\u001b[0m\u001b[1;34m'tools'\u001b[0m\u001b[1;33m]\u001b[0m \u001b[1;33m=\u001b[0m \u001b[1;33m[\u001b[0m\u001b[0mtool\u001b[0m \u001b[1;32mfor\u001b[0m \u001b[0mtool\u001b[0m \u001b[1;32min\u001b[0m \u001b[0mtools\u001b[0m \u001b[1;32mif\u001b[0m \u001b[0mtool\u001b[0m \u001b[1;32min\u001b[0m \u001b[0mtokens\u001b[0m\u001b[1;33m]\u001b[0m\u001b[1;33m\u001b[0m\u001b[0m\n\u001b[1;32m---> 36\u001b[1;33m             \u001b[0msubstep\u001b[0m\u001b[1;33m[\u001b[0m\u001b[1;34m'times'\u001b[0m\u001b[1;33m]\u001b[0m \u001b[1;33m=\u001b[0m \u001b[0mget_times\u001b[0m\u001b[1;33m(\u001b[0m\u001b[0msentence\u001b[0m\u001b[1;33m)\u001b[0m\u001b[1;33m\u001b[0m\u001b[0m\n\u001b[0m\u001b[0;32m     37\u001b[0m             \u001b[0msubstep\u001b[0m\u001b[1;33m[\u001b[0m\u001b[1;34m'conditions'\u001b[0m\u001b[1;33m]\u001b[0m \u001b[1;33m=\u001b[0m \u001b[0mget_conditions\u001b[0m\u001b[1;33m(\u001b[0m\u001b[0msentence\u001b[0m\u001b[1;33m)\u001b[0m\u001b[1;33m\u001b[0m\u001b[0m\n\u001b[0;32m     38\u001b[0m             \u001b[0msubstep_list\u001b[0m\u001b[1;33m.\u001b[0m\u001b[0mappend\u001b[0m\u001b[1;33m(\u001b[0m\u001b[0msubstep\u001b[0m\u001b[1;33m)\u001b[0m\u001b[1;33m\u001b[0m\u001b[0m\n",
      "\u001b[1;32m~\\Dropbox\\Academics\\EECS337 Natural Language Processing\\eecs337-recipes\\steps.py\u001b[0m in \u001b[0;36mget_times\u001b[1;34m(text)\u001b[0m\n\u001b[0;32m     47\u001b[0m             \u001b[1;32mcontinue\u001b[0m\u001b[1;33m\u001b[0m\u001b[0m\n\u001b[0;32m     48\u001b[0m         \u001b[0mindex\u001b[0m \u001b[1;33m=\u001b[0m \u001b[0mtext\u001b[0m\u001b[1;33m.\u001b[0m\u001b[0mfind\u001b[0m\u001b[1;33m(\u001b[0m\u001b[0mword\u001b[0m\u001b[1;33m)\u001b[0m\u001b[1;33m\u001b[0m\u001b[0m\n\u001b[1;32m---> 49\u001b[1;33m         \u001b[0mpunct\u001b[0m \u001b[1;33m=\u001b[0m \u001b[0mget_punctuation_index\u001b[0m\u001b[1;33m(\u001b[0m\u001b[0mtext\u001b[0m\u001b[1;33m[\u001b[0m\u001b[1;33m:\u001b[0m\u001b[0mindex\u001b[0m\u001b[1;33m+\u001b[0m\u001b[0mlen\u001b[0m\u001b[1;33m(\u001b[0m\u001b[0mword\u001b[0m\u001b[1;33m)\u001b[0m\u001b[1;33m]\u001b[0m\u001b[1;33m,\u001b[0m \u001b[1;36m1\u001b[0m\u001b[1;33m)\u001b[0m\u001b[1;33m\u001b[0m\u001b[0m\n\u001b[0m\u001b[0;32m     50\u001b[0m         \u001b[0mnum\u001b[0m \u001b[1;33m=\u001b[0m \u001b[0mget_number_index\u001b[0m\u001b[1;33m(\u001b[0m\u001b[0mtext\u001b[0m\u001b[1;33m[\u001b[0m\u001b[0mpunct\u001b[0m\u001b[1;33m+\u001b[0m\u001b[1;36m1\u001b[0m\u001b[1;33m:\u001b[0m\u001b[0mindex\u001b[0m\u001b[1;33m+\u001b[0m\u001b[0mlen\u001b[0m\u001b[1;33m(\u001b[0m\u001b[0mword\u001b[0m\u001b[1;33m)\u001b[0m\u001b[1;33m]\u001b[0m\u001b[1;33m,\u001b[0m \u001b[1;36m0\u001b[0m\u001b[1;33m)\u001b[0m\u001b[1;33m\u001b[0m\u001b[0m\n\u001b[0;32m     51\u001b[0m         \u001b[1;32mreturn\u001b[0m \u001b[0mtext\u001b[0m\u001b[1;33m[\u001b[0m\u001b[0mpunct\u001b[0m\u001b[1;33m+\u001b[0m\u001b[0mnum\u001b[0m\u001b[1;33m+\u001b[0m\u001b[1;36m1\u001b[0m\u001b[1;33m:\u001b[0m\u001b[0mindex\u001b[0m\u001b[1;33m+\u001b[0m\u001b[0mlen\u001b[0m\u001b[1;33m(\u001b[0m\u001b[0mword\u001b[0m\u001b[1;33m)\u001b[0m\u001b[1;33m]\u001b[0m\u001b[1;33m\u001b[0m\u001b[0m\n",
      "\u001b[1;32m~\\Dropbox\\Academics\\EECS337 Natural Language Processing\\eecs337-recipes\\steps.py\u001b[0m in \u001b[0;36mget_punctuation_index\u001b[1;34m(text, dir)\u001b[0m\n\u001b[0;32m     76\u001b[0m         \u001b[1;32mif\u001b[0m \u001b[0mindex\u001b[0m \u001b[1;33m>\u001b[0m \u001b[1;33m-\u001b[0m\u001b[1;36m1\u001b[0m\u001b[1;33m:\u001b[0m\u001b[1;33m\u001b[0m\u001b[0m\n\u001b[0;32m     77\u001b[0m             \u001b[0mindices\u001b[0m\u001b[1;33m.\u001b[0m\u001b[0mappend\u001b[0m\u001b[1;33m(\u001b[0m\u001b[0mindex\u001b[0m\u001b[1;33m)\u001b[0m\u001b[1;33m\u001b[0m\u001b[0m\n\u001b[1;32m---> 78\u001b[1;33m     \u001b[1;32mreturn\u001b[0m \u001b[0mmax\u001b[0m\u001b[1;33m(\u001b[0m\u001b[0mindices\u001b[0m\u001b[1;33m)\u001b[0m \u001b[1;32mif\u001b[0m \u001b[0mdir\u001b[0m \u001b[1;32melse\u001b[0m \u001b[0mmin\u001b[0m\u001b[1;33m(\u001b[0m\u001b[0mindices\u001b[0m\u001b[1;33m)\u001b[0m\u001b[1;33m\u001b[0m\u001b[0m\n\u001b[0m",
      "\u001b[1;31mValueError\u001b[0m: max() arg is an empty sequence"
     ]
    }
   ],
   "source": [
    "text = GetData(\"https://www.allrecipes.com/recipe/8758/white-cheese-chicken-lasagna/\")\n",
    "ingredientlist = GetIngredients(text)\n",
    "stepsIns = GetSteps(text)\n",
    "\n",
    "def TransToVeggie(ingredients,steps):\n",
    "    rep_dict = ingredToVeg(ingredients)\n",
    "    if len(rep_dict) > 0:\n",
    "        newingr = replaceIngrInIngrs(ingredients, rep_dict)\n",
    "        newsteps = replaceIngrInSteps(steps, rep_dict)\n",
    "        return [newingr, newsteps]\n",
    "    else:\n",
    "        return [ingredientlist, stepsIns]\n",
    "    \n",
    "TransToVeggie(ingredientlist,stepsIns)"
   ]
  },
  {
   "cell_type": "code",
   "execution_count": 70,
   "metadata": {},
   "outputs": [
    {
     "data": {
      "text/plain": [
       "{'beef cube steaks': 'seitan', 'buttermilk': 'soy milk', 'egg': 'fake egg'}"
      ]
     },
     "execution_count": 70,
     "metadata": {},
     "output_type": "execute_result"
    }
   ],
   "source": [
    "rep_dict"
   ]
  },
  {
   "cell_type": "code",
   "execution_count": null,
   "metadata": {},
   "outputs": [],
   "source": []
  },
  {
   "cell_type": "code",
   "execution_count": null,
   "metadata": {},
   "outputs": [],
   "source": []
  },
  {
   "cell_type": "code",
   "execution_count": null,
   "metadata": {},
   "outputs": [],
   "source": []
  },
  {
   "cell_type": "code",
   "execution_count": null,
   "metadata": {},
   "outputs": [],
   "source": []
  },
  {
   "cell_type": "code",
   "execution_count": null,
   "metadata": {},
   "outputs": [],
   "source": []
  }
 ],
 "metadata": {
  "kernelspec": {
   "display_name": "Python 3",
   "language": "python",
   "name": "python3"
  },
  "language_info": {
   "codemirror_mode": {
    "name": "ipython",
    "version": 3
   },
   "file_extension": ".py",
   "mimetype": "text/x-python",
   "name": "python",
   "nbconvert_exporter": "python",
   "pygments_lexer": "ipython3",
   "version": "3.7.0"
  }
 },
 "nbformat": 4,
 "nbformat_minor": 2
}
