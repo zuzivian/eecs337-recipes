{
 "cells": [
  {
   "cell_type": "code",
   "execution_count": 1,
   "metadata": {},
   "outputs": [
    {
     "name": "stdout",
     "output_type": "stream",
     "text": [
      "{'name': 'lasagna noodles', 'quantity': '9', 'measurement': 'NoItem'}\n",
      "{'name': 'butter', 'quantity': '1/2', 'measurement': 'cup'}\n",
      "{'name': 'onion', 'quantity': '1', 'measurement': 'NoItem'}\n",
      "{'name': 'garlic', 'quantity': '1', 'measurement': 'clove'}\n",
      "{'name': 'flour', 'quantity': '1/2', 'measurement': 'cup'}\n",
      "{'name': 'salt', 'quantity': '1', 'measurement': 'teaspoon'}\n",
      "{'name': 'broth', 'quantity': '2', 'measurement': 'cup'}\n",
      "{'name': 'milk', 'quantity': '1/2', 'measurement': 'cup'}\n",
      "{'name': 'mozzarella cheese', 'quantity': '4', 'measurement': 'cup'}\n",
      "{'name': 'Parmesan', 'quantity': '1', 'measurement': 'cup'}\n",
      "{'name': 'basil', 'quantity': '1', 'measurement': 'teaspoon'}\n",
      "{'name': 'oregano', 'quantity': '1', 'measurement': 'teaspoon'}\n",
      "{'name': 'ground', 'quantity': '1/2', 'measurement': 'teaspoon'}\n",
      "{'name': 'ricotta cheese', 'quantity': '2', 'measurement': 'cup'}\n",
      "{'name': 'meat', 'quantity': '2', 'measurement': 'cup'}\n",
      "{'name': 'spinach', 'quantity': '10', 'measurement': 'ounce'}\n",
      "{'name': 'parsley', 'quantity': '1', 'measurement': 'tablespoon'}\n",
      "{'name': 'Parmesan cheese', 'quantity': '1/4', 'measurement': 'cup'}\n",
      "[{'name': 'lasagna noodles', 'quantity': '9', 'measurement': 'NoItem'}, {'name': 'butter', 'quantity': '1/2', 'measurement': 'cup'}, {'name': 'onion', 'quantity': '1', 'measurement': 'NoItem'}, {'name': 'garlic', 'quantity': '1', 'measurement': 'clove'}, {'name': 'flour', 'quantity': '1/2', 'measurement': 'cup'}, {'name': 'salt', 'quantity': '1', 'measurement': 'teaspoon'}, {'name': 'broth', 'quantity': '2', 'measurement': 'cup'}, {'name': 'milk', 'quantity': '1/2', 'measurement': 'cup'}, {'name': 'mozzarella cheese', 'quantity': '4', 'measurement': 'cup'}, {'name': 'Parmesan', 'quantity': '1', 'measurement': 'cup'}, {'name': 'basil', 'quantity': '1', 'measurement': 'teaspoon'}, {'name': 'oregano', 'quantity': '1', 'measurement': 'teaspoon'}, {'name': 'ground', 'quantity': '1/2', 'measurement': 'teaspoon'}, {'name': 'ricotta cheese', 'quantity': '2', 'measurement': 'cup'}, {'name': 'meat', 'quantity': '2', 'measurement': 'cup'}, {'name': 'spinach', 'quantity': '10', 'measurement': 'ounce'}, {'name': 'parsley', 'quantity': '1', 'measurement': 'tablespoon'}, {'name': 'Parmesan cheese', 'quantity': '1/4', 'measurement': 'cup'}]\n",
      "Recipe File already exists\n",
      "['Ingredients:\\n',\n",
      " 'Mashed potato layer:\\n',\n",
      " '5 russet potatoes, peeled and cut into 1-inch cubes\\n',\n",
      " '1/2 cup vegan mayonnaise\\n',\n",
      " '1/2 cup soy milk\\n',\n",
      " '1/4 cup olive oil\\n',\n",
      " '2 teaspoons salt\\n',\n",
      " 'Bottom layer:\\n',\n",
      " '1 tablespoon vegetable oil\\n',\n",
      " '1 large yellow onion, chopped\\n',\n",
      " '2 carrots, chopped\\n',\n",
      " '3 stalks celery, chopped\\n',\n",
      " '1/2 cup frozen peas\\n',\n",
      " '1 tomato, chopped\\n',\n",
      " '1 teaspoon Italian seasoning\\n',\n",
      " '1 clove garlic, minced, or more to taste\\n',\n",
      " '1 pinch ground black pepper to taste\\n',\n",
      " '1 (14 ounce) package vegetarian ground beef substitute\\n',\n",
      " '1/2 cup shredded Cheddar-style soy cheese\\n',\n",
      " '\\n',\n",
      " 'Directions:\\n',\n",
      " 'Place the potatoes in a pot, cover with cold water, and bring to a boil over '\n",
      " 'medium-high heat. Turn the heat to medium-low, and boil the potatoes until '\n",
      " 'tender, about 25 minutes; drain.                            \\n',\n",
      " 'Stir the vegan mayonnaise, soy milk, olive oil, vegan cream cheese, and salt '\n",
      " 'into the potatoes, and mash with a potato masher until smooth and fluffy. '\n",
      " 'Set the potatoes aside.                            \\n',\n",
      " 'Preheat oven to 400 degrees F (200 degrees C), and spray a 2-quart baking '\n",
      " 'dish with cooking spray.                            \\n',\n",
      " 'Heat the vegetable oil in a large skillet over medium heat, and cook and '\n",
      " 'stir the onion, carrots, celery, frozen peas, and tomato until softened, '\n",
      " 'about 10 minutes. Stir in the Italian seasoning, garlic, and '\n",
      " 'pepper.                            \\n',\n",
      " 'Reduce the heat to medium-low, and crumble the vegetarian ground beef '\n",
      " 'substitute into the skillet with the vegetables. Cook and stir, breaking up '\n",
      " 'the meat substitute, until the mixture is hot, about 5 '\n",
      " 'minutes.                            \\n',\n",
      " 'Spread the vegetarian meat substitute mixture into the bottom of the baking '\n",
      " 'dish, and top with the mashed potatoes, smoothing them into an even layer. '\n",
      " 'Sprinkle the potatoes with the shredded soy '\n",
      " 'cheese.                            \\n',\n",
      " 'Bake in the preheated oven until the cheese is melted and slightly browned '\n",
      " 'and the casserole is hot, about 20 minutes.                            \\n']\n",
      "{'name': 'Mashed potato layer', 'quantity': 'Mashed', 'measurement': 'NoItem'}\n",
      "{'name': 'russet potatoes', 'quantity': '5', 'measurement': 'NoItem'}\n",
      "{'name': 'vegan', 'quantity': '1/2', 'measurement': 'cup'}\n",
      "{'name': 'soy milk', 'quantity': '1/2', 'measurement': 'cup'}\n",
      "{'name': 'oil', 'quantity': '1/4', 'measurement': 'cup'}\n",
      "{'name': 'salt', 'quantity': '2', 'measurement': 'teaspoon'}\n",
      "{'name': 'Bottom layer', 'quantity': 'Bottom', 'measurement': 'NoItem'}\n",
      "{'name': 'oil', 'quantity': '1', 'measurement': 'tablespoon'}\n",
      "{'name': 'onion', 'quantity': '1', 'measurement': 'NoItem'}\n",
      "{'name': 'carrots', 'quantity': '2', 'measurement': 'NoItem'}\n",
      "{'name': 'stalks celery', 'quantity': '3', 'measurement': 'NoItem'}\n",
      "{'name': 'peas', 'quantity': '1/2', 'measurement': 'cup'}\n",
      "{'name': 'tomato', 'quantity': '1', 'measurement': 'NoItem'}\n",
      "{'name': 'seasoning', 'quantity': '1', 'measurement': 'teaspoon'}\n",
      "{'name': 'garlic', 'quantity': '1', 'measurement': 'clove'}\n",
      "{'name': 'ground', 'quantity': '1', 'measurement': 'pinch'}\n",
      "{'name': 'package', 'quantity': '14', 'measurement': 'ounce'}\n",
      "{'name': 'soy cheese', 'quantity': '1/2', 'measurement': 'cup'}\n",
      "[[{'conditions': None,\n",
      "   'ingredients': [],\n",
      "   'methods': [],\n",
      "   'raw': 'Place the potatoes in a pot, cover with cold water, and bring to a '\n",
      "          'boil over medium-high heat.',\n",
      "   'times': None,\n",
      "   'tools': ['pot']},\n",
      "  {'conditions': 'until tender',\n",
      "   'ingredients': [],\n",
      "   'methods': [],\n",
      "   'raw': 'Turn the heat to medium-low, and boil the potatoes until tender, '\n",
      "          'about 25 minutes; drain.',\n",
      "   'times': '25 minutes',\n",
      "   'tools': []}],\n",
      " [{'conditions': 'until smooth and fluffy',\n",
      "   'ingredients': ['vegan', 'oil', 'salt', 'oil'],\n",
      "   'methods': [],\n",
      "   'raw': 'Stir the vegan mayonnaise, soy milk, olive oil, vegan cream cheese, '\n",
      "          'and salt into the potatoes, and mash with a potato masher until '\n",
      "          'smooth and fluffy.',\n",
      "   'times': None,\n",
      "   'tools': []},\n",
      "  {'conditions': None,\n",
      "   'ingredients': [],\n",
      "   'methods': [],\n",
      "   'raw': 'Set the potatoes aside.',\n",
      "   'times': None,\n",
      "   'tools': []}],\n",
      " [{'conditions': None,\n",
      "   'ingredients': [],\n",
      "   'methods': ['preheat'],\n",
      "   'raw': 'Preheat oven to 400 degrees F (200 degrees C), and spray a 2-quart '\n",
      "          'baking dish with cooking spray.',\n",
      "   'times': None,\n",
      "   'tools': ['oven', 'dish']}],\n",
      " [{'conditions': 'until softened',\n",
      "   'ingredients': ['oil', 'oil', 'onion', 'carrots', 'peas', 'tomato'],\n",
      "   'methods': ['cook'],\n",
      "   'raw': 'Heat the vegetable oil in a large skillet over medium heat, and '\n",
      "          'cook and stir the onion, carrots, celery, frozen peas, and tomato '\n",
      "          'until softened, about 10 minutes.',\n",
      "   'times': '10 minutes',\n",
      "   'tools': ['skillet']},\n",
      "  {'conditions': None,\n",
      "   'ingredients': ['seasoning', 'garlic'],\n",
      "   'methods': [],\n",
      "   'raw': 'Stir in the Italian seasoning, garlic, and pepper.',\n",
      "   'times': None,\n",
      "   'tools': []}],\n",
      " [{'conditions': None,\n",
      "   'ingredients': ['ground'],\n",
      "   'methods': [],\n",
      "   'raw': 'Reduce the heat to medium-low, and crumble the vegetarian ground '\n",
      "          'beef substitute into the skillet with the vegetables.',\n",
      "   'times': None,\n",
      "   'tools': ['skillet']},\n",
      "  {'conditions': 'until the mixture is hot',\n",
      "   'ingredients': [],\n",
      "   'methods': ['cook'],\n",
      "   'raw': 'Cook and stir, breaking up the meat substitute, until the mixture '\n",
      "          'is hot, about 5 minutes.',\n",
      "   'times': '5 minutes',\n",
      "   'tools': []}],\n",
      " [{'conditions': None,\n",
      "   'ingredients': [],\n",
      "   'methods': [],\n",
      "   'raw': 'Spread the vegetarian meat substitute mixture into the bottom of '\n",
      "          'the baking dish, and top with the mashed potatoes, smoothing them '\n",
      "          'into an even layer.',\n",
      "   'times': None,\n",
      "   'tools': ['dish']},\n",
      "  {'conditions': None,\n",
      "   'ingredients': [],\n",
      "   'methods': [],\n",
      "   'raw': 'Sprinkle the potatoes with the shredded soy cheese.',\n",
      "   'times': None,\n",
      "   'tools': []}],\n",
      " [{'conditions': 'until the cheese is melted and slightly browned and the '\n",
      "                 'casserole is hot',\n",
      "   'ingredients': [],\n",
      "   'methods': [],\n",
      "   'raw': 'Bake in the preheated oven until the cheese is melted and slightly '\n",
      "          'browned and the casserole is hot, about 20 minutes.',\n",
      "   'times': '20 minutes',\n",
      "   'tools': ['oven']}]]\n"
     ]
    }
   ],
   "source": [
    "import pandas as pd\n",
    "from nltk import *\n",
    "from framework import *\n",
    "from ingredients import *\n",
    "from helpers import *\n",
    "from AutoCrawl import *\n",
    "from steps import *"
   ]
  },
  {
   "cell_type": "code",
   "execution_count": 88,
   "metadata": {},
   "outputs": [],
   "source": [
    "masterdata = pd.DataFrame()\n",
    "datalist = []\n",
    "txtfilename = 'proteins.csv'\n",
    "\n",
    "directory = \".\\data\\\\\" + txtfilename\n",
    "masterdata = pd.read_csv(directory, delimiter=',', header = 0)\n",
    "#masterdata = masterdata.rename(index=str, columns={0: \"protein\", 1: \"type\", 2: \"measurement\", 3: \"subs\"})"
   ]
  },
  {
   "cell_type": "code",
   "execution_count": 89,
   "metadata": {},
   "outputs": [
    {
     "data": {
      "text/html": [
       "<div>\n",
       "<style scoped>\n",
       "    .dataframe tbody tr th:only-of-type {\n",
       "        vertical-align: middle;\n",
       "    }\n",
       "\n",
       "    .dataframe tbody tr th {\n",
       "        vertical-align: top;\n",
       "    }\n",
       "\n",
       "    .dataframe thead th {\n",
       "        text-align: right;\n",
       "    }\n",
       "</style>\n",
       "<table border=\"1\" class=\"dataframe\">\n",
       "  <thead>\n",
       "    <tr style=\"text-align: right;\">\n",
       "      <th></th>\n",
       "      <th>protein</th>\n",
       "      <th>veg_dim</th>\n",
       "      <th>veg_closest</th>\n",
       "    </tr>\n",
       "  </thead>\n",
       "  <tbody>\n",
       "    <tr>\n",
       "      <th>0</th>\n",
       "      <td>beef</td>\n",
       "      <td>meat</td>\n",
       "      <td>seitan</td>\n",
       "    </tr>\n",
       "    <tr>\n",
       "      <th>1</th>\n",
       "      <td>lamb</td>\n",
       "      <td>meat</td>\n",
       "      <td>seitan</td>\n",
       "    </tr>\n",
       "    <tr>\n",
       "      <th>2</th>\n",
       "      <td>pork</td>\n",
       "      <td>meat</td>\n",
       "      <td>seitan</td>\n",
       "    </tr>\n",
       "    <tr>\n",
       "      <th>3</th>\n",
       "      <td>chicken</td>\n",
       "      <td>meat</td>\n",
       "      <td>tempeh</td>\n",
       "    </tr>\n",
       "    <tr>\n",
       "      <th>4</th>\n",
       "      <td>fish</td>\n",
       "      <td>meat</td>\n",
       "      <td>tofu</td>\n",
       "    </tr>\n",
       "    <tr>\n",
       "      <th>5</th>\n",
       "      <td>egg</td>\n",
       "      <td>vegetarian</td>\n",
       "      <td>NaN</td>\n",
       "    </tr>\n",
       "    <tr>\n",
       "      <th>6</th>\n",
       "      <td>tofu</td>\n",
       "      <td>vegetarian</td>\n",
       "      <td>NaN</td>\n",
       "    </tr>\n",
       "    <tr>\n",
       "      <th>7</th>\n",
       "      <td>tempeh</td>\n",
       "      <td>vegetarian</td>\n",
       "      <td>NaN</td>\n",
       "    </tr>\n",
       "    <tr>\n",
       "      <th>8</th>\n",
       "      <td>seitan</td>\n",
       "      <td>vegetarian</td>\n",
       "      <td>NaN</td>\n",
       "    </tr>\n",
       "  </tbody>\n",
       "</table>\n",
       "</div>"
      ],
      "text/plain": [
       "   protein     veg_dim veg_closest\n",
       "0     beef        meat      seitan\n",
       "1     lamb        meat      seitan\n",
       "2     pork        meat      seitan\n",
       "3  chicken        meat      tempeh\n",
       "4     fish        meat        tofu\n",
       "5      egg  vegetarian         NaN\n",
       "6     tofu  vegetarian         NaN\n",
       "7   tempeh  vegetarian         NaN\n",
       "8   seitan  vegetarian         NaN"
      ]
     },
     "execution_count": 89,
     "metadata": {},
     "output_type": "execute_result"
    }
   ],
   "source": [
    "masterdata"
   ]
  },
  {
   "cell_type": "code",
   "execution_count": 91,
   "metadata": {},
   "outputs": [
    {
     "data": {
      "text/plain": [
       "'meat'"
      ]
     },
     "execution_count": 91,
     "metadata": {},
     "output_type": "execute_result"
    }
   ],
   "source": [
    "def proteinType(input_protein, masterdata):\n",
    "    protype = masterdata[masterdata['protein'] == input_protein]['veg_dim'].item()\n",
    "    return protype\n",
    "\n",
    "def proteinSub(input_protein, masterdata):\n",
    "    replacement = masterdata[masterdata['protein'] == input_protein]['veg_closest'].item()\n",
    "    return replacement\n",
    "\n",
    "proteinType('beef', masterdata)"
   ]
  },
  {
   "cell_type": "code",
   "execution_count": 92,
   "metadata": {},
   "outputs": [
    {
     "data": {
      "text/plain": [
       "'seitan'"
      ]
     },
     "execution_count": 92,
     "metadata": {},
     "output_type": "execute_result"
    }
   ],
   "source": [
    "proteinSub('beef', masterdata)"
   ]
  },
  {
   "cell_type": "code",
   "execution_count": 93,
   "metadata": {},
   "outputs": [],
   "source": [
    "from framework import *"
   ]
  },
  {
   "cell_type": "code",
   "execution_count": 94,
   "metadata": {
    "scrolled": true
   },
   "outputs": [
    {
     "name": "stdout",
     "output_type": "stream",
     "text": [
      "Recipe File already exists\n",
      "{'name': 'beef steaks', 'quantity': '1/2', 'measurement': 'pound'}\n",
      "{'name': 'flour', 'quantity': '2', 'measurement': 'cup'}\n",
      "{'name': 'powder', 'quantity': '2', 'measurement': 'teaspoon'}\n",
      "{'name': 'baking soda', 'quantity': '1', 'measurement': 'teaspoon'}\n",
      "{'name': 'pepper', 'quantity': '1', 'measurement': 'teaspoon'}\n",
      "{'name': 'salt', 'quantity': '3/4', 'measurement': 'teaspoon'}\n",
      "{'name': 'buttermilk', 'quantity': '1/2', 'measurement': 'cup'}\n",
      "{'name': 'egg', 'quantity': '1', 'measurement': 'NoItem'}\n",
      "{'name': 'garlic , minced', 'quantity': '2', 'measurement': 'clove'}\n",
      "{'name': 'frying', 'quantity': '3', 'measurement': 'cup'}\n",
      "{'name': 'flour', 'quantity': '1/4', 'measurement': 'cup'}\n",
      "{'name': 'milk', 'quantity': '4', 'measurement': 'cup'}\n",
      "{'name': 'kosher salt', 'quantity': 'kosher', 'measurement': 'NoItem'}\n"
     ]
    }
   ],
   "source": [
    "text = GetData(\"https://www.allrecipes.com/recipe/150306/the-best-chicken-fried-steak/\")\n",
    "steps = GetSteps(text)"
   ]
  },
  {
   "cell_type": "code",
   "execution_count": 100,
   "metadata": {},
   "outputs": [
    {
     "name": "stdout",
     "output_type": "stream",
     "text": [
      "{'name': 'beef steaks', 'quantity': '1/2', 'measurement': 'pound'}\n",
      "{'name': 'flour', 'quantity': '2', 'measurement': 'cup'}\n",
      "{'name': 'powder', 'quantity': '2', 'measurement': 'teaspoon'}\n",
      "{'name': 'baking soda', 'quantity': '1', 'measurement': 'teaspoon'}\n",
      "{'name': 'pepper', 'quantity': '1', 'measurement': 'teaspoon'}\n",
      "{'name': 'salt', 'quantity': '3/4', 'measurement': 'teaspoon'}\n",
      "{'name': 'buttermilk', 'quantity': '1/2', 'measurement': 'cup'}\n",
      "{'name': 'egg', 'quantity': '1', 'measurement': 'NoItem'}\n",
      "{'name': 'garlic , minced', 'quantity': '2', 'measurement': 'clove'}\n",
      "{'name': 'frying', 'quantity': '3', 'measurement': 'cup'}\n",
      "{'name': 'flour', 'quantity': '1/4', 'measurement': 'cup'}\n",
      "{'name': 'milk', 'quantity': '4', 'measurement': 'cup'}\n",
      "{'name': 'kosher salt', 'quantity': 'kosher', 'measurement': 'NoItem'}\n",
      "{'name': 'beef steaks', 'quantity': '1/2', 'measurement': 'pound'}\n",
      "{'name': 'flour', 'quantity': '2', 'measurement': 'cup'}\n",
      "{'name': 'powder', 'quantity': '2', 'measurement': 'teaspoon'}\n",
      "{'name': 'baking soda', 'quantity': '1', 'measurement': 'teaspoon'}\n",
      "{'name': 'pepper', 'quantity': '1', 'measurement': 'teaspoon'}\n",
      "{'name': 'salt', 'quantity': '3/4', 'measurement': 'teaspoon'}\n",
      "{'name': 'buttermilk', 'quantity': '1/2', 'measurement': 'cup'}\n",
      "{'name': 'egg', 'quantity': '1', 'measurement': 'NoItem'}\n",
      "{'name': 'garlic , minced', 'quantity': '2', 'measurement': 'clove'}\n",
      "{'name': 'frying', 'quantity': '3', 'measurement': 'cup'}\n",
      "{'name': 'flour', 'quantity': '1/4', 'measurement': 'cup'}\n",
      "{'name': 'milk', 'quantity': '4', 'measurement': 'cup'}\n",
      "{'name': 'kosher salt', 'quantity': 'kosher', 'measurement': 'NoItem'}\n"
     ]
    },
    {
     "data": {
      "text/plain": [
       "{'beef steaks': 'seitan'}"
      ]
     },
     "execution_count": 100,
     "metadata": {},
     "output_type": "execute_result"
    }
   ],
   "source": [
    "inglist = GetIngredients(text)\n",
    "replacedict = {}\n",
    "for ingfull in inglist:\n",
    "    print(ingfull)\n",
    "    ingredient = ingfull['name'].split()\n",
    "    indict = set(ingredient).intersection(set(masterdata['protein']))\n",
    "    if len(indict) > 0:\n",
    "        item = list(indict)[0]\n",
    "        typecheck = proteinType(item, masterdata)\n",
    "        if typecheck == \"meat\":\n",
    "            typereplace = proteinSub(item, masterdata)\n",
    "            replacedict[ingfull['name']] = typereplace\n",
    "        else:\n",
    "            typereplace = item\n",
    "        \n",
    "replacedict"
   ]
  },
  {
   "cell_type": "code",
   "execution_count": 15,
   "metadata": {},
   "outputs": [],
   "source": [
    "def "
   ]
  },
  {
   "cell_type": "code",
   "execution_count": 20,
   "metadata": {},
   "outputs": [
    {
     "ename": "IndexError",
     "evalue": "index out of bounds",
     "output_type": "error",
     "traceback": [
      "\u001b[1;31m---------------------------------------------------------------------------\u001b[0m",
      "\u001b[1;31mKeyError\u001b[0m                                  Traceback (most recent call last)",
      "\u001b[1;32m~\\Anaconda3\\lib\\site-packages\\pandas\\core\\indexes\\base.py\u001b[0m in \u001b[0;36mget_value\u001b[1;34m(self, series, key)\u001b[0m\n\u001b[0;32m   4373\u001b[0m             return self._engine.get_value(s, k,\n\u001b[1;32m-> 4374\u001b[1;33m                                           tz=getattr(series.dtype, 'tz', None))\n\u001b[0m\u001b[0;32m   4375\u001b[0m         \u001b[1;32mexcept\u001b[0m \u001b[0mKeyError\u001b[0m \u001b[1;32mas\u001b[0m \u001b[0me1\u001b[0m\u001b[1;33m:\u001b[0m\u001b[1;33m\u001b[0m\u001b[0m\n",
      "\u001b[1;32mpandas\\_libs\\index.pyx\u001b[0m in \u001b[0;36mpandas._libs.index.IndexEngine.get_value\u001b[1;34m()\u001b[0m\n",
      "\u001b[1;32mpandas\\_libs\\index.pyx\u001b[0m in \u001b[0;36mpandas._libs.index.IndexEngine.get_value\u001b[1;34m()\u001b[0m\n",
      "\u001b[1;32mpandas\\_libs\\index.pyx\u001b[0m in \u001b[0;36mpandas._libs.index.IndexEngine.get_loc\u001b[1;34m()\u001b[0m\n",
      "\u001b[1;32mpandas\\_libs\\hashtable_class_helper.pxi\u001b[0m in \u001b[0;36mpandas._libs.hashtable.Int64HashTable.get_item\u001b[1;34m()\u001b[0m\n",
      "\u001b[1;32mpandas\\_libs\\hashtable_class_helper.pxi\u001b[0m in \u001b[0;36mpandas._libs.hashtable.Int64HashTable.get_item\u001b[1;34m()\u001b[0m\n",
      "\u001b[1;31mKeyError\u001b[0m: 0",
      "\nDuring handling of the above exception, another exception occurred:\n",
      "\u001b[1;31mIndexError\u001b[0m                                Traceback (most recent call last)",
      "\u001b[1;32m<ipython-input-20-0d2b85fa265b>\u001b[0m in \u001b[0;36m<module>\u001b[1;34m()\u001b[0m\n\u001b[1;32m----> 1\u001b[1;33m \u001b[0mproteinType\u001b[0m\u001b[1;33m(\u001b[0m\u001b[1;34m'bseef'\u001b[0m\u001b[1;33m,\u001b[0m \u001b[0mmasterdata\u001b[0m\u001b[1;33m)\u001b[0m\u001b[1;33m\u001b[0m\u001b[0m\n\u001b[0m",
      "\u001b[1;32m<ipython-input-5-48c13c2d8961>\u001b[0m in \u001b[0;36mproteinType\u001b[1;34m(input_protein, masterdata)\u001b[0m\n\u001b[0;32m      1\u001b[0m \u001b[1;32mdef\u001b[0m \u001b[0mproteinType\u001b[0m\u001b[1;33m(\u001b[0m\u001b[0minput_protein\u001b[0m\u001b[1;33m,\u001b[0m \u001b[0mmasterdata\u001b[0m\u001b[1;33m)\u001b[0m\u001b[1;33m:\u001b[0m\u001b[1;33m\u001b[0m\u001b[0m\n\u001b[1;32m----> 2\u001b[1;33m     \u001b[0mprotype\u001b[0m \u001b[1;33m=\u001b[0m \u001b[0mmasterdata\u001b[0m\u001b[1;33m[\u001b[0m\u001b[0mmasterdata\u001b[0m\u001b[1;33m[\u001b[0m\u001b[1;34m'protein'\u001b[0m\u001b[1;33m]\u001b[0m \u001b[1;33m==\u001b[0m \u001b[0minput_protein\u001b[0m\u001b[1;33m]\u001b[0m\u001b[1;33m[\u001b[0m\u001b[1;34m'veg_dim'\u001b[0m\u001b[1;33m]\u001b[0m\u001b[1;33m[\u001b[0m\u001b[1;36m0\u001b[0m\u001b[1;33m]\u001b[0m\u001b[1;33m\u001b[0m\u001b[0m\n\u001b[0m\u001b[0;32m      3\u001b[0m     \u001b[1;32mreturn\u001b[0m \u001b[0mprotype\u001b[0m\u001b[1;33m\u001b[0m\u001b[0m\n\u001b[0;32m      4\u001b[0m \u001b[1;33m\u001b[0m\u001b[0m\n\u001b[0;32m      5\u001b[0m \u001b[1;32mdef\u001b[0m \u001b[0mproteinSub\u001b[0m\u001b[1;33m(\u001b[0m\u001b[0minput_protein\u001b[0m\u001b[1;33m,\u001b[0m \u001b[0mmasterdata\u001b[0m\u001b[1;33m)\u001b[0m\u001b[1;33m:\u001b[0m\u001b[1;33m\u001b[0m\u001b[0m\n",
      "\u001b[1;32m~\\Anaconda3\\lib\\site-packages\\pandas\\core\\series.py\u001b[0m in \u001b[0;36m__getitem__\u001b[1;34m(self, key)\u001b[0m\n\u001b[0;32m    866\u001b[0m         \u001b[0mkey\u001b[0m \u001b[1;33m=\u001b[0m \u001b[0mcom\u001b[0m\u001b[1;33m.\u001b[0m\u001b[0mapply_if_callable\u001b[0m\u001b[1;33m(\u001b[0m\u001b[0mkey\u001b[0m\u001b[1;33m,\u001b[0m \u001b[0mself\u001b[0m\u001b[1;33m)\u001b[0m\u001b[1;33m\u001b[0m\u001b[0m\n\u001b[0;32m    867\u001b[0m         \u001b[1;32mtry\u001b[0m\u001b[1;33m:\u001b[0m\u001b[1;33m\u001b[0m\u001b[0m\n\u001b[1;32m--> 868\u001b[1;33m             \u001b[0mresult\u001b[0m \u001b[1;33m=\u001b[0m \u001b[0mself\u001b[0m\u001b[1;33m.\u001b[0m\u001b[0mindex\u001b[0m\u001b[1;33m.\u001b[0m\u001b[0mget_value\u001b[0m\u001b[1;33m(\u001b[0m\u001b[0mself\u001b[0m\u001b[1;33m,\u001b[0m \u001b[0mkey\u001b[0m\u001b[1;33m)\u001b[0m\u001b[1;33m\u001b[0m\u001b[0m\n\u001b[0m\u001b[0;32m    869\u001b[0m \u001b[1;33m\u001b[0m\u001b[0m\n\u001b[0;32m    870\u001b[0m             \u001b[1;32mif\u001b[0m \u001b[1;32mnot\u001b[0m \u001b[0mis_scalar\u001b[0m\u001b[1;33m(\u001b[0m\u001b[0mresult\u001b[0m\u001b[1;33m)\u001b[0m\u001b[1;33m:\u001b[0m\u001b[1;33m\u001b[0m\u001b[0m\n",
      "\u001b[1;32m~\\Anaconda3\\lib\\site-packages\\pandas\\core\\indexes\\base.py\u001b[0m in \u001b[0;36mget_value\u001b[1;34m(self, series, key)\u001b[0m\n\u001b[0;32m   4378\u001b[0m \u001b[1;33m\u001b[0m\u001b[0m\n\u001b[0;32m   4379\u001b[0m             \u001b[1;32mtry\u001b[0m\u001b[1;33m:\u001b[0m\u001b[1;33m\u001b[0m\u001b[0m\n\u001b[1;32m-> 4380\u001b[1;33m                 \u001b[1;32mreturn\u001b[0m \u001b[0mlibindex\u001b[0m\u001b[1;33m.\u001b[0m\u001b[0mget_value_box\u001b[0m\u001b[1;33m(\u001b[0m\u001b[0ms\u001b[0m\u001b[1;33m,\u001b[0m \u001b[0mkey\u001b[0m\u001b[1;33m)\u001b[0m\u001b[1;33m\u001b[0m\u001b[0m\n\u001b[0m\u001b[0;32m   4381\u001b[0m             \u001b[1;32mexcept\u001b[0m \u001b[0mIndexError\u001b[0m\u001b[1;33m:\u001b[0m\u001b[1;33m\u001b[0m\u001b[0m\n\u001b[0;32m   4382\u001b[0m                 \u001b[1;32mraise\u001b[0m\u001b[1;33m\u001b[0m\u001b[0m\n",
      "\u001b[1;32mpandas\\_libs\\index.pyx\u001b[0m in \u001b[0;36mpandas._libs.index.get_value_box\u001b[1;34m()\u001b[0m\n",
      "\u001b[1;32mpandas\\_libs\\index.pyx\u001b[0m in \u001b[0;36mpandas._libs.index.get_value_at\u001b[1;34m()\u001b[0m\n",
      "\u001b[1;32mpandas\\_libs\\util.pxd\u001b[0m in \u001b[0;36mpandas._libs.util.get_value_at\u001b[1;34m()\u001b[0m\n",
      "\u001b[1;32mpandas\\_libs\\util.pxd\u001b[0m in \u001b[0;36mpandas._libs.util.validate_indexer\u001b[1;34m()\u001b[0m\n",
      "\u001b[1;31mIndexError\u001b[0m: index out of bounds"
     ]
    }
   ],
   "source": [
    "proteinType('bseef', masterdata)"
   ]
  },
  {
   "cell_type": "code",
   "execution_count": 23,
   "metadata": {},
   "outputs": [
    {
     "data": {
      "text/plain": [
       "{'beef', 'chicken', 'egg', 'fish', 'lamb', 'pork', 'seitan', 'tempeh', 'tofu'}"
      ]
     },
     "execution_count": 23,
     "metadata": {},
     "output_type": "execute_result"
    }
   ],
   "source": []
  },
  {
   "cell_type": "code",
   "execution_count": 31,
   "metadata": {},
   "outputs": [
    {
     "data": {
      "text/plain": [
       "['fish', 'seitan', 'pork', 'beef', 'lamb', 'chicken', 'tempeh', 'egg', 'tofu']"
      ]
     },
     "execution_count": 31,
     "metadata": {},
     "output_type": "execute_result"
    }
   ],
   "source": [
    "list(set(masterdata['protein']))"
   ]
  },
  {
   "cell_type": "code",
   "execution_count": 36,
   "metadata": {},
   "outputs": [
    {
     "data": {
      "text/plain": [
       "'beef'"
      ]
     },
     "execution_count": 36,
     "metadata": {},
     "output_type": "execute_result"
    }
   ],
   "source": [
    "list({'beef'})[0]"
   ]
  },
  {
   "cell_type": "code",
   "execution_count": 51,
   "metadata": {},
   "outputs": [
    {
     "ename": "KeyError",
     "evalue": "0",
     "output_type": "error",
     "traceback": [
      "\u001b[1;31m---------------------------------------------------------------------------\u001b[0m",
      "\u001b[1;31mKeyError\u001b[0m                                  Traceback (most recent call last)",
      "\u001b[1;32m<ipython-input-51-072ac0f02803>\u001b[0m in \u001b[0;36m<module>\u001b[1;34m()\u001b[0m\n\u001b[1;32m----> 1\u001b[1;33m \u001b[0mproteinType\u001b[0m\u001b[1;33m(\u001b[0m\u001b[1;34m'egg'\u001b[0m\u001b[1;33m,\u001b[0m \u001b[0mmasterdata\u001b[0m\u001b[1;33m)\u001b[0m\u001b[1;33m\u001b[0m\u001b[0m\n\u001b[0m",
      "\u001b[1;32m<ipython-input-5-48c13c2d8961>\u001b[0m in \u001b[0;36mproteinType\u001b[1;34m(input_protein, masterdata)\u001b[0m\n\u001b[0;32m      1\u001b[0m \u001b[1;32mdef\u001b[0m \u001b[0mproteinType\u001b[0m\u001b[1;33m(\u001b[0m\u001b[0minput_protein\u001b[0m\u001b[1;33m,\u001b[0m \u001b[0mmasterdata\u001b[0m\u001b[1;33m)\u001b[0m\u001b[1;33m:\u001b[0m\u001b[1;33m\u001b[0m\u001b[0m\n\u001b[1;32m----> 2\u001b[1;33m     \u001b[0mprotype\u001b[0m \u001b[1;33m=\u001b[0m \u001b[0mmasterdata\u001b[0m\u001b[1;33m[\u001b[0m\u001b[0mmasterdata\u001b[0m\u001b[1;33m[\u001b[0m\u001b[1;34m'protein'\u001b[0m\u001b[1;33m]\u001b[0m \u001b[1;33m==\u001b[0m \u001b[0minput_protein\u001b[0m\u001b[1;33m]\u001b[0m\u001b[1;33m[\u001b[0m\u001b[1;34m'veg_dim'\u001b[0m\u001b[1;33m]\u001b[0m\u001b[1;33m[\u001b[0m\u001b[1;36m0\u001b[0m\u001b[1;33m]\u001b[0m\u001b[1;33m\u001b[0m\u001b[0m\n\u001b[0m\u001b[0;32m      3\u001b[0m     \u001b[1;32mreturn\u001b[0m \u001b[0mprotype\u001b[0m\u001b[1;33m\u001b[0m\u001b[0m\n\u001b[0;32m      4\u001b[0m \u001b[1;33m\u001b[0m\u001b[0m\n\u001b[0;32m      5\u001b[0m \u001b[1;32mdef\u001b[0m \u001b[0mproteinSub\u001b[0m\u001b[1;33m(\u001b[0m\u001b[0minput_protein\u001b[0m\u001b[1;33m,\u001b[0m \u001b[0mmasterdata\u001b[0m\u001b[1;33m)\u001b[0m\u001b[1;33m:\u001b[0m\u001b[1;33m\u001b[0m\u001b[0m\n",
      "\u001b[1;32m~\\Anaconda3\\lib\\site-packages\\pandas\\core\\series.py\u001b[0m in \u001b[0;36m__getitem__\u001b[1;34m(self, key)\u001b[0m\n\u001b[0;32m    866\u001b[0m         \u001b[0mkey\u001b[0m \u001b[1;33m=\u001b[0m \u001b[0mcom\u001b[0m\u001b[1;33m.\u001b[0m\u001b[0mapply_if_callable\u001b[0m\u001b[1;33m(\u001b[0m\u001b[0mkey\u001b[0m\u001b[1;33m,\u001b[0m \u001b[0mself\u001b[0m\u001b[1;33m)\u001b[0m\u001b[1;33m\u001b[0m\u001b[0m\n\u001b[0;32m    867\u001b[0m         \u001b[1;32mtry\u001b[0m\u001b[1;33m:\u001b[0m\u001b[1;33m\u001b[0m\u001b[0m\n\u001b[1;32m--> 868\u001b[1;33m             \u001b[0mresult\u001b[0m \u001b[1;33m=\u001b[0m \u001b[0mself\u001b[0m\u001b[1;33m.\u001b[0m\u001b[0mindex\u001b[0m\u001b[1;33m.\u001b[0m\u001b[0mget_value\u001b[0m\u001b[1;33m(\u001b[0m\u001b[0mself\u001b[0m\u001b[1;33m,\u001b[0m \u001b[0mkey\u001b[0m\u001b[1;33m)\u001b[0m\u001b[1;33m\u001b[0m\u001b[0m\n\u001b[0m\u001b[0;32m    869\u001b[0m \u001b[1;33m\u001b[0m\u001b[0m\n\u001b[0;32m    870\u001b[0m             \u001b[1;32mif\u001b[0m \u001b[1;32mnot\u001b[0m \u001b[0mis_scalar\u001b[0m\u001b[1;33m(\u001b[0m\u001b[0mresult\u001b[0m\u001b[1;33m)\u001b[0m\u001b[1;33m:\u001b[0m\u001b[1;33m\u001b[0m\u001b[0m\n",
      "\u001b[1;32m~\\Anaconda3\\lib\\site-packages\\pandas\\core\\indexes\\base.py\u001b[0m in \u001b[0;36mget_value\u001b[1;34m(self, series, key)\u001b[0m\n\u001b[0;32m   4372\u001b[0m         \u001b[1;32mtry\u001b[0m\u001b[1;33m:\u001b[0m\u001b[1;33m\u001b[0m\u001b[0m\n\u001b[0;32m   4373\u001b[0m             return self._engine.get_value(s, k,\n\u001b[1;32m-> 4374\u001b[1;33m                                           tz=getattr(series.dtype, 'tz', None))\n\u001b[0m\u001b[0;32m   4375\u001b[0m         \u001b[1;32mexcept\u001b[0m \u001b[0mKeyError\u001b[0m \u001b[1;32mas\u001b[0m \u001b[0me1\u001b[0m\u001b[1;33m:\u001b[0m\u001b[1;33m\u001b[0m\u001b[0m\n\u001b[0;32m   4376\u001b[0m             \u001b[1;32mif\u001b[0m \u001b[0mlen\u001b[0m\u001b[1;33m(\u001b[0m\u001b[0mself\u001b[0m\u001b[1;33m)\u001b[0m \u001b[1;33m>\u001b[0m \u001b[1;36m0\u001b[0m \u001b[1;32mand\u001b[0m \u001b[1;33m(\u001b[0m\u001b[0mself\u001b[0m\u001b[1;33m.\u001b[0m\u001b[0mholds_integer\u001b[0m\u001b[1;33m(\u001b[0m\u001b[1;33m)\u001b[0m \u001b[1;32mor\u001b[0m \u001b[0mself\u001b[0m\u001b[1;33m.\u001b[0m\u001b[0mis_boolean\u001b[0m\u001b[1;33m(\u001b[0m\u001b[1;33m)\u001b[0m\u001b[1;33m)\u001b[0m\u001b[1;33m:\u001b[0m\u001b[1;33m\u001b[0m\u001b[0m\n",
      "\u001b[1;32mpandas\\_libs\\index.pyx\u001b[0m in \u001b[0;36mpandas._libs.index.IndexEngine.get_value\u001b[1;34m()\u001b[0m\n",
      "\u001b[1;32mpandas\\_libs\\index.pyx\u001b[0m in \u001b[0;36mpandas._libs.index.IndexEngine.get_value\u001b[1;34m()\u001b[0m\n",
      "\u001b[1;32mpandas\\_libs\\index.pyx\u001b[0m in \u001b[0;36mpandas._libs.index.IndexEngine.get_loc\u001b[1;34m()\u001b[0m\n",
      "\u001b[1;32mpandas\\_libs\\hashtable_class_helper.pxi\u001b[0m in \u001b[0;36mpandas._libs.hashtable.Int64HashTable.get_item\u001b[1;34m()\u001b[0m\n",
      "\u001b[1;32mpandas\\_libs\\hashtable_class_helper.pxi\u001b[0m in \u001b[0;36mpandas._libs.hashtable.Int64HashTable.get_item\u001b[1;34m()\u001b[0m\n",
      "\u001b[1;31mKeyError\u001b[0m: 0"
     ]
    }
   ],
   "source": [
    "proteinType('egg', masterdata)"
   ]
  },
  {
   "cell_type": "code",
   "execution_count": 78,
   "metadata": {},
   "outputs": [
    {
     "data": {
      "text/plain": [
       "5    vegetarian\n",
       "Name: veg_dim, dtype: object"
      ]
     },
     "execution_count": 78,
     "metadata": {},
     "output_type": "execute_result"
    }
   ],
   "source": [
    "k = masterdata[masterdata['protein'] == 'egg']['veg_dim']\n",
    "k"
   ]
  },
  {
   "cell_type": "code",
   "execution_count": 90,
   "metadata": {},
   "outputs": [
    {
     "data": {
      "text/plain": [
       "'vegetarian'"
      ]
     },
     "execution_count": 90,
     "metadata": {},
     "output_type": "execute_result"
    }
   ],
   "source": [
    "k.item()"
   ]
  },
  {
   "cell_type": "code",
   "execution_count": null,
   "metadata": {},
   "outputs": [],
   "source": []
  }
 ],
 "metadata": {
  "kernelspec": {
   "display_name": "Python 3",
   "language": "python",
   "name": "python3"
  },
  "language_info": {
   "codemirror_mode": {
    "name": "ipython",
    "version": 3
   },
   "file_extension": ".py",
   "mimetype": "text/x-python",
   "name": "python",
   "nbconvert_exporter": "python",
   "pygments_lexer": "ipython3",
   "version": "3.7.0"
  }
 },
 "nbformat": 4,
 "nbformat_minor": 2
}
