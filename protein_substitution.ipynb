{
 "cells": [
  {
   "cell_type": "code",
   "execution_count": 1,
   "metadata": {},
   "outputs": [
    {
     "name": "stdout",
     "output_type": "stream",
     "text": [
      "Recipe File already exists\n",
      "['Ingredients:\\n', '2 lobster tails, split along the center top\\n', '2 teaspoons butter, melted\\n', '15 buttery round crackers, crushed\\n', '1/2 cup jumbo lump crabmeat\\n', '1/4 cup clarified butter\\n', '1 tablespoon chopped fresh parsley leaves\\n', '1 teaspoon seafood seasoning (such as Old Bay庐)\\n', '1 clove garlic, minced\\n', '1 teaspoon lemon zest\\n', '1 tablespoon fresh lemon juice\\n', '1/4 teaspoon salt, or to taste\\n', '1/4 teaspoon freshly ground white pepper, or to taste\\n', '\\n', 'Directions:\\n', 'Preheat oven to 425 degrees F (220 degrees C).\\n', 'Pull the edges of the split lobster shells apart and gently lift the tail meat to rest above the shells. Place the prepared lobster tails on a baking sheet.\\n', 'Brush each portion of tail meat with 1 teaspoon melted butter.\\n', 'Lightly mix the crushed crackers, crabmeat, 1/4 cup of clarified butter, parsley, seafood seasoning, garlic, lemon zest, lemon juice, salt, and white pepper in a bowl until thoroughly combined.\\n', '\"Spoon half the stuffing onto each lobster tail; press lightly to slightly shape the stuffing so it doesnt fall off.\\n', 'Bake the lobster tails in the preheated oven until the meat is opaque and the stuffing is golden brown on top, 10 to 12 minutes. An instant-read thermometer inserted into the thickest part of the lobster tail should read 145 degrees F (65 degrees C).\\n']\n",
      "{'name': 'lasagna noodles', 'quantity': '9', 'measurement': 'NoItem'}\n",
      "{'name': 'butter', 'quantity': '1/2', 'measurement': 'cup'}\n",
      "{'name': 'onion', 'quantity': '1', 'measurement': 'NoItem'}\n",
      "{'name': 'garlic', 'quantity': '1', 'measurement': 'clove'}\n",
      "{'name': 'flour', 'quantity': '1/2', 'measurement': 'cup'}\n",
      "{'name': 'salt', 'quantity': '1', 'measurement': 'teaspoon'}\n",
      "{'name': 'broth', 'quantity': '2', 'measurement': 'cup'}\n",
      "{'name': 'milk', 'quantity': '1/2', 'measurement': 'cup'}\n",
      "{'name': 'mozzarella cheese', 'quantity': '4', 'measurement': 'cup'}\n",
      "{'name': 'Parmesan', 'quantity': '1', 'measurement': 'cup'}\n",
      "{'name': 'basil', 'quantity': '1', 'measurement': 'teaspoon'}\n",
      "{'name': 'oregano', 'quantity': '1', 'measurement': 'teaspoon'}\n",
      "{'name': 'ground', 'quantity': '1/2', 'measurement': 'teaspoon'}\n",
      "{'name': 'ricotta cheese', 'quantity': '2', 'measurement': 'cup'}\n",
      "{'name': 'meat', 'quantity': '2', 'measurement': 'cup'}\n",
      "{'name': 'spinach', 'quantity': '10', 'measurement': 'ounce'}\n",
      "{'name': 'parsley', 'quantity': '1', 'measurement': 'tablespoon'}\n",
      "{'name': 'Parmesan cheese', 'quantity': '1/4', 'measurement': 'cup'}\n",
      "[{'name': 'lasagna noodles', 'quantity': '9', 'measurement': 'NoItem'}, {'name': 'butter', 'quantity': '1/2', 'measurement': 'cup'}, {'name': 'onion', 'quantity': '1', 'measurement': 'NoItem'}, {'name': 'garlic', 'quantity': '1', 'measurement': 'clove'}, {'name': 'flour', 'quantity': '1/2', 'measurement': 'cup'}, {'name': 'salt', 'quantity': '1', 'measurement': 'teaspoon'}, {'name': 'broth', 'quantity': '2', 'measurement': 'cup'}, {'name': 'milk', 'quantity': '1/2', 'measurement': 'cup'}, {'name': 'mozzarella cheese', 'quantity': '4', 'measurement': 'cup'}, {'name': 'Parmesan', 'quantity': '1', 'measurement': 'cup'}, {'name': 'basil', 'quantity': '1', 'measurement': 'teaspoon'}, {'name': 'oregano', 'quantity': '1', 'measurement': 'teaspoon'}, {'name': 'ground', 'quantity': '1/2', 'measurement': 'teaspoon'}, {'name': 'ricotta cheese', 'quantity': '2', 'measurement': 'cup'}, {'name': 'meat', 'quantity': '2', 'measurement': 'cup'}, {'name': 'spinach', 'quantity': '10', 'measurement': 'ounce'}, {'name': 'parsley', 'quantity': '1', 'measurement': 'tablespoon'}, {'name': 'Parmesan cheese', 'quantity': '1/4', 'measurement': 'cup'}]\n"
     ]
    }
   ],
   "source": [
    "import pandas as pd\n",
    "from nltk import *\n",
    "from framework import *\n",
    "from ingredients import *\n",
    "from helpers import *\n",
    "from AutoCrawl import *\n",
    "from steps import *"
   ]
  },
  {
   "cell_type": "code",
   "execution_count": 20,
   "metadata": {},
   "outputs": [],
   "source": [
    "masterdata = pd.DataFrame()\n",
    "datalist = []\n",
    "txtfilename = 'proteins.csv'\n",
    "\n",
    "directory = \".\\data\\\\\" + txtfilename\n",
    "masterdata = pd.read_csv(directory, delimiter=',', header = 0)\n",
    "#masterdata = masterdata.rename(index=str, columns={0: \"protein\", 1: \"type\", 2: \"measurement\", 3: \"subs\"})"
   ]
  },
  {
   "cell_type": "code",
   "execution_count": 21,
   "metadata": {},
   "outputs": [
    {
     "data": {
      "text/html": [
       "<div>\n",
       "<style scoped>\n",
       "    .dataframe tbody tr th:only-of-type {\n",
       "        vertical-align: middle;\n",
       "    }\n",
       "\n",
       "    .dataframe tbody tr th {\n",
       "        vertical-align: top;\n",
       "    }\n",
       "\n",
       "    .dataframe thead th {\n",
       "        text-align: right;\n",
       "    }\n",
       "</style>\n",
       "<table border=\"1\" class=\"dataframe\">\n",
       "  <thead>\n",
       "    <tr style=\"text-align: right;\">\n",
       "      <th></th>\n",
       "      <th>protein</th>\n",
       "      <th>veg_dim</th>\n",
       "      <th>veg_closest</th>\n",
       "    </tr>\n",
       "  </thead>\n",
       "  <tbody>\n",
       "    <tr>\n",
       "      <th>0</th>\n",
       "      <td>beef</td>\n",
       "      <td>meat</td>\n",
       "      <td>seitan</td>\n",
       "    </tr>\n",
       "    <tr>\n",
       "      <th>1</th>\n",
       "      <td>lamb</td>\n",
       "      <td>meat</td>\n",
       "      <td>seitan</td>\n",
       "    </tr>\n",
       "    <tr>\n",
       "      <th>2</th>\n",
       "      <td>pork</td>\n",
       "      <td>meat</td>\n",
       "      <td>seitan</td>\n",
       "    </tr>\n",
       "    <tr>\n",
       "      <th>3</th>\n",
       "      <td>chicken</td>\n",
       "      <td>meat</td>\n",
       "      <td>tempeh</td>\n",
       "    </tr>\n",
       "    <tr>\n",
       "      <th>4</th>\n",
       "      <td>fish</td>\n",
       "      <td>meat</td>\n",
       "      <td>tofu</td>\n",
       "    </tr>\n",
       "    <tr>\n",
       "      <th>5</th>\n",
       "      <td>egg</td>\n",
       "      <td>vegetarian</td>\n",
       "      <td>NaN</td>\n",
       "    </tr>\n",
       "    <tr>\n",
       "      <th>6</th>\n",
       "      <td>tofu</td>\n",
       "      <td>vegetarian</td>\n",
       "      <td>NaN</td>\n",
       "    </tr>\n",
       "    <tr>\n",
       "      <th>7</th>\n",
       "      <td>tempeh</td>\n",
       "      <td>vegetarian</td>\n",
       "      <td>NaN</td>\n",
       "    </tr>\n",
       "    <tr>\n",
       "      <th>8</th>\n",
       "      <td>seitan</td>\n",
       "      <td>vegetarian</td>\n",
       "      <td>NaN</td>\n",
       "    </tr>\n",
       "  </tbody>\n",
       "</table>\n",
       "</div>"
      ],
      "text/plain": [
       "   protein     veg_dim veg_closest\n",
       "0     beef        meat      seitan\n",
       "1     lamb        meat      seitan\n",
       "2     pork        meat      seitan\n",
       "3  chicken        meat      tempeh\n",
       "4     fish        meat        tofu\n",
       "5      egg  vegetarian         NaN\n",
       "6     tofu  vegetarian         NaN\n",
       "7   tempeh  vegetarian         NaN\n",
       "8   seitan  vegetarian         NaN"
      ]
     },
     "execution_count": 21,
     "metadata": {},
     "output_type": "execute_result"
    }
   ],
   "source": [
    "masterdata"
   ]
  },
  {
   "cell_type": "code",
   "execution_count": 28,
   "metadata": {},
   "outputs": [
    {
     "data": {
      "text/plain": [
       "'meat'"
      ]
     },
     "execution_count": 28,
     "metadata": {},
     "output_type": "execute_result"
    }
   ],
   "source": [
    "def proteinType(input_protein, masterdata):\n",
    "    protype = masterdata[masterdata['protein'] == input_protein]['veg_dim'][0]\n",
    "    return protype\n",
    "\n",
    "def proteinSub(input_protein, masterdata):\n",
    "    replacement = masterdata[masterdata['protein'] == input_protein]['veg_closest'][0]\n",
    "    return replacement\n",
    "\n",
    "isVeg('beef', masterdata)"
   ]
  },
  {
   "cell_type": "code",
   "execution_count": 29,
   "metadata": {},
   "outputs": [
    {
     "data": {
      "text/plain": [
       "'seitan'"
      ]
     },
     "execution_count": 29,
     "metadata": {},
     "output_type": "execute_result"
    }
   ],
   "source": [
    "proteinSub('beef', masterdata)"
   ]
  },
  {
   "cell_type": "code",
   "execution_count": null,
   "metadata": {},
   "outputs": [],
   "source": []
  }
 ],
 "metadata": {
  "kernelspec": {
   "display_name": "Python 3",
   "language": "python",
   "name": "python3"
  },
  "language_info": {
   "codemirror_mode": {
    "name": "ipython",
    "version": 3
   },
   "file_extension": ".py",
   "mimetype": "text/x-python",
   "name": "python",
   "nbconvert_exporter": "python",
   "pygments_lexer": "ipython3",
   "version": "3.7.0"
  }
 },
 "nbformat": 4,
 "nbformat_minor": 2
}
